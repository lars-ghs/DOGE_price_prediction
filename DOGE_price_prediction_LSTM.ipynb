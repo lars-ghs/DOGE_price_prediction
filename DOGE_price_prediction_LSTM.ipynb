{
  "nbformat": 4,
  "nbformat_minor": 0,
  "metadata": {
    "colab": {
      "provenance": []
    },
    "kernelspec": {
      "name": "python3",
      "display_name": "Python 3"
    },
    "language_info": {
      "name": "python"
    }
  },
  "cells": [
    {
      "cell_type": "code",
      "metadata": {
        "id": "4C3eqvM3u9yF"
      },
      "source": [
        "# imports:\n",
        "import numpy as np\n",
        "from numpy import array\n",
        "import pandas as pd\n",
        "import tensorflow as tf\n",
        "from tensorflow import keras\n",
        "import seaborn as sns\n",
        "from pylab import rcParams\n",
        "import matplotlib.pyplot as plt\n",
        "%matplotlib inline\n",
        "from matplotlib import rc "
      ],
      "execution_count": null,
      "outputs": []
    },
    {
      "cell_type": "code",
      "metadata": {
        "id": "1O2Ii8HAvYpD"
      },
      "source": [
        "from google.colab import files\n",
        "import io"
      ],
      "execution_count": null,
      "outputs": []
    },
    {
      "cell_type": "code",
      "metadata": {
        "colab": {
          "resources": {
            "http://localhost:8080/nbextensions/google.colab/files.js": {
              "data": "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",
              "ok": true,
              "headers": [
                [
                  "content-type",
                  "application/javascript"
                ]
              ],
              "status": 200,
              "status_text": ""
            }
          },
          "base_uri": "https://localhost:8080/",
          "height": 73
        },
        "id": "2bkF8m3Kvk3q",
        "outputId": "8684556a-e676-4057-aee4-788e2cf0b779"
      },
      "source": [
        "uploaded = files.upload()"
      ],
      "execution_count": null,
      "outputs": [
        {
          "output_type": "display_data",
          "data": {
            "text/html": [
              "\n",
              "     <input type=\"file\" id=\"files-f683a91b-23df-43d9-979e-2781df38f0e2\" name=\"files[]\" multiple disabled\n",
              "        style=\"border:none\" />\n",
              "     <output id=\"result-f683a91b-23df-43d9-979e-2781df38f0e2\">\n",
              "      Upload widget is only available when the cell has been executed in the\n",
              "      current browser session. Please rerun this cell to enable.\n",
              "      </output>\n",
              "      <script src=\"/nbextensions/google.colab/files.js\"></script> "
            ],
            "text/plain": [
              "<IPython.core.display.HTML object>"
            ]
          },
          "metadata": {}
        },
        {
          "output_type": "stream",
          "name": "stdout",
          "text": [
            "Saving dog_mix_log_diff_return1611.csv to dog_mix_log_diff_return1611.csv\n"
          ]
        }
      ]
    },
    {
      "cell_type": "markdown",
      "metadata": {
        "id": "Ow1mHoEEJ1OE"
      },
      "source": [
        "# With means for NAN in financial values: "
      ]
    },
    {
      "cell_type": "markdown",
      "metadata": {
        "id": "1sqdoW0KKREx"
      },
      "source": [
        "## Preparing DF and Train and Test:"
      ]
    },
    {
      "cell_type": "code",
      "metadata": {
        "id": "D4LdWEPRvm3C",
        "colab": {
          "base_uri": "https://localhost:8080/",
          "height": 632
        },
        "outputId": "bb4d0b7a-851f-4da5-c4ba-5e0721b73fb9"
      },
      "source": [
        "df = pd.read_csv(io.BytesIO(uploaded['dog_mix_log_diff_return1611.csv']))\n",
        "df['date'] = pd.to_datetime(df['date'])\n",
        "df.set_index('date', inplace=True)\n",
        "df"
      ],
      "execution_count": null,
      "outputs": [
        {
          "output_type": "execute_result",
          "data": {
            "text/html": [
              "<div>\n",
              "<style scoped>\n",
              "    .dataframe tbody tr th:only-of-type {\n",
              "        vertical-align: middle;\n",
              "    }\n",
              "\n",
              "    .dataframe tbody tr th {\n",
              "        vertical-align: top;\n",
              "    }\n",
              "\n",
              "    .dataframe thead th {\n",
              "        text-align: right;\n",
              "    }\n",
              "</style>\n",
              "<table border=\"1\" class=\"dataframe\">\n",
              "  <thead>\n",
              "    <tr style=\"text-align: right;\">\n",
              "      <th></th>\n",
              "      <th>dog_close</th>\n",
              "      <th>btc_close</th>\n",
              "      <th>eth_close</th>\n",
              "      <th>usdt_close</th>\n",
              "      <th>dog_volume</th>\n",
              "      <th>btc_volume</th>\n",
              "      <th>eth_volume</th>\n",
              "      <th>tw_dog_mean_vader</th>\n",
              "      <th>twd_dog_count</th>\n",
              "      <th>rd_dog_mean_vader</th>\n",
              "      <th>rd_dog_count</th>\n",
              "      <th>gt_dog_adjusted</th>\n",
              "      <th>usdt_volume</th>\n",
              "      <th>close_s&amp;p500</th>\n",
              "      <th>close_vix</th>\n",
              "      <th>close_nasdaq</th>\n",
              "    </tr>\n",
              "    <tr>\n",
              "      <th>date</th>\n",
              "      <th></th>\n",
              "      <th></th>\n",
              "      <th></th>\n",
              "      <th></th>\n",
              "      <th></th>\n",
              "      <th></th>\n",
              "      <th></th>\n",
              "      <th></th>\n",
              "      <th></th>\n",
              "      <th></th>\n",
              "      <th></th>\n",
              "      <th></th>\n",
              "      <th></th>\n",
              "      <th></th>\n",
              "      <th></th>\n",
              "      <th></th>\n",
              "    </tr>\n",
              "  </thead>\n",
              "  <tbody>\n",
              "    <tr>\n",
              "      <th>2020-01-31</th>\n",
              "      <td>-0.019032</td>\n",
              "      <td>-0.016805</td>\n",
              "      <td>-0.024835</td>\n",
              "      <td>-0.000803</td>\n",
              "      <td>-7.448619e+06</td>\n",
              "      <td>-2.946303e+09</td>\n",
              "      <td>-8.761729e+08</td>\n",
              "      <td>0.112299</td>\n",
              "      <td>-1.0</td>\n",
              "      <td>0.053708</td>\n",
              "      <td>11.0</td>\n",
              "      <td>-0.603448</td>\n",
              "      <td>-3.127873e+09</td>\n",
              "      <td>-0.017864</td>\n",
              "      <td>0.195788</td>\n",
              "      <td>-0.016043</td>\n",
              "    </tr>\n",
              "    <tr>\n",
              "      <th>2020-02-01</th>\n",
              "      <td>0.011628</td>\n",
              "      <td>0.004518</td>\n",
              "      <td>0.019316</td>\n",
              "      <td>0.000567</td>\n",
              "      <td>2.211535e+06</td>\n",
              "      <td>-3.509833e+09</td>\n",
              "      <td>-1.589192e+08</td>\n",
              "      <td>-0.040339</td>\n",
              "      <td>-22.0</td>\n",
              "      <td>0.056582</td>\n",
              "      <td>1.0</td>\n",
              "      <td>0.189655</td>\n",
              "      <td>-5.733785e+09</td>\n",
              "      <td>NaN</td>\n",
              "      <td>NaN</td>\n",
              "      <td>NaN</td>\n",
              "    </tr>\n",
              "    <tr>\n",
              "      <th>2020-02-02</th>\n",
              "      <td>0.018814</td>\n",
              "      <td>-0.005178</td>\n",
              "      <td>0.026559</td>\n",
              "      <td>-0.000671</td>\n",
              "      <td>1.282168e+07</td>\n",
              "      <td>4.913080e+09</td>\n",
              "      <td>2.484728e+09</td>\n",
              "      <td>-0.098943</td>\n",
              "      <td>36.0</td>\n",
              "      <td>-0.053853</td>\n",
              "      <td>97.0</td>\n",
              "      <td>0.413793</td>\n",
              "      <td>5.797555e+09</td>\n",
              "      <td>NaN</td>\n",
              "      <td>NaN</td>\n",
              "      <td>NaN</td>\n",
              "    </tr>\n",
              "    <tr>\n",
              "      <th>2020-02-03</th>\n",
              "      <td>-0.011410</td>\n",
              "      <td>-0.005456</td>\n",
              "      <td>0.006592</td>\n",
              "      <td>-0.001631</td>\n",
              "      <td>-1.269588e+07</td>\n",
              "      <td>9.835956e+07</td>\n",
              "      <td>-1.661550e+09</td>\n",
              "      <td>0.037746</td>\n",
              "      <td>-23.0</td>\n",
              "      <td>-0.018528</td>\n",
              "      <td>-96.0</td>\n",
              "      <td>0.071429</td>\n",
              "      <td>-7.111358e+08</td>\n",
              "      <td>0.007228</td>\n",
              "      <td>-0.047279</td>\n",
              "      <td>0.013293</td>\n",
              "    </tr>\n",
              "    <tr>\n",
              "      <th>2020-02-04</th>\n",
              "      <td>0.025492</td>\n",
              "      <td>-0.012185</td>\n",
              "      <td>-0.003242</td>\n",
              "      <td>0.002831</td>\n",
              "      <td>1.093337e+07</td>\n",
              "      <td>-1.040913e+09</td>\n",
              "      <td>-6.786835e+08</td>\n",
              "      <td>-0.069225</td>\n",
              "      <td>17.0</td>\n",
              "      <td>0.022020</td>\n",
              "      <td>16.0</td>\n",
              "      <td>0.500000</td>\n",
              "      <td>-2.898776e+09</td>\n",
              "      <td>0.014869</td>\n",
              "      <td>-0.112995</td>\n",
              "      <td>0.020764</td>\n",
              "    </tr>\n",
              "    <tr>\n",
              "      <th>...</th>\n",
              "      <td>...</td>\n",
              "      <td>...</td>\n",
              "      <td>...</td>\n",
              "      <td>...</td>\n",
              "      <td>...</td>\n",
              "      <td>...</td>\n",
              "      <td>...</td>\n",
              "      <td>...</td>\n",
              "      <td>...</td>\n",
              "      <td>...</td>\n",
              "      <td>...</td>\n",
              "      <td>...</td>\n",
              "      <td>...</td>\n",
              "      <td>...</td>\n",
              "      <td>...</td>\n",
              "      <td>...</td>\n",
              "    </tr>\n",
              "    <tr>\n",
              "      <th>2021-06-25</th>\n",
              "      <td>-0.094221</td>\n",
              "      <td>-0.091305</td>\n",
              "      <td>-0.092256</td>\n",
              "      <td>-0.000304</td>\n",
              "      <td>1.697515e+09</td>\n",
              "      <td>7.107536e+09</td>\n",
              "      <td>2.501489e+09</td>\n",
              "      <td>-0.027545</td>\n",
              "      <td>3106.0</td>\n",
              "      <td>0.016696</td>\n",
              "      <td>3190.0</td>\n",
              "      <td>0.000000</td>\n",
              "      <td>1.180157e+10</td>\n",
              "      <td>0.003325</td>\n",
              "      <td>-0.022160</td>\n",
              "      <td>-0.000649</td>\n",
              "    </tr>\n",
              "    <tr>\n",
              "      <th>2021-06-26</th>\n",
              "      <td>0.023273</td>\n",
              "      <td>0.017188</td>\n",
              "      <td>0.008797</td>\n",
              "      <td>0.001368</td>\n",
              "      <td>-2.892706e+09</td>\n",
              "      <td>-1.645519e+09</td>\n",
              "      <td>-2.136793e+09</td>\n",
              "      <td>0.047197</td>\n",
              "      <td>-6828.0</td>\n",
              "      <td>-0.008770</td>\n",
              "      <td>-6445.0</td>\n",
              "      <td>-3.600000</td>\n",
              "      <td>-6.112977e+09</td>\n",
              "      <td>NaN</td>\n",
              "      <td>NaN</td>\n",
              "      <td>NaN</td>\n",
              "    </tr>\n",
              "    <tr>\n",
              "      <th>2021-06-27</th>\n",
              "      <td>0.077276</td>\n",
              "      <td>0.073747</td>\n",
              "      <td>0.078638</td>\n",
              "      <td>-0.000571</td>\n",
              "      <td>-4.819356e+08</td>\n",
              "      <td>-3.073745e+09</td>\n",
              "      <td>-7.520676e+08</td>\n",
              "      <td>-0.003917</td>\n",
              "      <td>2424.0</td>\n",
              "      <td>0.018671</td>\n",
              "      <td>196.0</td>\n",
              "      <td>-6.000000</td>\n",
              "      <td>-7.165088e+09</td>\n",
              "      <td>NaN</td>\n",
              "      <td>NaN</td>\n",
              "      <td>NaN</td>\n",
              "    </tr>\n",
              "    <tr>\n",
              "      <th>2021-06-28</th>\n",
              "      <td>-0.029133</td>\n",
              "      <td>-0.006233</td>\n",
              "      <td>0.049665</td>\n",
              "      <td>-0.000714</td>\n",
              "      <td>-2.345269e+08</td>\n",
              "      <td>-1.619117e+09</td>\n",
              "      <td>5.629128e+09</td>\n",
              "      <td>0.047648</td>\n",
              "      <td>1159.0</td>\n",
              "      <td>-0.007355</td>\n",
              "      <td>-541.0</td>\n",
              "      <td>3.000000</td>\n",
              "      <td>3.615067e+09</td>\n",
              "      <td>0.002312</td>\n",
              "      <td>0.008923</td>\n",
              "      <td>0.009710</td>\n",
              "    </tr>\n",
              "    <tr>\n",
              "      <th>2021-06-29</th>\n",
              "      <td>0.022756</td>\n",
              "      <td>0.040785</td>\n",
              "      <td>0.038261</td>\n",
              "      <td>0.000096</td>\n",
              "      <td>2.595680e+08</td>\n",
              "      <td>4.008936e+09</td>\n",
              "      <td>-6.994784e+08</td>\n",
              "      <td>-0.059719</td>\n",
              "      <td>-2326.0</td>\n",
              "      <td>-0.006538</td>\n",
              "      <td>57.0</td>\n",
              "      <td>0.000000</td>\n",
              "      <td>8.094669e+09</td>\n",
              "      <td>0.000277</td>\n",
              "      <td>0.016363</td>\n",
              "      <td>0.001917</td>\n",
              "    </tr>\n",
              "  </tbody>\n",
              "</table>\n",
              "<p>516 rows × 16 columns</p>\n",
              "</div>"
            ],
            "text/plain": [
              "            dog_close  btc_close  ...  close_vix  close_nasdaq\n",
              "date                              ...                         \n",
              "2020-01-31  -0.019032  -0.016805  ...   0.195788     -0.016043\n",
              "2020-02-01   0.011628   0.004518  ...        NaN           NaN\n",
              "2020-02-02   0.018814  -0.005178  ...        NaN           NaN\n",
              "2020-02-03  -0.011410  -0.005456  ...  -0.047279      0.013293\n",
              "2020-02-04   0.025492  -0.012185  ...  -0.112995      0.020764\n",
              "...               ...        ...  ...        ...           ...\n",
              "2021-06-25  -0.094221  -0.091305  ...  -0.022160     -0.000649\n",
              "2021-06-26   0.023273   0.017188  ...        NaN           NaN\n",
              "2021-06-27   0.077276   0.073747  ...        NaN           NaN\n",
              "2021-06-28  -0.029133  -0.006233  ...   0.008923      0.009710\n",
              "2021-06-29   0.022756   0.040785  ...   0.016363      0.001917\n",
              "\n",
              "[516 rows x 16 columns]"
            ]
          },
          "metadata": {},
          "execution_count": 4
        }
      ]
    },
    {
      "cell_type": "code",
      "metadata": {
        "id": "gkMCTwFzz1PU"
      },
      "source": [
        "columns = ['close_s&p500','close_vix','close_nasdaq']\n",
        "df1 = df.copy()\n",
        "df1 = df1.fillna(df.mean())"
      ],
      "execution_count": null,
      "outputs": []
    },
    {
      "cell_type": "code",
      "metadata": {
        "id": "U1OE-qof3U9F",
        "colab": {
          "base_uri": "https://localhost:8080/",
          "height": 314
        },
        "outputId": "07378136-0c8b-4cd3-db51-8e654631f3be"
      },
      "source": [
        "df1.describe()"
      ],
      "execution_count": null,
      "outputs": [
        {
          "output_type": "execute_result",
          "data": {
            "text/html": [
              "<div>\n",
              "<style scoped>\n",
              "    .dataframe tbody tr th:only-of-type {\n",
              "        vertical-align: middle;\n",
              "    }\n",
              "\n",
              "    .dataframe tbody tr th {\n",
              "        vertical-align: top;\n",
              "    }\n",
              "\n",
              "    .dataframe thead th {\n",
              "        text-align: right;\n",
              "    }\n",
              "</style>\n",
              "<table border=\"1\" class=\"dataframe\">\n",
              "  <thead>\n",
              "    <tr style=\"text-align: right;\">\n",
              "      <th></th>\n",
              "      <th>dog_close</th>\n",
              "      <th>btc_close</th>\n",
              "      <th>eth_close</th>\n",
              "      <th>usdt_close</th>\n",
              "      <th>dog_volume</th>\n",
              "      <th>btc_volume</th>\n",
              "      <th>eth_volume</th>\n",
              "      <th>tw_dog_mean_vader</th>\n",
              "      <th>twd_dog_count</th>\n",
              "      <th>rd_dog_mean_vader</th>\n",
              "      <th>rd_dog_count</th>\n",
              "      <th>gt_dog_adjusted</th>\n",
              "      <th>usdt_volume</th>\n",
              "      <th>close_s&amp;p500</th>\n",
              "      <th>close_vix</th>\n",
              "      <th>close_nasdaq</th>\n",
              "    </tr>\n",
              "  </thead>\n",
              "  <tbody>\n",
              "    <tr>\n",
              "      <th>count</th>\n",
              "      <td>516.000000</td>\n",
              "      <td>516.000000</td>\n",
              "      <td>516.000000</td>\n",
              "      <td>516.000000</td>\n",
              "      <td>5.160000e+02</td>\n",
              "      <td>5.160000e+02</td>\n",
              "      <td>5.160000e+02</td>\n",
              "      <td>516.000000</td>\n",
              "      <td>516.000000</td>\n",
              "      <td>516.000000</td>\n",
              "      <td>516.000000</td>\n",
              "      <td>516.000000</td>\n",
              "      <td>5.160000e+02</td>\n",
              "      <td>516.000000</td>\n",
              "      <td>516.000000</td>\n",
              "      <td>516.000000</td>\n",
              "    </tr>\n",
              "    <tr>\n",
              "      <th>mean</th>\n",
              "      <td>0.009068</td>\n",
              "      <td>0.002573</td>\n",
              "      <td>0.004767</td>\n",
              "      <td>-0.000003</td>\n",
              "      <td>4.086424e+06</td>\n",
              "      <td>1.070284e+07</td>\n",
              "      <td>2.366344e+07</td>\n",
              "      <td>-0.000114</td>\n",
              "      <td>10.843023</td>\n",
              "      <td>-0.000099</td>\n",
              "      <td>14.017442</td>\n",
              "      <td>0.027132</td>\n",
              "      <td>4.117007e+07</td>\n",
              "      <td>0.000752</td>\n",
              "      <td>0.000095</td>\n",
              "      <td>0.001253</td>\n",
              "    </tr>\n",
              "    <tr>\n",
              "      <th>std</th>\n",
              "      <td>0.111940</td>\n",
              "      <td>0.043944</td>\n",
              "      <td>0.058856</td>\n",
              "      <td>0.004718</td>\n",
              "      <td>4.292960e+09</td>\n",
              "      <td>2.165411e+10</td>\n",
              "      <td>6.045298e+09</td>\n",
              "      <td>0.058039</td>\n",
              "      <td>13324.707437</td>\n",
              "      <td>0.078951</td>\n",
              "      <td>10659.593543</td>\n",
              "      <td>296.478120</td>\n",
              "      <td>1.892601e+10</td>\n",
              "      <td>0.015803</td>\n",
              "      <td>0.074710</td>\n",
              "      <td>0.016877</td>\n",
              "    </tr>\n",
              "    <tr>\n",
              "      <th>min</th>\n",
              "      <td>-0.515118</td>\n",
              "      <td>-0.464730</td>\n",
              "      <td>-0.550732</td>\n",
              "      <td>-0.052570</td>\n",
              "      <td>-3.799728e+10</td>\n",
              "      <td>-3.050570e+11</td>\n",
              "      <td>-3.022394e+10</td>\n",
              "      <td>-0.327033</td>\n",
              "      <td>-164413.000000</td>\n",
              "      <td>-0.329392</td>\n",
              "      <td>-75808.000000</td>\n",
              "      <td>-3780.000000</td>\n",
              "      <td>-9.566314e+10</td>\n",
              "      <td>-0.127652</td>\n",
              "      <td>-0.266228</td>\n",
              "      <td>-0.131492</td>\n",
              "    </tr>\n",
              "    <tr>\n",
              "      <th>25%</th>\n",
              "      <td>-0.022799</td>\n",
              "      <td>-0.013953</td>\n",
              "      <td>-0.020265</td>\n",
              "      <td>-0.000750</td>\n",
              "      <td>-3.025735e+07</td>\n",
              "      <td>-4.385983e+09</td>\n",
              "      <td>-2.316805e+09</td>\n",
              "      <td>-0.027247</td>\n",
              "      <td>-52.000000</td>\n",
              "      <td>-0.026467</td>\n",
              "      <td>-45.000000</td>\n",
              "      <td>-0.492021</td>\n",
              "      <td>-6.670556e+09</td>\n",
              "      <td>-0.001590</td>\n",
              "      <td>-0.029311</td>\n",
              "      <td>-0.000966</td>\n",
              "    </tr>\n",
              "    <tr>\n",
              "      <th>50%</th>\n",
              "      <td>0.000000</td>\n",
              "      <td>0.002496</td>\n",
              "      <td>0.005985</td>\n",
              "      <td>-0.000008</td>\n",
              "      <td>-2.667508e+06</td>\n",
              "      <td>-1.558302e+08</td>\n",
              "      <td>-2.454842e+06</td>\n",
              "      <td>0.001044</td>\n",
              "      <td>-4.000000</td>\n",
              "      <td>0.000652</td>\n",
              "      <td>-3.000000</td>\n",
              "      <td>0.000000</td>\n",
              "      <td>1.899312e+06</td>\n",
              "      <td>0.000752</td>\n",
              "      <td>0.000095</td>\n",
              "      <td>0.001253</td>\n",
              "    </tr>\n",
              "    <tr>\n",
              "      <th>75%</th>\n",
              "      <td>0.020884</td>\n",
              "      <td>0.020317</td>\n",
              "      <td>0.033272</td>\n",
              "      <td>0.000862</td>\n",
              "      <td>1.510489e+07</td>\n",
              "      <td>4.775606e+09</td>\n",
              "      <td>2.019769e+09</td>\n",
              "      <td>0.028377</td>\n",
              "      <td>37.250000</td>\n",
              "      <td>0.029716</td>\n",
              "      <td>30.000000</td>\n",
              "      <td>0.285714</td>\n",
              "      <td>6.962274e+09</td>\n",
              "      <td>0.005211</td>\n",
              "      <td>0.012472</td>\n",
              "      <td>0.007166</td>\n",
              "    </tr>\n",
              "    <tr>\n",
              "      <th>max</th>\n",
              "      <td>1.323469</td>\n",
              "      <td>0.171821</td>\n",
              "      <td>0.230695</td>\n",
              "      <td>0.053393</td>\n",
              "      <td>5.149406e+10</td>\n",
              "      <td>2.964614e+11</td>\n",
              "      <td>4.406639e+10</td>\n",
              "      <td>0.456256</td>\n",
              "      <td>146884.000000</td>\n",
              "      <td>0.289818</td>\n",
              "      <td>193146.000000</td>\n",
              "      <td>4800.000000</td>\n",
              "      <td>1.395697e+11</td>\n",
              "      <td>0.089683</td>\n",
              "      <td>0.480214</td>\n",
              "      <td>0.089347</td>\n",
              "    </tr>\n",
              "  </tbody>\n",
              "</table>\n",
              "</div>"
            ],
            "text/plain": [
              "        dog_close   btc_close  ...   close_vix  close_nasdaq\n",
              "count  516.000000  516.000000  ...  516.000000    516.000000\n",
              "mean     0.009068    0.002573  ...    0.000095      0.001253\n",
              "std      0.111940    0.043944  ...    0.074710      0.016877\n",
              "min     -0.515118   -0.464730  ...   -0.266228     -0.131492\n",
              "25%     -0.022799   -0.013953  ...   -0.029311     -0.000966\n",
              "50%      0.000000    0.002496  ...    0.000095      0.001253\n",
              "75%      0.020884    0.020317  ...    0.012472      0.007166\n",
              "max      1.323469    0.171821  ...    0.480214      0.089347\n",
              "\n",
              "[8 rows x 16 columns]"
            ]
          },
          "metadata": {},
          "execution_count": 6
        }
      ]
    },
    {
      "cell_type": "code",
      "metadata": {
        "id": "rE0MWUVL0c85",
        "colab": {
          "base_uri": "https://localhost:8080/"
        },
        "outputId": "1b541d20-526d-4dea-862d-ad25b2f9ac0b"
      },
      "source": [
        "# defining tran and test: \n",
        "train_size = int(len(df1)*0.9)\n",
        "test_size = len(df1) - train_size \n",
        "\n",
        "train,test=df1.iloc[0:train_size],df1.iloc[train_size:len(df1)]\n",
        "print(len(train),len(test))"
      ],
      "execution_count": null,
      "outputs": [
        {
          "output_type": "stream",
          "name": "stdout",
          "text": [
            "464 52\n"
          ]
        }
      ]
    },
    {
      "cell_type": "markdown",
      "metadata": {
        "id": "jJhoewYjKnHG"
      },
      "source": [
        "## Preparing for Time Series Forecasting\n",
        "\n",
        "This step changes data s that value at current time step will be predicted byy using the history with n time steps form it "
      ]
    },
    {
      "cell_type": "code",
      "metadata": {
        "id": "VwSlZfxR1Bbh"
      },
      "source": [
        "def create_dataset(X,y,time_steps=1):\n",
        "  Xs,ys = [],[]\n",
        "  for i in range(len(X)-time_steps):\n",
        "    v = X.iloc[i:(i+time_steps)].values \n",
        "    Xs.append(v)\n",
        "    ys.append(y.iloc[i+time_steps])\n",
        "  return np.array(Xs),np.array(ys)"
      ],
      "execution_count": null,
      "outputs": []
    },
    {
      "cell_type": "code",
      "metadata": {
        "id": "gufxT6JW2Knm"
      },
      "source": [
        "time_steps = 5"
      ],
      "execution_count": null,
      "outputs": []
    },
    {
      "cell_type": "code",
      "metadata": {
        "id": "dSblndBb2OTf"
      },
      "source": [
        "X_train,y_train=create_dataset(train,train.dog_close,time_steps)\n",
        "X_test,y_test=create_dataset(test,test.dog_close,time_steps)"
      ],
      "execution_count": null,
      "outputs": []
    },
    {
      "cell_type": "code",
      "metadata": {
        "id": "mOiSaSLEFx_N",
        "colab": {
          "base_uri": "https://localhost:8080/"
        },
        "outputId": "4bfe7a1f-14ad-44d3-c448-552a88cd3e16"
      },
      "source": [
        "print(X_train.shape,y_train.shape)"
      ],
      "execution_count": null,
      "outputs": [
        {
          "output_type": "stream",
          "name": "stdout",
          "text": [
            "(459, 5, 16) (459,)\n"
          ]
        }
      ]
    },
    {
      "cell_type": "code",
      "metadata": {
        "id": "dCdtB2bZFV-N",
        "colab": {
          "base_uri": "https://localhost:8080/"
        },
        "outputId": "9a495dee-636e-4227-a542-93ae9a867722"
      },
      "source": [
        "print(X_train[0],y_train[0])"
      ],
      "execution_count": null,
      "outputs": [
        {
          "output_type": "stream",
          "name": "stdout",
          "text": [
            "[[-1.90324322e-02 -1.68050487e-02 -2.48350161e-02 -8.03156729e-04\n",
            "  -7.44861900e+06 -2.94630313e+09 -8.76172944e+08  1.12299458e-01\n",
            "  -1.00000000e+00  5.37079215e-02  1.10000000e+01 -6.03448276e-01\n",
            "  -3.12787275e+09 -1.78644764e-02  1.95787615e-01 -1.60426530e-02]\n",
            " [ 1.16280380e-02  4.51847214e-03  1.93158752e-02  5.67471132e-04\n",
            "   2.21153500e+06 -3.50983322e+09 -1.58919212e+08 -4.03392175e-02\n",
            "  -2.20000000e+01  5.65821353e-02  1.00000000e+00  1.89655172e-01\n",
            "  -5.73378539e+09  7.52099920e-04  9.45036158e-05  1.25337426e-03]\n",
            " [ 1.88144609e-02 -5.17791028e-03  2.65591815e-02 -6.71409185e-04\n",
            "   1.28216850e+07  4.91308045e+09  2.48472821e+09 -9.89434258e-02\n",
            "   3.60000000e+01 -5.38532882e-02  9.70000000e+01  4.13793103e-01\n",
            "   5.79755523e+09  7.52099920e-04  9.45036158e-05  1.25337426e-03]\n",
            " [-1.14100667e-02 -5.45597008e-03  6.59228985e-03 -1.63144330e-03\n",
            "  -1.26958840e+07  9.83595630e+07 -1.66155015e+09  3.77462764e-02\n",
            "  -2.30000000e+01 -1.85282270e-02 -9.60000000e+01  7.14285714e-02\n",
            "  -7.11135825e+08  7.22845586e-03 -4.72786240e-02  1.32934758e-02]\n",
            " [ 2.54919731e-02 -1.21854536e-02 -3.24160988e-03  2.83107047e-03\n",
            "   1.09333710e+07 -1.04091279e+09 -6.78683546e+08 -6.92245128e-02\n",
            "   1.70000000e+01  2.20198907e-02  1.60000000e+01  5.00000000e-01\n",
            "  -2.89877596e+09  1.48692652e-02 -1.12994858e-01  2.07643652e-02]] 0.031074279974813383\n"
          ]
        }
      ]
    },
    {
      "cell_type": "markdown",
      "metadata": {
        "id": "apVb5ebDGHmh"
      },
      "source": [
        "## Modeling\n",
        "\n",
        "Sequential LSTM  Keras Model"
      ]
    },
    {
      "cell_type": "code",
      "metadata": {
        "id": "7gYGcvqP2-pL",
        "colab": {
          "base_uri": "https://localhost:8080/"
        },
        "outputId": "7ff91f83-c5ec-44e3-e6aa-5694c69970c6"
      },
      "source": [
        "print('Input shape is:',X_train.shape[1],X_train.shape[2])\n",
        "model = keras.Sequential()\n",
        "model.add(keras.layers.LSTM(\n",
        "    units = 128,\n",
        "    input_shape=(X_train.shape[1],X_train.shape[2])\n",
        "))\n",
        "model.add(keras.layers.Dense(units=1))\n",
        "model.compile(\n",
        "    loss = 'mean_squared_error',\n",
        "    optimizer = keras.optimizers.Adam(0.001)\n",
        ")"
      ],
      "execution_count": null,
      "outputs": [
        {
          "output_type": "stream",
          "name": "stdout",
          "text": [
            "Input shape is: 5 16\n"
          ]
        }
      ]
    },
    {
      "cell_type": "markdown",
      "metadata": {
        "id": "PSMdc1BiH2wK"
      },
      "source": [
        "### Training: "
      ]
    },
    {
      "cell_type": "code",
      "metadata": {
        "id": "zAw16dNgHzcC"
      },
      "source": [
        "history = model.fit(\n",
        "    X_train,y_train,\n",
        "    epochs=300,\n",
        "    batch_size=16,\n",
        "    validation_split = 0.1,\n",
        "    verbose=0,\n",
        "    shuffle=False\n",
        ")"
      ],
      "execution_count": null,
      "outputs": []
    },
    {
      "cell_type": "code",
      "metadata": {
        "id": "ZcWbVORPIDwT",
        "colab": {
          "base_uri": "https://localhost:8080/",
          "height": 282
        },
        "outputId": "c4aa0dad-b54f-4ae1-ede6-a23897f495e8"
      },
      "source": [
        "plt.plot(history.history['loss'], label='Training loss')\n",
        "plt.plot(history.history['val_loss'], label='Validation loss')\n",
        "plt.legend()"
      ],
      "execution_count": null,
      "outputs": [
        {
          "output_type": "execute_result",
          "data": {
            "text/plain": [
              "<matplotlib.legend.Legend at 0x7f0aa4f02a90>"
            ]
          },
          "metadata": {},
          "execution_count": 15
        },
        {
          "output_type": "display_data",
          "data": {
            "image/png": "[encoded data removed]",
            "text/plain": [
              "<Figure size 432x288 with 1 Axes>"
            ]
          },
          "metadata": {
            "needs_background": "light"
          }
        }
      ]
    },
    {
      "cell_type": "markdown",
      "metadata": {
        "id": "puWLeXkmIiCt"
      },
      "source": [
        "## Making Predictions: "
      ]
    },
    {
      "cell_type": "code",
      "metadata": {
        "id": "R6Dvuf_ZIXLj"
      },
      "source": [
        "y_pred=model.predict(X_test)"
      ],
      "execution_count": null,
      "outputs": []
    },
    {
      "cell_type": "code",
      "metadata": {
        "id": "Xw0C4NFvInJo",
        "colab": {
          "base_uri": "https://localhost:8080/",
          "height": 278
        },
        "outputId": "e838dfb0-3377-45f8-b68e-66bce9c39ece"
      },
      "source": [
        "plt.plot(np.arange(0, len(y_train)), y_train, 'g', label=\"history\")\n",
        "plt.plot(np.arange(len(y_train), len(y_train) + len(y_test)), y_test, marker='.', label=\"true\")\n",
        "plt.plot(np.arange(len(y_train), len(y_train) + len(y_test)), y_pred, 'r', label=\"prediction\")\n",
        "plt.ylabel('ETH Close')\n",
        "plt.xlabel('Time Step')\n",
        "plt.legend()\n",
        "plt.show();"
      ],
      "execution_count": null,
      "outputs": [
        {
          "output_type": "display_data",
          "data": {
            "image/png": "[encoded data removed]",
            "text/plain": [
              "<Figure size 432x288 with 1 Axes>"
            ]
          },
          "metadata": {
            "needs_background": "light"
          }
        }
      ]
    },
    {
      "cell_type": "code",
      "metadata": {
        "id": "PJr3kp8eJEPO",
        "colab": {
          "base_uri": "https://localhost:8080/",
          "height": 278
        },
        "outputId": "1298fbbc-03e4-4f99-c349-9b92ca90eaa3"
      },
      "source": [
        "plt.plot(y_test, marker='.', label=\"true\")\n",
        "plt.plot(y_pred, 'r', label=\"prediction\")\n",
        "plt.ylabel('ETH Close')\n",
        "plt.xlabel('Time Step')\n",
        "plt.legend()\n",
        "plt.show();"
      ],
      "execution_count": null,
      "outputs": [
        {
          "output_type": "display_data",
          "data": {
            "image/png": "[encoded data removed]",
            "text/plain": [
              "<Figure size 432x288 with 1 Axes>"
            ]
          },
          "metadata": {
            "needs_background": "light"
          }
        }
      ]
    },
    {
      "cell_type": "code",
      "metadata": {
        "id": "uecuXZqhPHu8",
        "colab": {
          "base_uri": "https://localhost:8080/"
        },
        "outputId": "4b312c61-669d-4fae-f148-72150c2a24d9"
      },
      "source": [
        "import sklearn.metrics as sm\n",
        "print(\"Mean absolute error =\", \n",
        "      round(sm.mean_absolute_error(y_test, y_pred), 5)) \n",
        "print(\"Mean squared error =\", \n",
        "      round(sm.mean_squared_error(y_test, y_pred), 5)) \n",
        "print(\"Root mean squared error:\",\n",
        "      round(sm.mean_squared_error(y_test,y_pred)**0.5,5))\n",
        "print(\"Median absolute error =\", \n",
        "      round(sm.median_absolute_error(y_test, y_pred), 5)) \n",
        "print(\"Explain variance score =\", \n",
        "      round(sm.explained_variance_score(y_test, y_pred), 5)) \n",
        "print(\"R2 score =\", \n",
        "      round(sm.r2_score(y_test, y_pred), 5))"
      ],
      "execution_count": null,
      "outputs": [
        {
          "output_type": "stream",
          "name": "stdout",
          "text": [
            "Mean absolute error = 0.10761\n",
            "Mean squared error = 0.02109\n",
            "Root mean squared error: 0.14522\n",
            "Median absolute error = 0.07617\n",
            "Explain variance score = -0.59129\n",
            "R2 score = -0.63673\n"
          ]
        }
      ]
    },
    {
      "cell_type": "markdown",
      "metadata": {
        "id": "YMsc57WvJ_mZ"
      },
      "source": [
        "# With -1 as NaN Value: "
      ]
    },
    {
      "cell_type": "markdown",
      "metadata": {
        "id": "Iuvw6ceZK3JF"
      },
      "source": [
        "## Preparing DF and Train and Test:"
      ]
    },
    {
      "cell_type": "code",
      "metadata": {
        "id": "Mhk_n6dfJc48",
        "colab": {
          "base_uri": "https://localhost:8080/",
          "height": 335
        },
        "outputId": "4ee24046-c23a-4471-ac5f-7d78937a64cd"
      },
      "source": [
        "df = pd.read_csv(io.BytesIO(uploaded['dog_mix_log_diff_return1611.csv']))\n",
        "df['date'] = pd.to_datetime(df['date'])\n",
        "df.set_index('date', inplace=True)\n",
        "df.head()"
      ],
      "execution_count": null,
      "outputs": [
        {
          "output_type": "execute_result",
          "data": {
            "text/html": [
              "<div>\n",
              "<style scoped>\n",
              "    .dataframe tbody tr th:only-of-type {\n",
              "        vertical-align: middle;\n",
              "    }\n",
              "\n",
              "    .dataframe tbody tr th {\n",
              "        vertical-align: top;\n",
              "    }\n",
              "\n",
              "    .dataframe thead th {\n",
              "        text-align: right;\n",
              "    }\n",
              "</style>\n",
              "<table border=\"1\" class=\"dataframe\">\n",
              "  <thead>\n",
              "    <tr style=\"text-align: right;\">\n",
              "      <th></th>\n",
              "      <th>dog_close</th>\n",
              "      <th>btc_close</th>\n",
              "      <th>eth_close</th>\n",
              "      <th>usdt_close</th>\n",
              "      <th>dog_volume</th>\n",
              "      <th>btc_volume</th>\n",
              "      <th>eth_volume</th>\n",
              "      <th>tw_dog_mean_vader</th>\n",
              "      <th>twd_dog_count</th>\n",
              "      <th>rd_dog_mean_vader</th>\n",
              "      <th>rd_dog_count</th>\n",
              "      <th>gt_dog_adjusted</th>\n",
              "      <th>usdt_volume</th>\n",
              "      <th>close_s&amp;p500</th>\n",
              "      <th>close_vix</th>\n",
              "      <th>close_nasdaq</th>\n",
              "    </tr>\n",
              "    <tr>\n",
              "      <th>date</th>\n",
              "      <th></th>\n",
              "      <th></th>\n",
              "      <th></th>\n",
              "      <th></th>\n",
              "      <th></th>\n",
              "      <th></th>\n",
              "      <th></th>\n",
              "      <th></th>\n",
              "      <th></th>\n",
              "      <th></th>\n",
              "      <th></th>\n",
              "      <th></th>\n",
              "      <th></th>\n",
              "      <th></th>\n",
              "      <th></th>\n",
              "      <th></th>\n",
              "    </tr>\n",
              "  </thead>\n",
              "  <tbody>\n",
              "    <tr>\n",
              "      <th>2020-01-31</th>\n",
              "      <td>-0.019032</td>\n",
              "      <td>-0.016805</td>\n",
              "      <td>-0.024835</td>\n",
              "      <td>-0.000803</td>\n",
              "      <td>-7448619.0</td>\n",
              "      <td>-2.946303e+09</td>\n",
              "      <td>-8.761729e+08</td>\n",
              "      <td>0.112299</td>\n",
              "      <td>-1.0</td>\n",
              "      <td>0.053708</td>\n",
              "      <td>11.0</td>\n",
              "      <td>-0.603448</td>\n",
              "      <td>-3.127873e+09</td>\n",
              "      <td>-0.017864</td>\n",
              "      <td>0.195788</td>\n",
              "      <td>-0.016043</td>\n",
              "    </tr>\n",
              "    <tr>\n",
              "      <th>2020-02-01</th>\n",
              "      <td>0.011628</td>\n",
              "      <td>0.004518</td>\n",
              "      <td>0.019316</td>\n",
              "      <td>0.000567</td>\n",
              "      <td>2211535.0</td>\n",
              "      <td>-3.509833e+09</td>\n",
              "      <td>-1.589192e+08</td>\n",
              "      <td>-0.040339</td>\n",
              "      <td>-22.0</td>\n",
              "      <td>0.056582</td>\n",
              "      <td>1.0</td>\n",
              "      <td>0.189655</td>\n",
              "      <td>-5.733785e+09</td>\n",
              "      <td>NaN</td>\n",
              "      <td>NaN</td>\n",
              "      <td>NaN</td>\n",
              "    </tr>\n",
              "    <tr>\n",
              "      <th>2020-02-02</th>\n",
              "      <td>0.018814</td>\n",
              "      <td>-0.005178</td>\n",
              "      <td>0.026559</td>\n",
              "      <td>-0.000671</td>\n",
              "      <td>12821685.0</td>\n",
              "      <td>4.913080e+09</td>\n",
              "      <td>2.484728e+09</td>\n",
              "      <td>-0.098943</td>\n",
              "      <td>36.0</td>\n",
              "      <td>-0.053853</td>\n",
              "      <td>97.0</td>\n",
              "      <td>0.413793</td>\n",
              "      <td>5.797555e+09</td>\n",
              "      <td>NaN</td>\n",
              "      <td>NaN</td>\n",
              "      <td>NaN</td>\n",
              "    </tr>\n",
              "    <tr>\n",
              "      <th>2020-02-03</th>\n",
              "      <td>-0.011410</td>\n",
              "      <td>-0.005456</td>\n",
              "      <td>0.006592</td>\n",
              "      <td>-0.001631</td>\n",
              "      <td>-12695884.0</td>\n",
              "      <td>9.835956e+07</td>\n",
              "      <td>-1.661550e+09</td>\n",
              "      <td>0.037746</td>\n",
              "      <td>-23.0</td>\n",
              "      <td>-0.018528</td>\n",
              "      <td>-96.0</td>\n",
              "      <td>0.071429</td>\n",
              "      <td>-7.111358e+08</td>\n",
              "      <td>0.007228</td>\n",
              "      <td>-0.047279</td>\n",
              "      <td>0.013293</td>\n",
              "    </tr>\n",
              "    <tr>\n",
              "      <th>2020-02-04</th>\n",
              "      <td>0.025492</td>\n",
              "      <td>-0.012185</td>\n",
              "      <td>-0.003242</td>\n",
              "      <td>0.002831</td>\n",
              "      <td>10933371.0</td>\n",
              "      <td>-1.040913e+09</td>\n",
              "      <td>-6.786835e+08</td>\n",
              "      <td>-0.069225</td>\n",
              "      <td>17.0</td>\n",
              "      <td>0.022020</td>\n",
              "      <td>16.0</td>\n",
              "      <td>0.500000</td>\n",
              "      <td>-2.898776e+09</td>\n",
              "      <td>0.014869</td>\n",
              "      <td>-0.112995</td>\n",
              "      <td>0.020764</td>\n",
              "    </tr>\n",
              "  </tbody>\n",
              "</table>\n",
              "</div>"
            ],
            "text/plain": [
              "            dog_close  btc_close  ...  close_vix  close_nasdaq\n",
              "date                              ...                         \n",
              "2020-01-31  -0.019032  -0.016805  ...   0.195788     -0.016043\n",
              "2020-02-01   0.011628   0.004518  ...        NaN           NaN\n",
              "2020-02-02   0.018814  -0.005178  ...        NaN           NaN\n",
              "2020-02-03  -0.011410  -0.005456  ...  -0.047279      0.013293\n",
              "2020-02-04   0.025492  -0.012185  ...  -0.112995      0.020764\n",
              "\n",
              "[5 rows x 16 columns]"
            ]
          },
          "metadata": {},
          "execution_count": 20
        }
      ]
    },
    {
      "cell_type": "code",
      "metadata": {
        "id": "9K-Z-NVXKG4p",
        "colab": {
          "base_uri": "https://localhost:8080/",
          "height": 335
        },
        "outputId": "d5621351-b826-4524-bab1-baac99561137"
      },
      "source": [
        "columns = ['close_s&p500','close_vix','close_nasdaq']\n",
        "df2 = df.copy()\n",
        "df2 = df1.fillna(-1)\n",
        "df2.head()"
      ],
      "execution_count": null,
      "outputs": [
        {
          "output_type": "execute_result",
          "data": {
            "text/html": [
              "<div>\n",
              "<style scoped>\n",
              "    .dataframe tbody tr th:only-of-type {\n",
              "        vertical-align: middle;\n",
              "    }\n",
              "\n",
              "    .dataframe tbody tr th {\n",
              "        vertical-align: top;\n",
              "    }\n",
              "\n",
              "    .dataframe thead th {\n",
              "        text-align: right;\n",
              "    }\n",
              "</style>\n",
              "<table border=\"1\" class=\"dataframe\">\n",
              "  <thead>\n",
              "    <tr style=\"text-align: right;\">\n",
              "      <th></th>\n",
              "      <th>dog_close</th>\n",
              "      <th>btc_close</th>\n",
              "      <th>eth_close</th>\n",
              "      <th>usdt_close</th>\n",
              "      <th>dog_volume</th>\n",
              "      <th>btc_volume</th>\n",
              "      <th>eth_volume</th>\n",
              "      <th>tw_dog_mean_vader</th>\n",
              "      <th>twd_dog_count</th>\n",
              "      <th>rd_dog_mean_vader</th>\n",
              "      <th>rd_dog_count</th>\n",
              "      <th>gt_dog_adjusted</th>\n",
              "      <th>usdt_volume</th>\n",
              "      <th>close_s&amp;p500</th>\n",
              "      <th>close_vix</th>\n",
              "      <th>close_nasdaq</th>\n",
              "    </tr>\n",
              "    <tr>\n",
              "      <th>date</th>\n",
              "      <th></th>\n",
              "      <th></th>\n",
              "      <th></th>\n",
              "      <th></th>\n",
              "      <th></th>\n",
              "      <th></th>\n",
              "      <th></th>\n",
              "      <th></th>\n",
              "      <th></th>\n",
              "      <th></th>\n",
              "      <th></th>\n",
              "      <th></th>\n",
              "      <th></th>\n",
              "      <th></th>\n",
              "      <th></th>\n",
              "      <th></th>\n",
              "    </tr>\n",
              "  </thead>\n",
              "  <tbody>\n",
              "    <tr>\n",
              "      <th>2020-01-31</th>\n",
              "      <td>-0.019032</td>\n",
              "      <td>-0.016805</td>\n",
              "      <td>-0.024835</td>\n",
              "      <td>-0.000803</td>\n",
              "      <td>-7448619.0</td>\n",
              "      <td>-2.946303e+09</td>\n",
              "      <td>-8.761729e+08</td>\n",
              "      <td>0.112299</td>\n",
              "      <td>-1.0</td>\n",
              "      <td>0.053708</td>\n",
              "      <td>11.0</td>\n",
              "      <td>-0.603448</td>\n",
              "      <td>-3.127873e+09</td>\n",
              "      <td>-0.017864</td>\n",
              "      <td>0.195788</td>\n",
              "      <td>-0.016043</td>\n",
              "    </tr>\n",
              "    <tr>\n",
              "      <th>2020-02-01</th>\n",
              "      <td>0.011628</td>\n",
              "      <td>0.004518</td>\n",
              "      <td>0.019316</td>\n",
              "      <td>0.000567</td>\n",
              "      <td>2211535.0</td>\n",
              "      <td>-3.509833e+09</td>\n",
              "      <td>-1.589192e+08</td>\n",
              "      <td>-0.040339</td>\n",
              "      <td>-22.0</td>\n",
              "      <td>0.056582</td>\n",
              "      <td>1.0</td>\n",
              "      <td>0.189655</td>\n",
              "      <td>-5.733785e+09</td>\n",
              "      <td>0.000752</td>\n",
              "      <td>0.000095</td>\n",
              "      <td>0.001253</td>\n",
              "    </tr>\n",
              "    <tr>\n",
              "      <th>2020-02-02</th>\n",
              "      <td>0.018814</td>\n",
              "      <td>-0.005178</td>\n",
              "      <td>0.026559</td>\n",
              "      <td>-0.000671</td>\n",
              "      <td>12821685.0</td>\n",
              "      <td>4.913080e+09</td>\n",
              "      <td>2.484728e+09</td>\n",
              "      <td>-0.098943</td>\n",
              "      <td>36.0</td>\n",
              "      <td>-0.053853</td>\n",
              "      <td>97.0</td>\n",
              "      <td>0.413793</td>\n",
              "      <td>5.797555e+09</td>\n",
              "      <td>0.000752</td>\n",
              "      <td>0.000095</td>\n",
              "      <td>0.001253</td>\n",
              "    </tr>\n",
              "    <tr>\n",
              "      <th>2020-02-03</th>\n",
              "      <td>-0.011410</td>\n",
              "      <td>-0.005456</td>\n",
              "      <td>0.006592</td>\n",
              "      <td>-0.001631</td>\n",
              "      <td>-12695884.0</td>\n",
              "      <td>9.835956e+07</td>\n",
              "      <td>-1.661550e+09</td>\n",
              "      <td>0.037746</td>\n",
              "      <td>-23.0</td>\n",
              "      <td>-0.018528</td>\n",
              "      <td>-96.0</td>\n",
              "      <td>0.071429</td>\n",
              "      <td>-7.111358e+08</td>\n",
              "      <td>0.007228</td>\n",
              "      <td>-0.047279</td>\n",
              "      <td>0.013293</td>\n",
              "    </tr>\n",
              "    <tr>\n",
              "      <th>2020-02-04</th>\n",
              "      <td>0.025492</td>\n",
              "      <td>-0.012185</td>\n",
              "      <td>-0.003242</td>\n",
              "      <td>0.002831</td>\n",
              "      <td>10933371.0</td>\n",
              "      <td>-1.040913e+09</td>\n",
              "      <td>-6.786835e+08</td>\n",
              "      <td>-0.069225</td>\n",
              "      <td>17.0</td>\n",
              "      <td>0.022020</td>\n",
              "      <td>16.0</td>\n",
              "      <td>0.500000</td>\n",
              "      <td>-2.898776e+09</td>\n",
              "      <td>0.014869</td>\n",
              "      <td>-0.112995</td>\n",
              "      <td>0.020764</td>\n",
              "    </tr>\n",
              "  </tbody>\n",
              "</table>\n",
              "</div>"
            ],
            "text/plain": [
              "            dog_close  btc_close  ...  close_vix  close_nasdaq\n",
              "date                              ...                         \n",
              "2020-01-31  -0.019032  -0.016805  ...   0.195788     -0.016043\n",
              "2020-02-01   0.011628   0.004518  ...   0.000095      0.001253\n",
              "2020-02-02   0.018814  -0.005178  ...   0.000095      0.001253\n",
              "2020-02-03  -0.011410  -0.005456  ...  -0.047279      0.013293\n",
              "2020-02-04   0.025492  -0.012185  ...  -0.112995      0.020764\n",
              "\n",
              "[5 rows x 16 columns]"
            ]
          },
          "metadata": {},
          "execution_count": 21
        }
      ]
    },
    {
      "cell_type": "code",
      "metadata": {
        "id": "c-GIdm_HKKm3",
        "colab": {
          "base_uri": "https://localhost:8080/"
        },
        "outputId": "3b4b3da4-9018-4f9d-9066-bfb06b7237cb"
      },
      "source": [
        "# defining tran and test: \n",
        "train_size = int(len(df2)*0.9)\n",
        "test_size = len(df2) - train_size \n",
        "\n",
        "train,test=df2.iloc[0:train_size],df2.iloc[train_size:len(df2)]\n",
        "print(len(train),len(test))"
      ],
      "execution_count": null,
      "outputs": [
        {
          "output_type": "stream",
          "name": "stdout",
          "text": [
            "464 52\n"
          ]
        }
      ]
    },
    {
      "cell_type": "markdown",
      "metadata": {
        "id": "FBvTJuwUKvTf"
      },
      "source": [
        "## Preparing for Time Series Forecasting\n",
        "\n",
        "This step changes data s that value at current time step will be predicted byy using the history with n time steps form it "
      ]
    },
    {
      "cell_type": "code",
      "metadata": {
        "id": "bJnf7Tw5KvTf"
      },
      "source": [
        "def create_dataset(X,y,time_steps=1):\n",
        "  Xs,ys = [],[]\n",
        "  for i in range(len(X)-time_steps):\n",
        "    v = X.iloc[i:(i+time_steps)].values \n",
        "    Xs.append(v)\n",
        "    ys.append(y.iloc[i+time_steps])\n",
        "  return np.array(Xs),np.array(ys)"
      ],
      "execution_count": null,
      "outputs": []
    },
    {
      "cell_type": "code",
      "metadata": {
        "id": "Ve2RiXGAKvTf"
      },
      "source": [
        "time_steps = 5"
      ],
      "execution_count": null,
      "outputs": []
    },
    {
      "cell_type": "code",
      "metadata": {
        "id": "1pJwYReFKvTg"
      },
      "source": [
        "X2_train,y2_train=create_dataset(train,train.dog_close,time_steps)\n",
        "X2_test,y2_test=create_dataset(test,test.dog_close,time_steps)"
      ],
      "execution_count": null,
      "outputs": []
    },
    {
      "cell_type": "code",
      "metadata": {
        "id": "-xCTk8GqKvTg",
        "colab": {
          "base_uri": "https://localhost:8080/"
        },
        "outputId": "8cc0680f-08d6-43af-f3d7-37b49542134b"
      },
      "source": [
        "print(X2_train.shape,y2_train.shape)"
      ],
      "execution_count": null,
      "outputs": [
        {
          "output_type": "stream",
          "name": "stdout",
          "text": [
            "(459, 5, 16) (459,)\n"
          ]
        }
      ]
    },
    {
      "cell_type": "code",
      "metadata": {
        "id": "f0HYHWyBKvTg",
        "colab": {
          "base_uri": "https://localhost:8080/"
        },
        "outputId": "2f877fdd-99d9-4de5-f41c-43b784b1451d"
      },
      "source": [
        "print(X2_train[0],y2_train[0])"
      ],
      "execution_count": null,
      "outputs": [
        {
          "output_type": "stream",
          "name": "stdout",
          "text": [
            "[[-1.90324322e-02 -1.68050487e-02 -2.48350161e-02 -8.03156729e-04\n",
            "  -7.44861900e+06 -2.94630313e+09 -8.76172944e+08  1.12299458e-01\n",
            "  -1.00000000e+00  5.37079215e-02  1.10000000e+01 -6.03448276e-01\n",
            "  -3.12787275e+09 -1.78644764e-02  1.95787615e-01 -1.60426530e-02]\n",
            " [ 1.16280380e-02  4.51847214e-03  1.93158752e-02  5.67471132e-04\n",
            "   2.21153500e+06 -3.50983322e+09 -1.58919212e+08 -4.03392175e-02\n",
            "  -2.20000000e+01  5.65821353e-02  1.00000000e+00  1.89655172e-01\n",
            "  -5.73378539e+09  7.52099920e-04  9.45036158e-05  1.25337426e-03]\n",
            " [ 1.88144609e-02 -5.17791028e-03  2.65591815e-02 -6.71409185e-04\n",
            "   1.28216850e+07  4.91308045e+09  2.48472821e+09 -9.89434258e-02\n",
            "   3.60000000e+01 -5.38532882e-02  9.70000000e+01  4.13793103e-01\n",
            "   5.79755523e+09  7.52099920e-04  9.45036158e-05  1.25337426e-03]\n",
            " [-1.14100667e-02 -5.45597008e-03  6.59228985e-03 -1.63144330e-03\n",
            "  -1.26958840e+07  9.83595630e+07 -1.66155015e+09  3.77462764e-02\n",
            "  -2.30000000e+01 -1.85282270e-02 -9.60000000e+01  7.14285714e-02\n",
            "  -7.11135825e+08  7.22845586e-03 -4.72786240e-02  1.32934758e-02]\n",
            " [ 2.54919731e-02 -1.21854536e-02 -3.24160988e-03  2.83107047e-03\n",
            "   1.09333710e+07 -1.04091279e+09 -6.78683546e+08 -6.92245128e-02\n",
            "   1.70000000e+01  2.20198907e-02  1.60000000e+01  5.00000000e-01\n",
            "  -2.89877596e+09  1.48692652e-02 -1.12994858e-01  2.07643652e-02]] 0.031074279974813383\n"
          ]
        }
      ]
    },
    {
      "cell_type": "markdown",
      "metadata": {
        "id": "kPrLhkG4K8KD"
      },
      "source": [
        "## Modeling\n",
        "\n",
        "Sequential LSTM  Keras Model"
      ]
    },
    {
      "cell_type": "code",
      "metadata": {
        "id": "MgJ2dCu6K8KD",
        "colab": {
          "base_uri": "https://localhost:8080/"
        },
        "outputId": "c09cdadf-5482-478b-964b-38f4e82f378d"
      },
      "source": [
        "print('Input shape is:',X2_train.shape[1],X2_train.shape[2])\n",
        "model = keras.Sequential()\n",
        "model.add(keras.layers.LSTM(\n",
        "    units = 128,\n",
        "    input_shape=(X2_train.shape[1],X2_train.shape[2])\n",
        "))\n",
        "model.add(keras.layers.Dense(units=1))\n",
        "model.compile(\n",
        "    loss = 'mean_squared_error',\n",
        "    optimizer = keras.optimizers.Adam(0.001)\n",
        ")"
      ],
      "execution_count": null,
      "outputs": [
        {
          "output_type": "stream",
          "name": "stdout",
          "text": [
            "Input shape is: 5 16\n"
          ]
        }
      ]
    },
    {
      "cell_type": "markdown",
      "metadata": {
        "id": "rs4LV-tRK8KD"
      },
      "source": [
        "### Training: "
      ]
    },
    {
      "cell_type": "code",
      "metadata": {
        "id": "5M54Lhr6K8KD",
        "colab": {
          "base_uri": "https://localhost:8080/"
        },
        "outputId": "111244de-1205-4179-f784-10e0f0440f52"
      },
      "source": [
        "history2 = model.fit(\n",
        "    X2_train,y2_train,\n",
        "    epochs=300,\n",
        "    batch_size=16,\n",
        "    validation_split = 0.1,\n",
        "    verbose=1,\n",
        "    shuffle=False\n",
        ")"
      ],
      "execution_count": null,
      "outputs": [
        {
          "output_type": "stream",
          "name": "stdout",
          "text": [
            "Epoch 1/300\n",
            "26/26 [==============================] - 3s 25ms/step - loss: 0.2764 - val_loss: 0.2699\n",
            "Epoch 2/300\n",
            "26/26 [==============================] - 0s 8ms/step - loss: 0.1940 - val_loss: 0.2298\n",
            "Epoch 3/300\n",
            "26/26 [==============================] - 0s 9ms/step - loss: 0.1602 - val_loss: 0.2097\n",
            "Epoch 4/300\n",
            "26/26 [==============================] - 0s 10ms/step - loss: 0.1345 - val_loss: 0.1904\n",
            "Epoch 5/300\n",
            "26/26 [==============================] - 0s 11ms/step - loss: 0.1147 - val_loss: 0.1755\n",
            "Epoch 6/300\n",
            "26/26 [==============================] - 0s 11ms/step - loss: 0.0992 - val_loss: 0.1634\n",
            "Epoch 7/300\n",
            "26/26 [==============================] - 0s 10ms/step - loss: 0.0868 - val_loss: 0.1536\n",
            "Epoch 8/300\n",
            "26/26 [==============================] - 0s 9ms/step - loss: 0.0768 - val_loss: 0.1456\n",
            "Epoch 9/300\n",
            "26/26 [==============================] - 0s 10ms/step - loss: 0.0687 - val_loss: 0.1390\n",
            "Epoch 10/300\n",
            "26/26 [==============================] - 0s 10ms/step - loss: 0.0621 - val_loss: 0.1334\n",
            "Epoch 11/300\n",
            "26/26 [==============================] - 0s 11ms/step - loss: 0.0567 - val_loss: 0.1285\n",
            "Epoch 12/300\n",
            "26/26 [==============================] - 0s 11ms/step - loss: 0.0522 - val_loss: 0.1242\n",
            "Epoch 13/300\n",
            "26/26 [==============================] - 0s 10ms/step - loss: 0.0484 - val_loss: 0.1204\n",
            "Epoch 14/300\n",
            "26/26 [==============================] - 0s 10ms/step - loss: 0.0451 - val_loss: 0.1169\n",
            "Epoch 15/300\n",
            "26/26 [==============================] - 0s 11ms/step - loss: 0.0422 - val_loss: 0.1137\n",
            "Epoch 16/300\n",
            "26/26 [==============================] - 0s 9ms/step - loss: 0.0397 - val_loss: 0.1107\n",
            "Epoch 17/300\n",
            "26/26 [==============================] - 0s 9ms/step - loss: 0.0375 - val_loss: 0.1078\n",
            "Epoch 18/300\n",
            "26/26 [==============================] - 0s 9ms/step - loss: 0.0355 - val_loss: 0.1052\n",
            "Epoch 19/300\n",
            "26/26 [==============================] - 0s 9ms/step - loss: 0.0337 - val_loss: 0.1027\n",
            "Epoch 20/300\n",
            "26/26 [==============================] - 0s 8ms/step - loss: 0.0321 - val_loss: 0.1003\n",
            "Epoch 21/300\n",
            "26/26 [==============================] - 0s 8ms/step - loss: 0.0306 - val_loss: 0.0980\n",
            "Epoch 22/300\n",
            "26/26 [==============================] - 0s 9ms/step - loss: 0.0292 - val_loss: 0.0958\n",
            "Epoch 23/300\n",
            "26/26 [==============================] - 0s 9ms/step - loss: 0.0279 - val_loss: 0.0938\n",
            "Epoch 24/300\n",
            "26/26 [==============================] - 0s 8ms/step - loss: 0.0267 - val_loss: 0.0918\n",
            "Epoch 25/300\n",
            "26/26 [==============================] - 0s 9ms/step - loss: 0.0256 - val_loss: 0.0899\n",
            "Epoch 26/300\n",
            "26/26 [==============================] - 0s 9ms/step - loss: 0.0246 - val_loss: 0.0881\n",
            "Epoch 27/300\n",
            "26/26 [==============================] - 0s 9ms/step - loss: 0.0236 - val_loss: 0.0863\n",
            "Epoch 28/300\n",
            "26/26 [==============================] - 0s 9ms/step - loss: 0.0227 - val_loss: 0.0846\n",
            "Epoch 29/300\n",
            "26/26 [==============================] - 0s 9ms/step - loss: 0.0219 - val_loss: 0.0830\n",
            "Epoch 30/300\n",
            "26/26 [==============================] - 0s 9ms/step - loss: 0.0211 - val_loss: 0.0815\n",
            "Epoch 31/300\n",
            "26/26 [==============================] - 0s 8ms/step - loss: 0.0204 - val_loss: 0.0800\n",
            "Epoch 32/300\n",
            "26/26 [==============================] - 0s 9ms/step - loss: 0.0197 - val_loss: 0.0785\n",
            "Epoch 33/300\n",
            "26/26 [==============================] - 0s 8ms/step - loss: 0.0191 - val_loss: 0.0771\n",
            "Epoch 34/300\n",
            "26/26 [==============================] - 0s 8ms/step - loss: 0.0185 - val_loss: 0.0758\n",
            "Epoch 35/300\n",
            "26/26 [==============================] - 0s 8ms/step - loss: 0.0179 - val_loss: 0.0745\n",
            "Epoch 36/300\n",
            "26/26 [==============================] - 0s 9ms/step - loss: 0.0173 - val_loss: 0.0733\n",
            "Epoch 37/300\n",
            "26/26 [==============================] - 0s 8ms/step - loss: 0.0168 - val_loss: 0.0721\n",
            "Epoch 38/300\n",
            "26/26 [==============================] - 0s 8ms/step - loss: 0.0163 - val_loss: 0.0709\n",
            "Epoch 39/300\n",
            "26/26 [==============================] - 0s 8ms/step - loss: 0.0159 - val_loss: 0.0698\n",
            "Epoch 40/300\n",
            "26/26 [==============================] - 0s 8ms/step - loss: 0.0155 - val_loss: 0.0687\n",
            "Epoch 41/300\n",
            "26/26 [==============================] - 0s 8ms/step - loss: 0.0151 - val_loss: 0.0677\n",
            "Epoch 42/300\n",
            "26/26 [==============================] - 0s 8ms/step - loss: 0.0147 - val_loss: 0.0667\n",
            "Epoch 43/300\n",
            "26/26 [==============================] - 0s 8ms/step - loss: 0.0143 - val_loss: 0.0657\n",
            "Epoch 44/300\n",
            "26/26 [==============================] - 0s 8ms/step - loss: 0.0140 - val_loss: 0.0647\n",
            "Epoch 45/300\n",
            "26/26 [==============================] - 0s 9ms/step - loss: 0.0136 - val_loss: 0.0638\n",
            "Epoch 46/300\n",
            "26/26 [==============================] - 0s 10ms/step - loss: 0.0133 - val_loss: 0.0630\n",
            "Epoch 47/300\n",
            "26/26 [==============================] - 0s 9ms/step - loss: 0.0130 - val_loss: 0.0621\n",
            "Epoch 48/300\n",
            "26/26 [==============================] - 0s 9ms/step - loss: 0.0127 - val_loss: 0.0613\n",
            "Epoch 49/300\n",
            "26/26 [==============================] - 0s 8ms/step - loss: 0.0125 - val_loss: 0.0605\n",
            "Epoch 50/300\n",
            "26/26 [==============================] - 0s 8ms/step - loss: 0.0122 - val_loss: 0.0597\n",
            "Epoch 51/300\n",
            "26/26 [==============================] - 0s 9ms/step - loss: 0.0120 - val_loss: 0.0590\n",
            "Epoch 52/300\n",
            "26/26 [==============================] - 0s 8ms/step - loss: 0.0117 - val_loss: 0.0583\n",
            "Epoch 53/300\n",
            "26/26 [==============================] - 0s 9ms/step - loss: 0.0115 - val_loss: 0.0576\n",
            "Epoch 54/300\n",
            "26/26 [==============================] - 0s 8ms/step - loss: 0.0113 - val_loss: 0.0569\n",
            "Epoch 55/300\n",
            "26/26 [==============================] - 0s 8ms/step - loss: 0.0111 - val_loss: 0.0562\n",
            "Epoch 56/300\n",
            "26/26 [==============================] - 0s 8ms/step - loss: 0.0109 - val_loss: 0.0556\n",
            "Epoch 57/300\n",
            "26/26 [==============================] - 0s 9ms/step - loss: 0.0107 - val_loss: 0.0550\n",
            "Epoch 58/300\n",
            "26/26 [==============================] - 0s 8ms/step - loss: 0.0106 - val_loss: 0.0544\n",
            "Epoch 59/300\n",
            "26/26 [==============================] - 0s 8ms/step - loss: 0.0104 - val_loss: 0.0538\n",
            "Epoch 60/300\n",
            "26/26 [==============================] - 0s 9ms/step - loss: 0.0103 - val_loss: 0.0533\n",
            "Epoch 61/300\n",
            "26/26 [==============================] - 0s 9ms/step - loss: 0.0101 - val_loss: 0.0528\n",
            "Epoch 62/300\n",
            "26/26 [==============================] - 0s 8ms/step - loss: 0.0100 - val_loss: 0.0522\n",
            "Epoch 63/300\n",
            "26/26 [==============================] - 0s 8ms/step - loss: 0.0098 - val_loss: 0.0517\n",
            "Epoch 64/300\n",
            "26/26 [==============================] - 0s 9ms/step - loss: 0.0097 - val_loss: 0.0513\n",
            "Epoch 65/300\n",
            "26/26 [==============================] - 0s 8ms/step - loss: 0.0096 - val_loss: 0.0508\n",
            "Epoch 66/300\n",
            "26/26 [==============================] - 0s 9ms/step - loss: 0.0095 - val_loss: 0.0503\n",
            "Epoch 67/300\n",
            "26/26 [==============================] - 0s 8ms/step - loss: 0.0093 - val_loss: 0.0499\n",
            "Epoch 68/300\n",
            "26/26 [==============================] - 0s 8ms/step - loss: 0.0092 - val_loss: 0.0495\n",
            "Epoch 69/300\n",
            "26/26 [==============================] - 0s 8ms/step - loss: 0.0091 - val_loss: 0.0491\n",
            "Epoch 70/300\n",
            "26/26 [==============================] - 0s 8ms/step - loss: 0.0090 - val_loss: 0.0487\n",
            "Epoch 71/300\n",
            "26/26 [==============================] - 0s 9ms/step - loss: 0.0089 - val_loss: 0.0483\n",
            "Epoch 72/300\n",
            "26/26 [==============================] - 0s 9ms/step - loss: 0.0089 - val_loss: 0.0479\n",
            "Epoch 73/300\n",
            "26/26 [==============================] - 0s 9ms/step - loss: 0.0088 - val_loss: 0.0476\n",
            "Epoch 74/300\n",
            "26/26 [==============================] - 0s 10ms/step - loss: 0.0087 - val_loss: 0.0473\n",
            "Epoch 75/300\n",
            "26/26 [==============================] - 0s 10ms/step - loss: 0.0086 - val_loss: 0.0469\n",
            "Epoch 76/300\n",
            "26/26 [==============================] - 0s 9ms/step - loss: 0.0085 - val_loss: 0.0466\n",
            "Epoch 77/300\n",
            "26/26 [==============================] - 0s 9ms/step - loss: 0.0085 - val_loss: 0.0463\n",
            "Epoch 78/300\n",
            "26/26 [==============================] - 0s 8ms/step - loss: 0.0084 - val_loss: 0.0460\n",
            "Epoch 79/300\n",
            "26/26 [==============================] - 0s 8ms/step - loss: 0.0083 - val_loss: 0.0457\n",
            "Epoch 80/300\n",
            "26/26 [==============================] - 0s 8ms/step - loss: 0.0083 - val_loss: 0.0455\n",
            "Epoch 81/300\n",
            "26/26 [==============================] - 0s 11ms/step - loss: 0.0082 - val_loss: 0.0452\n",
            "Epoch 82/300\n",
            "26/26 [==============================] - 0s 10ms/step - loss: 0.0082 - val_loss: 0.0449\n",
            "Epoch 83/300\n",
            "26/26 [==============================] - 0s 10ms/step - loss: 0.0081 - val_loss: 0.0447\n",
            "Epoch 84/300\n",
            "26/26 [==============================] - 0s 10ms/step - loss: 0.0081 - val_loss: 0.0445\n",
            "Epoch 85/300\n",
            "26/26 [==============================] - 0s 10ms/step - loss: 0.0080 - val_loss: 0.0442\n",
            "Epoch 86/300\n",
            "26/26 [==============================] - 0s 11ms/step - loss: 0.0080 - val_loss: 0.0440\n",
            "Epoch 87/300\n",
            "26/26 [==============================] - 0s 10ms/step - loss: 0.0079 - val_loss: 0.0438\n",
            "Epoch 88/300\n",
            "26/26 [==============================] - 0s 9ms/step - loss: 0.0079 - val_loss: 0.0436\n",
            "Epoch 89/300\n",
            "26/26 [==============================] - 0s 11ms/step - loss: 0.0078 - val_loss: 0.0434\n",
            "Epoch 90/300\n",
            "26/26 [==============================] - 0s 11ms/step - loss: 0.0078 - val_loss: 0.0432\n",
            "Epoch 91/300\n",
            "26/26 [==============================] - 0s 10ms/step - loss: 0.0078 - val_loss: 0.0430\n",
            "Epoch 92/300\n",
            "26/26 [==============================] - 0s 9ms/step - loss: 0.0077 - val_loss: 0.0429\n",
            "Epoch 93/300\n",
            "26/26 [==============================] - 0s 10ms/step - loss: 0.0077 - val_loss: 0.0427\n",
            "Epoch 94/300\n",
            "26/26 [==============================] - 0s 11ms/step - loss: 0.0077 - val_loss: 0.0425\n",
            "Epoch 95/300\n",
            "26/26 [==============================] - 0s 9ms/step - loss: 0.0076 - val_loss: 0.0424\n",
            "Epoch 96/300\n",
            "26/26 [==============================] - 0s 8ms/step - loss: 0.0076 - val_loss: 0.0422\n",
            "Epoch 97/300\n",
            "26/26 [==============================] - 0s 9ms/step - loss: 0.0076 - val_loss: 0.0421\n",
            "Epoch 98/300\n",
            "26/26 [==============================] - 0s 9ms/step - loss: 0.0075 - val_loss: 0.0420\n",
            "Epoch 99/300\n",
            "26/26 [==============================] - 0s 8ms/step - loss: 0.0075 - val_loss: 0.0418\n",
            "Epoch 100/300\n",
            "26/26 [==============================] - 0s 8ms/step - loss: 0.0075 - val_loss: 0.0417\n",
            "Epoch 101/300\n",
            "26/26 [==============================] - 0s 10ms/step - loss: 0.0075 - val_loss: 0.0416\n",
            "Epoch 102/300\n",
            "26/26 [==============================] - 0s 10ms/step - loss: 0.0074 - val_loss: 0.0415\n",
            "Epoch 103/300\n",
            "26/26 [==============================] - 0s 10ms/step - loss: 0.0074 - val_loss: 0.0414\n",
            "Epoch 104/300\n",
            "26/26 [==============================] - 0s 10ms/step - loss: 0.0074 - val_loss: 0.0413\n",
            "Epoch 105/300\n",
            "26/26 [==============================] - 0s 10ms/step - loss: 0.0074 - val_loss: 0.0412\n",
            "Epoch 106/300\n",
            "26/26 [==============================] - 0s 9ms/step - loss: 0.0074 - val_loss: 0.0411\n",
            "Epoch 107/300\n",
            "26/26 [==============================] - 0s 9ms/step - loss: 0.0073 - val_loss: 0.0410\n",
            "Epoch 108/300\n",
            "26/26 [==============================] - 0s 9ms/step - loss: 0.0073 - val_loss: 0.0409\n",
            "Epoch 109/300\n",
            "26/26 [==============================] - 0s 9ms/step - loss: 0.0073 - val_loss: 0.0408\n",
            "Epoch 110/300\n",
            "26/26 [==============================] - 0s 9ms/step - loss: 0.0073 - val_loss: 0.0407\n",
            "Epoch 111/300\n",
            "26/26 [==============================] - 0s 8ms/step - loss: 0.0073 - val_loss: 0.0407\n",
            "Epoch 112/300\n",
            "26/26 [==============================] - 0s 8ms/step - loss: 0.0073 - val_loss: 0.0406\n",
            "Epoch 113/300\n",
            "26/26 [==============================] - 0s 8ms/step - loss: 0.0073 - val_loss: 0.0405\n",
            "Epoch 114/300\n",
            "26/26 [==============================] - 0s 8ms/step - loss: 0.0072 - val_loss: 0.0405\n",
            "Epoch 115/300\n",
            "26/26 [==============================] - 0s 8ms/step - loss: 0.0072 - val_loss: 0.0404\n",
            "Epoch 116/300\n",
            "26/26 [==============================] - 0s 9ms/step - loss: 0.0072 - val_loss: 0.0403\n",
            "Epoch 117/300\n",
            "26/26 [==============================] - 0s 9ms/step - loss: 0.0072 - val_loss: 0.0403\n",
            "Epoch 118/300\n",
            "26/26 [==============================] - 0s 8ms/step - loss: 0.0072 - val_loss: 0.0402\n",
            "Epoch 119/300\n",
            "26/26 [==============================] - 0s 8ms/step - loss: 0.0072 - val_loss: 0.0402\n",
            "Epoch 120/300\n",
            "26/26 [==============================] - 0s 8ms/step - loss: 0.0072 - val_loss: 0.0401\n",
            "Epoch 121/300\n",
            "26/26 [==============================] - 0s 8ms/step - loss: 0.0072 - val_loss: 0.0401\n",
            "Epoch 122/300\n",
            "26/26 [==============================] - 0s 9ms/step - loss: 0.0072 - val_loss: 0.0400\n",
            "Epoch 123/300\n",
            "26/26 [==============================] - 0s 10ms/step - loss: 0.0072 - val_loss: 0.0400\n",
            "Epoch 124/300\n",
            "26/26 [==============================] - 0s 10ms/step - loss: 0.0071 - val_loss: 0.0400\n",
            "Epoch 125/300\n",
            "26/26 [==============================] - 0s 10ms/step - loss: 0.0071 - val_loss: 0.0399\n",
            "Epoch 126/300\n",
            "26/26 [==============================] - 0s 11ms/step - loss: 0.0071 - val_loss: 0.0399\n",
            "Epoch 127/300\n",
            "26/26 [==============================] - 0s 10ms/step - loss: 0.0071 - val_loss: 0.0399\n",
            "Epoch 128/300\n",
            "26/26 [==============================] - 0s 10ms/step - loss: 0.0071 - val_loss: 0.0398\n",
            "Epoch 129/300\n",
            "26/26 [==============================] - 0s 9ms/step - loss: 0.0071 - val_loss: 0.0398\n",
            "Epoch 130/300\n",
            "26/26 [==============================] - 0s 10ms/step - loss: 0.0071 - val_loss: 0.0398\n",
            "Epoch 131/300\n",
            "26/26 [==============================] - 0s 9ms/step - loss: 0.0071 - val_loss: 0.0397\n",
            "Epoch 132/300\n",
            "26/26 [==============================] - 0s 10ms/step - loss: 0.0071 - val_loss: 0.0397\n",
            "Epoch 133/300\n",
            "26/26 [==============================] - 0s 10ms/step - loss: 0.0071 - val_loss: 0.0397\n",
            "Epoch 134/300\n",
            "26/26 [==============================] - 0s 10ms/step - loss: 0.0071 - val_loss: 0.0397\n",
            "Epoch 135/300\n",
            "26/26 [==============================] - 0s 9ms/step - loss: 0.0071 - val_loss: 0.0397\n",
            "Epoch 136/300\n",
            "26/26 [==============================] - 0s 11ms/step - loss: 0.0071 - val_loss: 0.0396\n",
            "Epoch 137/300\n",
            "26/26 [==============================] - 0s 10ms/step - loss: 0.0071 - val_loss: 0.0396\n",
            "Epoch 138/300\n",
            "26/26 [==============================] - 0s 9ms/step - loss: 0.0071 - val_loss: 0.0396\n",
            "Epoch 139/300\n",
            "26/26 [==============================] - 0s 9ms/step - loss: 0.0071 - val_loss: 0.0396\n",
            "Epoch 140/300\n",
            "26/26 [==============================] - 0s 9ms/step - loss: 0.0071 - val_loss: 0.0396\n",
            "Epoch 141/300\n",
            "26/26 [==============================] - 0s 8ms/step - loss: 0.0071 - val_loss: 0.0396\n",
            "Epoch 142/300\n",
            "26/26 [==============================] - 0s 11ms/step - loss: 0.0071 - val_loss: 0.0396\n",
            "Epoch 143/300\n",
            "26/26 [==============================] - 0s 11ms/step - loss: 0.0071 - val_loss: 0.0396\n",
            "Epoch 144/300\n",
            "26/26 [==============================] - 0s 10ms/step - loss: 0.0071 - val_loss: 0.0395\n",
            "Epoch 145/300\n",
            "26/26 [==============================] - 0s 10ms/step - loss: 0.0071 - val_loss: 0.0395\n",
            "Epoch 146/300\n",
            "26/26 [==============================] - 0s 11ms/step - loss: 0.0071 - val_loss: 0.0395\n",
            "Epoch 147/300\n",
            "26/26 [==============================] - 0s 11ms/step - loss: 0.0070 - val_loss: 0.0395\n",
            "Epoch 148/300\n",
            "26/26 [==============================] - 0s 9ms/step - loss: 0.0070 - val_loss: 0.0395\n",
            "Epoch 149/300\n",
            "26/26 [==============================] - 0s 11ms/step - loss: 0.0070 - val_loss: 0.0395\n",
            "Epoch 150/300\n",
            "26/26 [==============================] - 0s 10ms/step - loss: 0.0070 - val_loss: 0.0395\n",
            "Epoch 151/300\n",
            "26/26 [==============================] - 0s 11ms/step - loss: 0.0070 - val_loss: 0.0395\n",
            "Epoch 152/300\n",
            "26/26 [==============================] - 0s 10ms/step - loss: 0.0070 - val_loss: 0.0395\n",
            "Epoch 153/300\n",
            "26/26 [==============================] - 0s 10ms/step - loss: 0.0070 - val_loss: 0.0395\n",
            "Epoch 154/300\n",
            "26/26 [==============================] - 0s 11ms/step - loss: 0.0070 - val_loss: 0.0395\n",
            "Epoch 155/300\n",
            "26/26 [==============================] - 0s 9ms/step - loss: 0.0070 - val_loss: 0.0395\n",
            "Epoch 156/300\n",
            "26/26 [==============================] - 0s 9ms/step - loss: 0.0070 - val_loss: 0.0395\n",
            "Epoch 157/300\n",
            "26/26 [==============================] - 0s 10ms/step - loss: 0.0070 - val_loss: 0.0395\n",
            "Epoch 158/300\n",
            "26/26 [==============================] - 0s 10ms/step - loss: 0.0070 - val_loss: 0.0395\n",
            "Epoch 159/300\n",
            "26/26 [==============================] - 0s 9ms/step - loss: 0.0070 - val_loss: 0.0395\n",
            "Epoch 160/300\n",
            "26/26 [==============================] - 0s 9ms/step - loss: 0.0070 - val_loss: 0.0395\n",
            "Epoch 161/300\n",
            "26/26 [==============================] - 0s 10ms/step - loss: 0.0070 - val_loss: 0.0395\n",
            "Epoch 162/300\n",
            "26/26 [==============================] - 0s 11ms/step - loss: 0.0070 - val_loss: 0.0395\n",
            "Epoch 163/300\n",
            "26/26 [==============================] - 0s 10ms/step - loss: 0.0070 - val_loss: 0.0395\n",
            "Epoch 164/300\n",
            "26/26 [==============================] - 0s 10ms/step - loss: 0.0070 - val_loss: 0.0395\n",
            "Epoch 165/300\n",
            "26/26 [==============================] - 0s 11ms/step - loss: 0.0070 - val_loss: 0.0395\n",
            "Epoch 166/300\n",
            "26/26 [==============================] - 0s 12ms/step - loss: 0.0070 - val_loss: 0.0395\n",
            "Epoch 167/300\n",
            "26/26 [==============================] - 0s 10ms/step - loss: 0.0070 - val_loss: 0.0395\n",
            "Epoch 168/300\n",
            "26/26 [==============================] - 0s 10ms/step - loss: 0.0070 - val_loss: 0.0395\n",
            "Epoch 169/300\n",
            "26/26 [==============================] - 0s 9ms/step - loss: 0.0070 - val_loss: 0.0395\n",
            "Epoch 170/300\n",
            "26/26 [==============================] - 0s 9ms/step - loss: 0.0070 - val_loss: 0.0395\n",
            "Epoch 171/300\n",
            "26/26 [==============================] - 0s 8ms/step - loss: 0.0070 - val_loss: 0.0395\n",
            "Epoch 172/300\n",
            "26/26 [==============================] - 0s 8ms/step - loss: 0.0070 - val_loss: 0.0395\n",
            "Epoch 173/300\n",
            "26/26 [==============================] - 0s 9ms/step - loss: 0.0070 - val_loss: 0.0395\n",
            "Epoch 174/300\n",
            "26/26 [==============================] - 0s 9ms/step - loss: 0.0070 - val_loss: 0.0395\n",
            "Epoch 175/300\n",
            "26/26 [==============================] - 0s 9ms/step - loss: 0.0070 - val_loss: 0.0395\n",
            "Epoch 176/300\n",
            "26/26 [==============================] - 0s 8ms/step - loss: 0.0070 - val_loss: 0.0395\n",
            "Epoch 177/300\n",
            "26/26 [==============================] - 0s 11ms/step - loss: 0.0070 - val_loss: 0.0395\n",
            "Epoch 178/300\n",
            "26/26 [==============================] - 0s 11ms/step - loss: 0.0070 - val_loss: 0.0395\n",
            "Epoch 179/300\n",
            "26/26 [==============================] - 0s 10ms/step - loss: 0.0070 - val_loss: 0.0396\n",
            "Epoch 180/300\n",
            "26/26 [==============================] - 0s 11ms/step - loss: 0.0070 - val_loss: 0.0396\n",
            "Epoch 181/300\n",
            "26/26 [==============================] - 0s 10ms/step - loss: 0.0070 - val_loss: 0.0396\n",
            "Epoch 182/300\n",
            "26/26 [==============================] - 0s 10ms/step - loss: 0.0070 - val_loss: 0.0396\n",
            "Epoch 183/300\n",
            "26/26 [==============================] - 0s 10ms/step - loss: 0.0070 - val_loss: 0.0396\n",
            "Epoch 184/300\n",
            "26/26 [==============================] - 0s 11ms/step - loss: 0.0070 - val_loss: 0.0396\n",
            "Epoch 185/300\n",
            "26/26 [==============================] - 0s 10ms/step - loss: 0.0070 - val_loss: 0.0396\n",
            "Epoch 186/300\n",
            "26/26 [==============================] - 0s 11ms/step - loss: 0.0070 - val_loss: 0.0396\n",
            "Epoch 187/300\n",
            "26/26 [==============================] - 0s 11ms/step - loss: 0.0070 - val_loss: 0.0396\n",
            "Epoch 188/300\n",
            "26/26 [==============================] - 0s 11ms/step - loss: 0.0070 - val_loss: 0.0396\n",
            "Epoch 189/300\n",
            "26/26 [==============================] - 0s 11ms/step - loss: 0.0070 - val_loss: 0.0396\n",
            "Epoch 190/300\n",
            "26/26 [==============================] - 0s 11ms/step - loss: 0.0070 - val_loss: 0.0396\n",
            "Epoch 191/300\n",
            "26/26 [==============================] - 0s 10ms/step - loss: 0.0070 - val_loss: 0.0396\n",
            "Epoch 192/300\n",
            "26/26 [==============================] - 0s 9ms/step - loss: 0.0070 - val_loss: 0.0396\n",
            "Epoch 193/300\n",
            "26/26 [==============================] - 0s 9ms/step - loss: 0.0070 - val_loss: 0.0396\n",
            "Epoch 194/300\n",
            "26/26 [==============================] - 0s 8ms/step - loss: 0.0070 - val_loss: 0.0396\n",
            "Epoch 195/300\n",
            "26/26 [==============================] - 0s 9ms/step - loss: 0.0070 - val_loss: 0.0396\n",
            "Epoch 196/300\n",
            "26/26 [==============================] - 0s 11ms/step - loss: 0.0070 - val_loss: 0.0396\n",
            "Epoch 197/300\n",
            "26/26 [==============================] - 0s 11ms/step - loss: 0.0070 - val_loss: 0.0396\n",
            "Epoch 198/300\n",
            "26/26 [==============================] - 0s 11ms/step - loss: 0.0070 - val_loss: 0.0396\n",
            "Epoch 199/300\n",
            "26/26 [==============================] - 0s 11ms/step - loss: 0.0070 - val_loss: 0.0396\n",
            "Epoch 200/300\n",
            "26/26 [==============================] - 0s 9ms/step - loss: 0.0070 - val_loss: 0.0396\n",
            "Epoch 201/300\n",
            "26/26 [==============================] - 0s 10ms/step - loss: 0.0070 - val_loss: 0.0396\n",
            "Epoch 202/300\n",
            "26/26 [==============================] - 0s 9ms/step - loss: 0.0070 - val_loss: 0.0396\n",
            "Epoch 203/300\n",
            "26/26 [==============================] - 0s 10ms/step - loss: 0.0070 - val_loss: 0.0396\n",
            "Epoch 204/300\n",
            "26/26 [==============================] - 0s 9ms/step - loss: 0.0070 - val_loss: 0.0396\n",
            "Epoch 205/300\n",
            "26/26 [==============================] - 0s 9ms/step - loss: 0.0070 - val_loss: 0.0397\n",
            "Epoch 206/300\n",
            "26/26 [==============================] - 0s 9ms/step - loss: 0.0070 - val_loss: 0.0397\n",
            "Epoch 207/300\n",
            "26/26 [==============================] - 0s 11ms/step - loss: 0.0070 - val_loss: 0.0397\n",
            "Epoch 208/300\n",
            "26/26 [==============================] - 0s 10ms/step - loss: 0.0070 - val_loss: 0.0397\n",
            "Epoch 209/300\n",
            "26/26 [==============================] - 0s 10ms/step - loss: 0.0070 - val_loss: 0.0397\n",
            "Epoch 210/300\n",
            "26/26 [==============================] - 0s 9ms/step - loss: 0.0070 - val_loss: 0.0397\n",
            "Epoch 211/300\n",
            "26/26 [==============================] - 0s 11ms/step - loss: 0.0070 - val_loss: 0.0397\n",
            "Epoch 212/300\n",
            "26/26 [==============================] - 0s 9ms/step - loss: 0.0070 - val_loss: 0.0397\n",
            "Epoch 213/300\n",
            "26/26 [==============================] - 0s 9ms/step - loss: 0.0070 - val_loss: 0.0397\n",
            "Epoch 214/300\n",
            "26/26 [==============================] - 0s 11ms/step - loss: 0.0070 - val_loss: 0.0397\n",
            "Epoch 215/300\n",
            "26/26 [==============================] - 0s 10ms/step - loss: 0.0070 - val_loss: 0.0397\n",
            "Epoch 216/300\n",
            "26/26 [==============================] - 0s 8ms/step - loss: 0.0070 - val_loss: 0.0397\n",
            "Epoch 217/300\n",
            "26/26 [==============================] - 0s 9ms/step - loss: 0.0070 - val_loss: 0.0397\n",
            "Epoch 218/300\n",
            "26/26 [==============================] - 0s 9ms/step - loss: 0.0070 - val_loss: 0.0397\n",
            "Epoch 219/300\n",
            "26/26 [==============================] - 0s 10ms/step - loss: 0.0070 - val_loss: 0.0397\n",
            "Epoch 220/300\n",
            "26/26 [==============================] - 0s 10ms/step - loss: 0.0070 - val_loss: 0.0397\n",
            "Epoch 221/300\n",
            "26/26 [==============================] - 0s 11ms/step - loss: 0.0070 - val_loss: 0.0397\n",
            "Epoch 222/300\n",
            "26/26 [==============================] - 0s 11ms/step - loss: 0.0070 - val_loss: 0.0397\n",
            "Epoch 223/300\n",
            "26/26 [==============================] - 0s 11ms/step - loss: 0.0070 - val_loss: 0.0397\n",
            "Epoch 224/300\n",
            "26/26 [==============================] - 0s 10ms/step - loss: 0.0070 - val_loss: 0.0397\n",
            "Epoch 225/300\n",
            "26/26 [==============================] - 0s 11ms/step - loss: 0.0070 - val_loss: 0.0397\n",
            "Epoch 226/300\n",
            "26/26 [==============================] - 0s 11ms/step - loss: 0.0070 - val_loss: 0.0397\n",
            "Epoch 227/300\n",
            "26/26 [==============================] - 0s 10ms/step - loss: 0.0070 - val_loss: 0.0397\n",
            "Epoch 228/300\n",
            "26/26 [==============================] - 0s 10ms/step - loss: 0.0070 - val_loss: 0.0397\n",
            "Epoch 229/300\n",
            "26/26 [==============================] - 0s 11ms/step - loss: 0.0070 - val_loss: 0.0397\n",
            "Epoch 230/300\n",
            "26/26 [==============================] - 0s 11ms/step - loss: 0.0070 - val_loss: 0.0397\n",
            "Epoch 231/300\n",
            "26/26 [==============================] - 0s 8ms/step - loss: 0.0070 - val_loss: 0.0397\n",
            "Epoch 232/300\n",
            "26/26 [==============================] - 0s 8ms/step - loss: 0.0070 - val_loss: 0.0397\n",
            "Epoch 233/300\n",
            "26/26 [==============================] - 0s 9ms/step - loss: 0.0070 - val_loss: 0.0397\n",
            "Epoch 234/300\n",
            "26/26 [==============================] - 0s 9ms/step - loss: 0.0070 - val_loss: 0.0397\n",
            "Epoch 235/300\n",
            "26/26 [==============================] - 0s 9ms/step - loss: 0.0070 - val_loss: 0.0397\n",
            "Epoch 236/300\n",
            "26/26 [==============================] - 0s 10ms/step - loss: 0.0070 - val_loss: 0.0397\n",
            "Epoch 237/300\n",
            "26/26 [==============================] - 0s 10ms/step - loss: 0.0070 - val_loss: 0.0397\n",
            "Epoch 238/300\n",
            "26/26 [==============================] - 0s 11ms/step - loss: 0.0070 - val_loss: 0.0397\n",
            "Epoch 239/300\n",
            "26/26 [==============================] - 0s 9ms/step - loss: 0.0070 - val_loss: 0.0397\n",
            "Epoch 240/300\n",
            "26/26 [==============================] - 0s 10ms/step - loss: 0.0070 - val_loss: 0.0397\n",
            "Epoch 241/300\n",
            "26/26 [==============================] - 0s 10ms/step - loss: 0.0070 - val_loss: 0.0397\n",
            "Epoch 242/300\n",
            "26/26 [==============================] - 0s 10ms/step - loss: 0.0070 - val_loss: 0.0397\n",
            "Epoch 243/300\n",
            "26/26 [==============================] - 0s 9ms/step - loss: 0.0070 - val_loss: 0.0397\n",
            "Epoch 244/300\n",
            "26/26 [==============================] - 0s 10ms/step - loss: 0.0070 - val_loss: 0.0397\n",
            "Epoch 245/300\n",
            "26/26 [==============================] - 0s 11ms/step - loss: 0.0070 - val_loss: 0.0397\n",
            "Epoch 246/300\n",
            "26/26 [==============================] - 0s 10ms/step - loss: 0.0070 - val_loss: 0.0397\n",
            "Epoch 247/300\n",
            "26/26 [==============================] - 0s 10ms/step - loss: 0.0070 - val_loss: 0.0397\n",
            "Epoch 248/300\n",
            "26/26 [==============================] - 0s 11ms/step - loss: 0.0070 - val_loss: 0.0397\n",
            "Epoch 249/300\n",
            "26/26 [==============================] - 0s 11ms/step - loss: 0.0070 - val_loss: 0.0397\n",
            "Epoch 250/300\n",
            "26/26 [==============================] - 0s 10ms/step - loss: 0.0070 - val_loss: 0.0397\n",
            "Epoch 251/300\n",
            "26/26 [==============================] - 0s 11ms/step - loss: 0.0070 - val_loss: 0.0397\n",
            "Epoch 252/300\n",
            "26/26 [==============================] - 0s 9ms/step - loss: 0.0070 - val_loss: 0.0397\n",
            "Epoch 253/300\n",
            "26/26 [==============================] - 0s 11ms/step - loss: 0.0070 - val_loss: 0.0398\n",
            "Epoch 254/300\n",
            "26/26 [==============================] - 0s 8ms/step - loss: 0.0070 - val_loss: 0.0398\n",
            "Epoch 255/300\n",
            "26/26 [==============================] - 0s 9ms/step - loss: 0.0070 - val_loss: 0.0398\n",
            "Epoch 256/300\n",
            "26/26 [==============================] - 0s 9ms/step - loss: 0.0070 - val_loss: 0.0398\n",
            "Epoch 257/300\n",
            "26/26 [==============================] - 0s 9ms/step - loss: 0.0070 - val_loss: 0.0398\n",
            "Epoch 258/300\n",
            "26/26 [==============================] - 0s 10ms/step - loss: 0.0070 - val_loss: 0.0398\n",
            "Epoch 259/300\n",
            "26/26 [==============================] - 0s 10ms/step - loss: 0.0070 - val_loss: 0.0398\n",
            "Epoch 260/300\n",
            "26/26 [==============================] - 0s 10ms/step - loss: 0.0070 - val_loss: 0.0398\n",
            "Epoch 261/300\n",
            "26/26 [==============================] - 0s 11ms/step - loss: 0.0070 - val_loss: 0.0398\n",
            "Epoch 262/300\n",
            "26/26 [==============================] - 0s 11ms/step - loss: 0.0070 - val_loss: 0.0398\n",
            "Epoch 263/300\n",
            "26/26 [==============================] - 0s 10ms/step - loss: 0.0070 - val_loss: 0.0398\n",
            "Epoch 264/300\n",
            "26/26 [==============================] - 0s 11ms/step - loss: 0.0070 - val_loss: 0.0398\n",
            "Epoch 265/300\n",
            "26/26 [==============================] - 0s 11ms/step - loss: 0.0070 - val_loss: 0.0398\n",
            "Epoch 266/300\n",
            "26/26 [==============================] - 0s 11ms/step - loss: 0.0070 - val_loss: 0.0398\n",
            "Epoch 267/300\n",
            "26/26 [==============================] - 0s 11ms/step - loss: 0.0070 - val_loss: 0.0398\n",
            "Epoch 268/300\n",
            "26/26 [==============================] - 0s 10ms/step - loss: 0.0070 - val_loss: 0.0398\n",
            "Epoch 269/300\n",
            "26/26 [==============================] - 0s 10ms/step - loss: 0.0070 - val_loss: 0.0398\n",
            "Epoch 270/300\n",
            "26/26 [==============================] - 0s 11ms/step - loss: 0.0070 - val_loss: 0.0398\n",
            "Epoch 271/300\n",
            "26/26 [==============================] - 0s 11ms/step - loss: 0.0070 - val_loss: 0.0398\n",
            "Epoch 272/300\n",
            "26/26 [==============================] - 0s 11ms/step - loss: 0.0070 - val_loss: 0.0398\n",
            "Epoch 273/300\n",
            "26/26 [==============================] - 0s 11ms/step - loss: 0.0070 - val_loss: 0.0398\n",
            "Epoch 274/300\n",
            "26/26 [==============================] - 0s 11ms/step - loss: 0.0070 - val_loss: 0.0398\n",
            "Epoch 275/300\n",
            "26/26 [==============================] - 0s 11ms/step - loss: 0.0070 - val_loss: 0.0398\n",
            "Epoch 276/300\n",
            "26/26 [==============================] - 0s 10ms/step - loss: 0.0070 - val_loss: 0.0398\n",
            "Epoch 277/300\n",
            "26/26 [==============================] - 0s 11ms/step - loss: 0.0070 - val_loss: 0.0398\n",
            "Epoch 278/300\n",
            "26/26 [==============================] - 0s 11ms/step - loss: 0.0070 - val_loss: 0.0398\n",
            "Epoch 279/300\n",
            "26/26 [==============================] - 0s 10ms/step - loss: 0.0070 - val_loss: 0.0398\n",
            "Epoch 280/300\n",
            "26/26 [==============================] - 0s 9ms/step - loss: 0.0070 - val_loss: 0.0398\n",
            "Epoch 281/300\n",
            "26/26 [==============================] - 0s 9ms/step - loss: 0.0070 - val_loss: 0.0398\n",
            "Epoch 282/300\n",
            "26/26 [==============================] - 0s 8ms/step - loss: 0.0070 - val_loss: 0.0398\n",
            "Epoch 283/300\n",
            "26/26 [==============================] - 0s 9ms/step - loss: 0.0070 - val_loss: 0.0398\n",
            "Epoch 284/300\n",
            "26/26 [==============================] - 0s 10ms/step - loss: 0.0070 - val_loss: 0.0398\n",
            "Epoch 285/300\n",
            "26/26 [==============================] - 0s 10ms/step - loss: 0.0070 - val_loss: 0.0398\n",
            "Epoch 286/300\n",
            "26/26 [==============================] - 0s 10ms/step - loss: 0.0070 - val_loss: 0.0398\n",
            "Epoch 287/300\n",
            "26/26 [==============================] - 0s 11ms/step - loss: 0.0070 - val_loss: 0.0398\n",
            "Epoch 288/300\n",
            "26/26 [==============================] - 0s 10ms/step - loss: 0.0070 - val_loss: 0.0398\n",
            "Epoch 289/300\n",
            "26/26 [==============================] - 0s 11ms/step - loss: 0.0070 - val_loss: 0.0398\n",
            "Epoch 290/300\n",
            "26/26 [==============================] - 0s 11ms/step - loss: 0.0070 - val_loss: 0.0398\n",
            "Epoch 291/300\n",
            "26/26 [==============================] - 0s 11ms/step - loss: 0.0070 - val_loss: 0.0398\n",
            "Epoch 292/300\n",
            "26/26 [==============================] - 0s 11ms/step - loss: 0.0070 - val_loss: 0.0398\n",
            "Epoch 293/300\n",
            "26/26 [==============================] - 0s 11ms/step - loss: 0.0070 - val_loss: 0.0398\n",
            "Epoch 294/300\n",
            "26/26 [==============================] - 0s 11ms/step - loss: 0.0070 - val_loss: 0.0398\n",
            "Epoch 295/300\n",
            "26/26 [==============================] - 0s 11ms/step - loss: 0.0070 - val_loss: 0.0398\n",
            "Epoch 296/300\n",
            "26/26 [==============================] - 0s 12ms/step - loss: 0.0070 - val_loss: 0.0398\n",
            "Epoch 297/300\n",
            "26/26 [==============================] - 0s 12ms/step - loss: 0.0070 - val_loss: 0.0398\n",
            "Epoch 298/300\n",
            "26/26 [==============================] - 0s 11ms/step - loss: 0.0070 - val_loss: 0.0398\n",
            "Epoch 299/300\n",
            "26/26 [==============================] - 0s 12ms/step - loss: 0.0070 - val_loss: 0.0398\n",
            "Epoch 300/300\n",
            "26/26 [==============================] - 0s 10ms/step - loss: 0.0070 - val_loss: 0.0398\n"
          ]
        }
      ]
    },
    {
      "cell_type": "code",
      "metadata": {
        "id": "-LuuXlVzK8KD",
        "colab": {
          "base_uri": "https://localhost:8080/",
          "height": 282
        },
        "outputId": "d04df141-481a-44c9-cf5b-42958ddd489d"
      },
      "source": [
        "plt.plot(history2.history['loss'], label='Training loss')\n",
        "plt.plot(history2.history['val_loss'], label='Validation loss')\n",
        "plt.legend()"
      ],
      "execution_count": null,
      "outputs": [
        {
          "output_type": "execute_result",
          "data": {
            "text/plain": [
              "<matplotlib.legend.Legend at 0x7f0aa231eb10>"
            ]
          },
          "metadata": {},
          "execution_count": 30
        },
        {
          "output_type": "display_data",
          "data": {
            "image/png": "[encoded data removed]",
            "text/plain": [
              "<Figure size 432x288 with 1 Axes>"
            ]
          },
          "metadata": {
            "needs_background": "light"
          }
        }
      ]
    },
    {
      "cell_type": "markdown",
      "metadata": {
        "id": "-2N67YHkK8KE"
      },
      "source": [
        "## Making Predictions: "
      ]
    },
    {
      "cell_type": "code",
      "metadata": {
        "id": "hw55K_peK8KE"
      },
      "source": [
        "y2_pred=model.predict(X2_test)"
      ],
      "execution_count": null,
      "outputs": []
    },
    {
      "cell_type": "code",
      "metadata": {
        "id": "cNrSOOuvK8KE",
        "colab": {
          "base_uri": "https://localhost:8080/",
          "height": 278
        },
        "outputId": "78641649-c96a-4a19-d0d2-2a05e21921ea"
      },
      "source": [
        "plt.plot(np.arange(0, len(y_train)), y_train, 'g', label=\"history\")\n",
        "plt.plot(np.arange(len(y_train), len(y_train) + len(y_test)), y_test, marker='.', label=\"true\")\n",
        "plt.plot(np.arange(len(y_train), len(y_train) + len(y_test)), y_pred, 'r', label=\"prediction\")\n",
        "plt.ylabel('DOGE Close')\n",
        "plt.xlabel('Time Step')\n",
        "plt.legend()\n",
        "plt.show();"
      ],
      "execution_count": null,
      "outputs": [
        {
          "output_type": "display_data",
          "data": {
            "image/png": "[encoded data removed]",
            "text/plain": [
              "<Figure size 432x288 with 1 Axes>"
            ]
          },
          "metadata": {
            "needs_background": "light"
          }
        }
      ]
    },
    {
      "cell_type": "code",
      "metadata": {
        "id": "voeG69MwK8KE",
        "colab": {
          "base_uri": "https://localhost:8080/",
          "height": 278
        },
        "outputId": "4cd58ea8-73bc-4900-dfc6-17aabf484ddd"
      },
      "source": [
        "plt.plot(y_test, marker='.', label=\"true\")\n",
        "plt.plot(y_pred, 'r', label=\"prediction\")\n",
        "plt.ylabel('DOGE Close')\n",
        "plt.xlabel('Time Step')\n",
        "plt.legend()\n",
        "plt.show();"
      ],
      "execution_count": null,
      "outputs": [
        {
          "output_type": "display_data",
          "data": {
            "image/png": "[encoded data removed]",
            "text/plain": [
              "<Figure size 432x288 with 1 Axes>"
            ]
          },
          "metadata": {
            "needs_background": "light"
          }
        }
      ]
    },
    {
      "cell_type": "code",
      "metadata": {
        "id": "zrJS0zQJMgbD",
        "colab": {
          "base_uri": "https://localhost:8080/",
          "height": 278
        },
        "outputId": "1f8ae78c-3c94-44f1-903e-d5e3bc74aa06"
      },
      "source": [
        "plt.plot(y2_test, marker='.', label=\"true\")\n",
        "plt.plot(y2_pred, 'r', label=\"prediction\")\n",
        "plt.ylabel('DOGE Close')\n",
        "plt.xlabel('Time Step')\n",
        "plt.legend()\n",
        "plt.show();"
      ],
      "execution_count": null,
      "outputs": [
        {
          "output_type": "display_data",
          "data": {
            "image/png": "[encoded data removed]",
            "text/plain": [
              "<Figure size 432x288 with 1 Axes>"
            ]
          },
          "metadata": {
            "needs_background": "light"
          }
        }
      ]
    },
    {
      "cell_type": "markdown",
      "metadata": {
        "id": "wMVEXhjANY4X"
      },
      "source": [
        "## Computing prediction accuracy"
      ]
    },
    {
      "cell_type": "code",
      "metadata": {
        "id": "aSt3I_bQNL8n",
        "colab": {
          "base_uri": "https://localhost:8080/"
        },
        "outputId": "4281fd68-8718-4595-93e0-5c8ef49307f6"
      },
      "source": [
        "import sklearn.metrics as sm\n",
        "print(\"Mean absolute error =\", \n",
        "      round(sm.mean_absolute_error(y2_test, y2_pred), 5)) \n",
        "print(\"Mean squared error =\", \n",
        "      round(sm.mean_squared_error(y2_test, y2_pred), 5)) \n",
        "print(\"Root mean squared error:\",\n",
        "      round(sm.mean_squared_error(y_test,y_pred)**0.5,5))\n",
        "print(\"Median absolute error =\", \n",
        "      round(sm.median_absolute_error(y2_test, y2_pred), 5)) \n",
        "print(\"Explain variance score =\", \n",
        "      round(sm.explained_variance_score(y2_test, y2_pred), 5)) \n",
        "print(\"R2 score =\", \n",
        "      round(sm.r2_score(y2_test, y2_pred), 5))"
      ],
      "execution_count": null,
      "outputs": [
        {
          "output_type": "stream",
          "name": "stdout",
          "text": [
            "Mean absolute error = 0.10531\n",
            "Mean squared error = 0.01998\n",
            "Root mean squared error: 0.14522\n",
            "Median absolute error = 0.07649\n",
            "Explain variance score = -0.55052\n",
            "R2 score = -0.55076\n"
          ]
        }
      ]
    },
    {
      "cell_type": "code",
      "metadata": {
        "id": "itxvqGByNvX0"
      },
      "source": [],
      "execution_count": null,
      "outputs": []
    },
    {
      "cell_type": "markdown",
      "metadata": {
        "id": "rBLbe-IAQJUE"
      },
      "source": [
        "# Tuning and comparing models\n",
        "\n",
        "With means for NAN in financial values: "
      ]
    },
    {
      "cell_type": "markdown",
      "metadata": {
        "id": "2uI1L7jcQJUF"
      },
      "source": [
        "## Preparing DF and Train and Test:"
      ]
    },
    {
      "cell_type": "code",
      "metadata": {
        "id": "2Bh-3nWsQJUF"
      },
      "source": [
        "df = pd.read_csv(io.BytesIO(uploaded['dog_mix_log_diff_return1611.csv']))\n",
        "df['date'] = pd.to_datetime(df['date'])\n",
        "df.set_index('date', inplace=True)"
      ],
      "execution_count": null,
      "outputs": []
    },
    {
      "cell_type": "code",
      "metadata": {
        "id": "SmJATa_CQJUG"
      },
      "source": [
        "columns = ['close_s&p500','close_vix','close_nasdaq']\n",
        "df1 = df.copy()\n",
        "df1 = df1.fillna(df.mean())"
      ],
      "execution_count": null,
      "outputs": []
    },
    {
      "cell_type": "code",
      "metadata": {
        "id": "8x-TmmkBQJUG",
        "colab": {
          "base_uri": "https://localhost:8080/",
          "height": 314
        },
        "outputId": "71f5334d-ec22-4b25-827a-8aa320920810"
      },
      "source": [
        "df1.describe()"
      ],
      "execution_count": null,
      "outputs": [
        {
          "output_type": "execute_result",
          "data": {
            "text/html": [
              "<div>\n",
              "<style scoped>\n",
              "    .dataframe tbody tr th:only-of-type {\n",
              "        vertical-align: middle;\n",
              "    }\n",
              "\n",
              "    .dataframe tbody tr th {\n",
              "        vertical-align: top;\n",
              "    }\n",
              "\n",
              "    .dataframe thead th {\n",
              "        text-align: right;\n",
              "    }\n",
              "</style>\n",
              "<table border=\"1\" class=\"dataframe\">\n",
              "  <thead>\n",
              "    <tr style=\"text-align: right;\">\n",
              "      <th></th>\n",
              "      <th>dog_close</th>\n",
              "      <th>btc_close</th>\n",
              "      <th>eth_close</th>\n",
              "      <th>usdt_close</th>\n",
              "      <th>dog_volume</th>\n",
              "      <th>btc_volume</th>\n",
              "      <th>eth_volume</th>\n",
              "      <th>tw_dog_mean_vader</th>\n",
              "      <th>twd_dog_count</th>\n",
              "      <th>rd_dog_mean_vader</th>\n",
              "      <th>rd_dog_count</th>\n",
              "      <th>gt_dog_adjusted</th>\n",
              "      <th>usdt_volume</th>\n",
              "      <th>close_s&amp;p500</th>\n",
              "      <th>close_vix</th>\n",
              "      <th>close_nasdaq</th>\n",
              "    </tr>\n",
              "  </thead>\n",
              "  <tbody>\n",
              "    <tr>\n",
              "      <th>count</th>\n",
              "      <td>516.000000</td>\n",
              "      <td>516.000000</td>\n",
              "      <td>516.000000</td>\n",
              "      <td>516.000000</td>\n",
              "      <td>5.160000e+02</td>\n",
              "      <td>5.160000e+02</td>\n",
              "      <td>5.160000e+02</td>\n",
              "      <td>516.000000</td>\n",
              "      <td>516.000000</td>\n",
              "      <td>516.000000</td>\n",
              "      <td>516.000000</td>\n",
              "      <td>516.000000</td>\n",
              "      <td>5.160000e+02</td>\n",
              "      <td>516.000000</td>\n",
              "      <td>516.000000</td>\n",
              "      <td>516.000000</td>\n",
              "    </tr>\n",
              "    <tr>\n",
              "      <th>mean</th>\n",
              "      <td>0.009068</td>\n",
              "      <td>0.002573</td>\n",
              "      <td>0.004767</td>\n",
              "      <td>-0.000003</td>\n",
              "      <td>4.086424e+06</td>\n",
              "      <td>1.070284e+07</td>\n",
              "      <td>2.366344e+07</td>\n",
              "      <td>-0.000114</td>\n",
              "      <td>10.843023</td>\n",
              "      <td>-0.000099</td>\n",
              "      <td>14.017442</td>\n",
              "      <td>0.027132</td>\n",
              "      <td>4.117007e+07</td>\n",
              "      <td>0.000752</td>\n",
              "      <td>0.000095</td>\n",
              "      <td>0.001253</td>\n",
              "    </tr>\n",
              "    <tr>\n",
              "      <th>std</th>\n",
              "      <td>0.111940</td>\n",
              "      <td>0.043944</td>\n",
              "      <td>0.058856</td>\n",
              "      <td>0.004718</td>\n",
              "      <td>4.292960e+09</td>\n",
              "      <td>2.165411e+10</td>\n",
              "      <td>6.045298e+09</td>\n",
              "      <td>0.058039</td>\n",
              "      <td>13324.707437</td>\n",
              "      <td>0.078951</td>\n",
              "      <td>10659.593543</td>\n",
              "      <td>296.478120</td>\n",
              "      <td>1.892601e+10</td>\n",
              "      <td>0.015803</td>\n",
              "      <td>0.074710</td>\n",
              "      <td>0.016877</td>\n",
              "    </tr>\n",
              "    <tr>\n",
              "      <th>min</th>\n",
              "      <td>-0.515118</td>\n",
              "      <td>-0.464730</td>\n",
              "      <td>-0.550732</td>\n",
              "      <td>-0.052570</td>\n",
              "      <td>-3.799728e+10</td>\n",
              "      <td>-3.050570e+11</td>\n",
              "      <td>-3.022394e+10</td>\n",
              "      <td>-0.327033</td>\n",
              "      <td>-164413.000000</td>\n",
              "      <td>-0.329392</td>\n",
              "      <td>-75808.000000</td>\n",
              "      <td>-3780.000000</td>\n",
              "      <td>-9.566314e+10</td>\n",
              "      <td>-0.127652</td>\n",
              "      <td>-0.266228</td>\n",
              "      <td>-0.131492</td>\n",
              "    </tr>\n",
              "    <tr>\n",
              "      <th>25%</th>\n",
              "      <td>-0.022799</td>\n",
              "      <td>-0.013953</td>\n",
              "      <td>-0.020265</td>\n",
              "      <td>-0.000750</td>\n",
              "      <td>-3.025735e+07</td>\n",
              "      <td>-4.385983e+09</td>\n",
              "      <td>-2.316805e+09</td>\n",
              "      <td>-0.027247</td>\n",
              "      <td>-52.000000</td>\n",
              "      <td>-0.026467</td>\n",
              "      <td>-45.000000</td>\n",
              "      <td>-0.492021</td>\n",
              "      <td>-6.670556e+09</td>\n",
              "      <td>-0.001590</td>\n",
              "      <td>-0.029311</td>\n",
              "      <td>-0.000966</td>\n",
              "    </tr>\n",
              "    <tr>\n",
              "      <th>50%</th>\n",
              "      <td>0.000000</td>\n",
              "      <td>0.002496</td>\n",
              "      <td>0.005985</td>\n",
              "      <td>-0.000008</td>\n",
              "      <td>-2.667508e+06</td>\n",
              "      <td>-1.558302e+08</td>\n",
              "      <td>-2.454842e+06</td>\n",
              "      <td>0.001044</td>\n",
              "      <td>-4.000000</td>\n",
              "      <td>0.000652</td>\n",
              "      <td>-3.000000</td>\n",
              "      <td>0.000000</td>\n",
              "      <td>1.899312e+06</td>\n",
              "      <td>0.000752</td>\n",
              "      <td>0.000095</td>\n",
              "      <td>0.001253</td>\n",
              "    </tr>\n",
              "    <tr>\n",
              "      <th>75%</th>\n",
              "      <td>0.020884</td>\n",
              "      <td>0.020317</td>\n",
              "      <td>0.033272</td>\n",
              "      <td>0.000862</td>\n",
              "      <td>1.510489e+07</td>\n",
              "      <td>4.775606e+09</td>\n",
              "      <td>2.019769e+09</td>\n",
              "      <td>0.028377</td>\n",
              "      <td>37.250000</td>\n",
              "      <td>0.029716</td>\n",
              "      <td>30.000000</td>\n",
              "      <td>0.285714</td>\n",
              "      <td>6.962274e+09</td>\n",
              "      <td>0.005211</td>\n",
              "      <td>0.012472</td>\n",
              "      <td>0.007166</td>\n",
              "    </tr>\n",
              "    <tr>\n",
              "      <th>max</th>\n",
              "      <td>1.323469</td>\n",
              "      <td>0.171821</td>\n",
              "      <td>0.230695</td>\n",
              "      <td>0.053393</td>\n",
              "      <td>5.149406e+10</td>\n",
              "      <td>2.964614e+11</td>\n",
              "      <td>4.406639e+10</td>\n",
              "      <td>0.456256</td>\n",
              "      <td>146884.000000</td>\n",
              "      <td>0.289818</td>\n",
              "      <td>193146.000000</td>\n",
              "      <td>4800.000000</td>\n",
              "      <td>1.395697e+11</td>\n",
              "      <td>0.089683</td>\n",
              "      <td>0.480214</td>\n",
              "      <td>0.089347</td>\n",
              "    </tr>\n",
              "  </tbody>\n",
              "</table>\n",
              "</div>"
            ],
            "text/plain": [
              "        dog_close   btc_close  ...   close_vix  close_nasdaq\n",
              "count  516.000000  516.000000  ...  516.000000    516.000000\n",
              "mean     0.009068    0.002573  ...    0.000095      0.001253\n",
              "std      0.111940    0.043944  ...    0.074710      0.016877\n",
              "min     -0.515118   -0.464730  ...   -0.266228     -0.131492\n",
              "25%     -0.022799   -0.013953  ...   -0.029311     -0.000966\n",
              "50%      0.000000    0.002496  ...    0.000095      0.001253\n",
              "75%      0.020884    0.020317  ...    0.012472      0.007166\n",
              "max      1.323469    0.171821  ...    0.480214      0.089347\n",
              "\n",
              "[8 rows x 16 columns]"
            ]
          },
          "metadata": {},
          "execution_count": 38
        }
      ]
    },
    {
      "cell_type": "code",
      "metadata": {
        "id": "68i0M6WuQJUG",
        "colab": {
          "base_uri": "https://localhost:8080/"
        },
        "outputId": "8a251630-3858-4070-c421-c4799053309d"
      },
      "source": [
        "# defining tran and test: \n",
        "train_size = int(len(df1)*0.9)\n",
        "test_size = len(df1) - train_size \n",
        "\n",
        "train,test=df1.iloc[0:train_size],df1.iloc[train_size:len(df1)]\n",
        "print(len(train),len(test))"
      ],
      "execution_count": null,
      "outputs": [
        {
          "output_type": "stream",
          "name": "stdout",
          "text": [
            "464 52\n"
          ]
        }
      ]
    },
    {
      "cell_type": "markdown",
      "metadata": {
        "id": "yvgOK78ZQJUG"
      },
      "source": [
        "## Preparing for Time Series Forecasting\n",
        "\n",
        "This step changes data s that value at current time step will be predicted byy using the history with n time steps form it "
      ]
    },
    {
      "cell_type": "code",
      "metadata": {
        "id": "mVzNLYrbQJUG"
      },
      "source": [
        "def create_dataset(X,y,time_steps=1):\n",
        "  Xs,ys = [],[]\n",
        "  for i in range(len(X)-time_steps):\n",
        "    v = X.iloc[i:(i+time_steps)].values \n",
        "    Xs.append(v)\n",
        "    ys.append(y.iloc[i+time_steps])\n",
        "  return np.array(Xs),np.array(ys)"
      ],
      "execution_count": null,
      "outputs": []
    },
    {
      "cell_type": "code",
      "metadata": {
        "id": "PXGM_PfNQJUH"
      },
      "source": [
        "time_steps = 20"
      ],
      "execution_count": null,
      "outputs": []
    },
    {
      "cell_type": "code",
      "metadata": {
        "id": "VaKOwXq7QJUH"
      },
      "source": [
        "X_train,y_train=create_dataset(train,train.dog_close,time_steps)\n",
        "X_test,y_test=create_dataset(test,test.dog_close,time_steps)"
      ],
      "execution_count": null,
      "outputs": []
    },
    {
      "cell_type": "code",
      "metadata": {
        "id": "KXHd_kmkQJUH",
        "colab": {
          "base_uri": "https://localhost:8080/"
        },
        "outputId": "65fd0f09-dfe6-45c8-c4dc-c71cb78b8d3d"
      },
      "source": [
        "print(X_train.shape,y_train.shape)"
      ],
      "execution_count": null,
      "outputs": [
        {
          "output_type": "stream",
          "name": "stdout",
          "text": [
            "(444, 20, 16) (444,)\n"
          ]
        }
      ]
    },
    {
      "cell_type": "code",
      "metadata": {
        "id": "hjDsiiPgQJUH",
        "colab": {
          "base_uri": "https://localhost:8080/"
        },
        "outputId": "1f78c5da-b2f9-4c1d-d115-4d2c63db795a"
      },
      "source": [
        "print(X_train[0],y_train[0])"
      ],
      "execution_count": null,
      "outputs": [
        {
          "output_type": "stream",
          "name": "stdout",
          "text": [
            "[[-1.90324322e-02 -1.68050487e-02 -2.48350161e-02 -8.03156729e-04\n",
            "  -7.44861900e+06 -2.94630313e+09 -8.76172944e+08  1.12299458e-01\n",
            "  -1.00000000e+00  5.37079215e-02  1.10000000e+01 -6.03448276e-01\n",
            "  -3.12787275e+09 -1.78644764e-02  1.95787615e-01 -1.60426530e-02]\n",
            " [ 1.16280380e-02  4.51847214e-03  1.93158752e-02  5.67471132e-04\n",
            "   2.21153500e+06 -3.50983322e+09 -1.58919212e+08 -4.03392175e-02\n",
            "  -2.20000000e+01  5.65821353e-02  1.00000000e+00  1.89655172e-01\n",
            "  -5.73378539e+09  7.52099920e-04  9.45036158e-05  1.25337426e-03]\n",
            " [ 1.88144609e-02 -5.17791028e-03  2.65591815e-02 -6.71409185e-04\n",
            "   1.28216850e+07  4.91308045e+09  2.48472821e+09 -9.89434258e-02\n",
            "   3.60000000e+01 -5.38532882e-02  9.70000000e+01  4.13793103e-01\n",
            "   5.79755523e+09  7.52099920e-04  9.45036158e-05  1.25337426e-03]\n",
            " [-1.14100667e-02 -5.45597008e-03  6.59228985e-03 -1.63144330e-03\n",
            "  -1.26958840e+07  9.83595630e+07 -1.66155015e+09  3.77462764e-02\n",
            "  -2.30000000e+01 -1.85282270e-02 -9.60000000e+01  7.14285714e-02\n",
            "  -7.11135825e+08  7.22845586e-03 -4.72786240e-02  1.32934758e-02]\n",
            " [ 2.54919731e-02 -1.21854536e-02 -3.24160988e-03  2.83107047e-03\n",
            "   1.09333710e+07 -1.04091279e+09 -6.78683546e+08 -6.92245128e-02\n",
            "   1.70000000e+01  2.20198907e-02  1.60000000e+01  5.00000000e-01\n",
            "  -2.89877596e+09  1.48692652e-02 -1.12994858e-01  2.07643652e-02]\n",
            " [ 3.10742800e-02  4.60283479e-02  7.61759486e-02  1.09050122e-03\n",
            "   1.59516170e+07  5.32887716e+09  3.15124274e+09 -5.32518276e-02\n",
            "   2.40000000e+01  2.88220141e-02 -2.60000000e+01  5.35714286e-01\n",
            "   9.55404437e+09  1.11878229e-02 -5.77082553e-02  4.29053860e-03]\n",
            " [ 2.71267827e-02  1.20330845e-02  3.89364507e-02 -5.62186302e-03\n",
            "   2.96999500e+06  2.40676284e+09  1.56015525e+09  6.80455962e-02\n",
            "  -5.50000000e+01 -5.84431169e-02  2.00000000e+01 -1.03571429e+00\n",
            "   4.44162610e+07  3.32012873e-03 -1.26205594e-02  6.65284863e-03]\n",
            " [ 4.27951690e-02  6.77483534e-03  4.77581457e-02  5.36349737e-04\n",
            "   2.15622640e+07 -3.10610556e+09  2.47853881e+08  4.44019215e-02\n",
            "   5.50000000e+01  3.17181169e-02  2.90000000e+01  5.71428571e-01\n",
            "  -3.58222299e+09 -5.41547051e-03  3.35226920e-02 -5.40948726e-03]\n",
            " [ 1.31769278e-01  7.03685952e-03  1.88599232e-03  1.78542419e-03\n",
            "   7.35299360e+07  6.49325603e+08  6.77595610e+07 -6.14255561e-02\n",
            "   1.23000000e+02 -1.08125541e-01  4.80000000e+01  1.92857143e+00\n",
            "   1.28477841e+09  7.52099920e-04  9.45036158e-05  1.25337426e-03]\n",
            " [ 2.28456188e-02  2.51797202e-02  2.40514200e-02  1.93802481e-03\n",
            "   1.50577130e+07  6.35840901e+08 -1.70984688e+09  5.42987670e-03\n",
            "  -2.50000000e+01  6.78372807e-02  7.70000000e+01 -2.57142857e+00\n",
            "   7.25995086e+08  7.52099920e-04  9.45036158e-05  1.25337426e-03]\n",
            " [-7.91664415e-02 -2.60425059e-02 -2.23669964e-02 -8.32120912e-04\n",
            "  -2.32795240e+07  3.57866341e+09  1.17865227e+09 -1.13853803e-02\n",
            "  -1.03000000e+02  7.24513557e-02 -1.55000000e+02 -4.14893617e-01\n",
            "   3.80645976e+09  7.29965216e-03 -2.81893461e-02  1.12675952e-02]\n",
            " [ 1.82517096e-02  3.50524467e-02  5.36880835e-02 -2.21804006e-03\n",
            "  -2.58348680e+07 -1.73848869e+09  7.54687452e+08 -1.83235294e-03\n",
            "  -3.40000000e+01 -6.20075758e-02 -1.00000000e+01  2.12765957e-02\n",
            "  -2.78262324e+09  1.68707491e-03  9.26545345e-03  1.09519928e-03]\n",
            " [ 1.69550850e-02  1.14754050e-02  1.18060131e-01  4.13397611e-03\n",
            "   1.16598250e+07  5.79624444e+09  7.58035342e+09  3.34257353e-02\n",
            "   3.40000000e+01  1.93128603e-02  3.80000000e+01  9.57446809e-02\n",
            "   8.82802112e+09  6.44186755e-03 -9.96674852e-02  8.98740659e-03]\n",
            " [-2.18998783e-02 -1.08737627e-02  1.00960104e-02 -3.97774191e-03\n",
            "  -1.28630180e+07  5.91176754e+09  1.25626812e+09  2.71209112e-02\n",
            "  -2.90000000e+01  4.23433030e-02 -2.30000000e+01 -2.02127660e-01\n",
            "   8.75889742e+09 -1.63177344e-03  2.94033373e-02 -1.43947803e-03]\n",
            " [ 3.37913892e-02  9.52301515e-03  5.83825649e-02  1.53600408e-03\n",
            "  -2.76947090e+07 -6.01780721e+09 -2.24306404e+09 -8.81275779e-02\n",
            "   1.30000000e+01 -3.68725424e-03  1.60000000e+01 -1.06382979e-02\n",
            "  -8.88991252e+09  1.84184473e-03 -3.37797119e-02  1.97601395e-03]\n",
            " [-6.94493883e-02 -4.18535504e-02 -7.10347232e-02 -9.86373916e-04\n",
            "   3.87679600e+06  5.26790669e+08  1.24199531e+08 -5.96139456e-04\n",
            "  -2.20000000e+01 -1.28138638e-01 -2.80000000e+01 -1.06382979e-01\n",
            "   2.55175132e+09  7.52099920e-04  9.45036158e-05  1.25337426e-03]\n",
            " [-5.12932944e-02  4.54087851e-03 -1.84284605e-02  1.44115292e-04\n",
            "   5.10590400e+06 -4.90274526e+08  1.46991365e+09  7.41829532e-02\n",
            "   4.00000000e+00 -1.19289450e-02  1.00000000e+00  6.17021277e-01\n",
            "   2.91019987e+09  7.52099920e-04  9.45036158e-05  1.25337426e-03]\n",
            " [-2.26039518e-02 -2.48977235e-02  2.45850666e-02 -7.98900403e-04\n",
            "  -2.09931000e+05  2.62351811e+09  8.71713446e+08  4.17028291e-02\n",
            "   3.00000000e+00 -2.71937500e-02 -6.00000000e+00 -4.89361702e-01\n",
            "   2.87808930e+09  7.52099920e-04  9.45036158e-05  1.25337426e-03]\n",
            " [ 4.57655074e-02  4.55756925e-02  5.68488573e-02  2.28587763e-03\n",
            "  -5.43315800e+06  1.27272554e+09  4.87397098e+08 -8.76871429e-02\n",
            "   1.50000000e+01  1.52582784e-01  4.90000000e+01  3.61702128e-01\n",
            "  -2.42185503e+09 -2.92425158e-03  8.07172440e-02  1.60352695e-04]\n",
            " [-7.87520064e-02 -5.14499840e-02 -8.19370888e-02  5.64412180e-04\n",
            "  -7.29979200e+06 -2.79004243e+08 -3.83206277e+09  4.02242138e-02\n",
            "  -1.40000000e+01 -1.76453268e-02  6.00000000e+00  1.06382979e-01\n",
            "  -5.69672193e+09  4.69478871e-03 -3.08138039e-02  8.63839642e-03]] 0.013250241179039612\n"
          ]
        }
      ]
    },
    {
      "cell_type": "markdown",
      "metadata": {
        "id": "vt6XE3OKQJUH"
      },
      "source": [
        "## Modeling\n",
        "\n",
        "Sequential LSTM  Keras Model"
      ]
    },
    {
      "cell_type": "code",
      "metadata": {
        "id": "MZ-gu5euQJUH",
        "colab": {
          "base_uri": "https://localhost:8080/"
        },
        "outputId": "491bdc41-5790-4b04-dc64-a2c4353188f9"
      },
      "source": [
        "print('Input shape is:',X_train.shape[1],X_train.shape[2])\n",
        "model = keras.Sequential()\n",
        "model.add(keras.layers.LSTM(\n",
        "    units = 128,\n",
        "    input_shape=(X_train.shape[1],X_train.shape[2])\n",
        "))\n",
        "model.add(keras.layers.Dense(units=1))\n",
        "model.compile(\n",
        "    loss = 'mean_squared_error',\n",
        "    optimizer = keras.optimizers.Adam(0.001)\n",
        ")"
      ],
      "execution_count": null,
      "outputs": [
        {
          "output_type": "stream",
          "name": "stdout",
          "text": [
            "Input shape is: 20 16\n"
          ]
        }
      ]
    },
    {
      "cell_type": "markdown",
      "metadata": {
        "id": "L0TKqGEIQJUI"
      },
      "source": [
        "#### Training: "
      ]
    },
    {
      "cell_type": "code",
      "metadata": {
        "id": "3D5IzGBaQJUI",
        "colab": {
          "base_uri": "https://localhost:8080/"
        },
        "outputId": "aba2b5a6-44f8-4f58-e0ee-8712704684c4"
      },
      "source": [
        "history = model.fit(\n",
        "    X_train,y_train,\n",
        "    epochs=300,\n",
        "    batch_size=16,\n",
        "    validation_split = 0.1,\n",
        "    verbose=1,\n",
        "    shuffle=False\n",
        ")"
      ],
      "execution_count": null,
      "outputs": [
        {
          "output_type": "stream",
          "name": "stdout",
          "text": [
            "Epoch 1/300\n",
            "25/25 [==============================] - 3s 44ms/step - loss: 0.3273 - val_loss: 0.3600\n",
            "Epoch 2/300\n",
            "25/25 [==============================] - 1s 23ms/step - loss: 0.2291 - val_loss: 0.3057\n",
            "Epoch 3/300\n",
            "25/25 [==============================] - 1s 25ms/step - loss: 0.1768 - val_loss: 0.2678\n",
            "Epoch 4/300\n",
            "25/25 [==============================] - 1s 23ms/step - loss: 0.1449 - val_loss: 0.2408\n",
            "Epoch 5/300\n",
            "25/25 [==============================] - 1s 23ms/step - loss: 0.1243 - val_loss: 0.2202\n",
            "Epoch 6/300\n",
            "25/25 [==============================] - 1s 24ms/step - loss: 0.1094 - val_loss: 0.2034\n",
            "Epoch 7/300\n",
            "25/25 [==============================] - 1s 23ms/step - loss: 0.0978 - val_loss: 0.1892\n",
            "Epoch 8/300\n",
            "25/25 [==============================] - 1s 23ms/step - loss: 0.0882 - val_loss: 0.1769\n",
            "Epoch 9/300\n",
            "25/25 [==============================] - 1s 22ms/step - loss: 0.0800 - val_loss: 0.1660\n",
            "Epoch 10/300\n",
            "25/25 [==============================] - 1s 23ms/step - loss: 0.0729 - val_loss: 0.1562\n",
            "Epoch 11/300\n",
            "25/25 [==============================] - 1s 23ms/step - loss: 0.0667 - val_loss: 0.1475\n",
            "Epoch 12/300\n",
            "25/25 [==============================] - 1s 23ms/step - loss: 0.0613 - val_loss: 0.1396\n",
            "Epoch 13/300\n",
            "25/25 [==============================] - 1s 23ms/step - loss: 0.0566 - val_loss: 0.1324\n",
            "Epoch 14/300\n",
            "25/25 [==============================] - 1s 24ms/step - loss: 0.0524 - val_loss: 0.1259\n",
            "Epoch 15/300\n",
            "25/25 [==============================] - 1s 24ms/step - loss: 0.0487 - val_loss: 0.1200\n",
            "Epoch 16/300\n",
            "25/25 [==============================] - 1s 24ms/step - loss: 0.0454 - val_loss: 0.1146\n",
            "Epoch 17/300\n",
            "25/25 [==============================] - 1s 24ms/step - loss: 0.0424 - val_loss: 0.1097\n",
            "Epoch 18/300\n",
            "25/25 [==============================] - 1s 24ms/step - loss: 0.0398 - val_loss: 0.1052\n",
            "Epoch 19/300\n",
            "25/25 [==============================] - 1s 24ms/step - loss: 0.0374 - val_loss: 0.1010\n",
            "Epoch 20/300\n",
            "25/25 [==============================] - 1s 23ms/step - loss: 0.0352 - val_loss: 0.0972\n",
            "Epoch 21/300\n",
            "25/25 [==============================] - 1s 23ms/step - loss: 0.0332 - val_loss: 0.0936\n",
            "Epoch 22/300\n",
            "25/25 [==============================] - 1s 24ms/step - loss: 0.0314 - val_loss: 0.0903\n",
            "Epoch 23/300\n",
            "25/25 [==============================] - 1s 22ms/step - loss: 0.0298 - val_loss: 0.0872\n",
            "Epoch 24/300\n",
            "25/25 [==============================] - 1s 25ms/step - loss: 0.0283 - val_loss: 0.0843\n",
            "Epoch 25/300\n",
            "25/25 [==============================] - 1s 24ms/step - loss: 0.0269 - val_loss: 0.0817\n",
            "Epoch 26/300\n",
            "25/25 [==============================] - 1s 23ms/step - loss: 0.0257 - val_loss: 0.0791\n",
            "Epoch 27/300\n",
            "25/25 [==============================] - 1s 23ms/step - loss: 0.0245 - val_loss: 0.0768\n",
            "Epoch 28/300\n",
            "25/25 [==============================] - 1s 23ms/step - loss: 0.0234 - val_loss: 0.0746\n",
            "Epoch 29/300\n",
            "25/25 [==============================] - 1s 24ms/step - loss: 0.0224 - val_loss: 0.0725\n",
            "Epoch 30/300\n",
            "25/25 [==============================] - 1s 21ms/step - loss: 0.0215 - val_loss: 0.0705\n",
            "Epoch 31/300\n",
            "25/25 [==============================] - 1s 23ms/step - loss: 0.0206 - val_loss: 0.0687\n",
            "Epoch 32/300\n",
            "25/25 [==============================] - 1s 24ms/step - loss: 0.0198 - val_loss: 0.0670\n",
            "Epoch 33/300\n",
            "25/25 [==============================] - 1s 23ms/step - loss: 0.0191 - val_loss: 0.0653\n",
            "Epoch 34/300\n",
            "25/25 [==============================] - 1s 26ms/step - loss: 0.0184 - val_loss: 0.0638\n",
            "Epoch 35/300\n",
            "25/25 [==============================] - 1s 23ms/step - loss: 0.0177 - val_loss: 0.0624\n",
            "Epoch 36/300\n",
            "25/25 [==============================] - 1s 25ms/step - loss: 0.0171 - val_loss: 0.0610\n",
            "Epoch 37/300\n",
            "25/25 [==============================] - 1s 23ms/step - loss: 0.0165 - val_loss: 0.0597\n",
            "Epoch 38/300\n",
            "25/25 [==============================] - 1s 24ms/step - loss: 0.0160 - val_loss: 0.0585\n",
            "Epoch 39/300\n",
            "25/25 [==============================] - 1s 25ms/step - loss: 0.0155 - val_loss: 0.0574\n",
            "Epoch 40/300\n",
            "25/25 [==============================] - 1s 28ms/step - loss: 0.0150 - val_loss: 0.0563\n",
            "Epoch 41/300\n",
            "25/25 [==============================] - 1s 23ms/step - loss: 0.0146 - val_loss: 0.0553\n",
            "Epoch 42/300\n",
            "25/25 [==============================] - 1s 22ms/step - loss: 0.0142 - val_loss: 0.0544\n",
            "Epoch 43/300\n",
            "25/25 [==============================] - 1s 23ms/step - loss: 0.0138 - val_loss: 0.0535\n",
            "Epoch 44/300\n",
            "25/25 [==============================] - 1s 25ms/step - loss: 0.0134 - val_loss: 0.0527\n",
            "Epoch 45/300\n",
            "25/25 [==============================] - 1s 24ms/step - loss: 0.0131 - val_loss: 0.0519\n",
            "Epoch 46/300\n",
            "25/25 [==============================] - 1s 25ms/step - loss: 0.0128 - val_loss: 0.0512\n",
            "Epoch 47/300\n",
            "25/25 [==============================] - 1s 24ms/step - loss: 0.0125 - val_loss: 0.0506\n",
            "Epoch 48/300\n",
            "25/25 [==============================] - 1s 26ms/step - loss: 0.0122 - val_loss: 0.0499\n",
            "Epoch 49/300\n",
            "25/25 [==============================] - 1s 25ms/step - loss: 0.0119 - val_loss: 0.0493\n",
            "Epoch 50/300\n",
            "25/25 [==============================] - 1s 22ms/step - loss: 0.0117 - val_loss: 0.0488\n",
            "Epoch 51/300\n",
            "25/25 [==============================] - 1s 23ms/step - loss: 0.0114 - val_loss: 0.0483\n",
            "Epoch 52/300\n",
            "25/25 [==============================] - 1s 26ms/step - loss: 0.0112 - val_loss: 0.0478\n",
            "Epoch 53/300\n",
            "25/25 [==============================] - 1s 25ms/step - loss: 0.0110 - val_loss: 0.0474\n",
            "Epoch 54/300\n",
            "25/25 [==============================] - 1s 27ms/step - loss: 0.0108 - val_loss: 0.0470\n",
            "Epoch 55/300\n",
            "25/25 [==============================] - 1s 25ms/step - loss: 0.0106 - val_loss: 0.0466\n",
            "Epoch 56/300\n",
            "25/25 [==============================] - 1s 25ms/step - loss: 0.0104 - val_loss: 0.0462\n",
            "Epoch 57/300\n",
            "25/25 [==============================] - 1s 25ms/step - loss: 0.0103 - val_loss: 0.0459\n",
            "Epoch 58/300\n",
            "25/25 [==============================] - 1s 23ms/step - loss: 0.0101 - val_loss: 0.0456\n",
            "Epoch 59/300\n",
            "25/25 [==============================] - 1s 23ms/step - loss: 0.0100 - val_loss: 0.0453\n",
            "Epoch 60/300\n",
            "25/25 [==============================] - 1s 23ms/step - loss: 0.0098 - val_loss: 0.0450\n",
            "Epoch 61/300\n",
            "25/25 [==============================] - 1s 25ms/step - loss: 0.0097 - val_loss: 0.0448\n",
            "Epoch 62/300\n",
            "25/25 [==============================] - 1s 21ms/step - loss: 0.0096 - val_loss: 0.0446\n",
            "Epoch 63/300\n",
            "25/25 [==============================] - 1s 22ms/step - loss: 0.0095 - val_loss: 0.0443\n",
            "Epoch 64/300\n",
            "25/25 [==============================] - 1s 24ms/step - loss: 0.0093 - val_loss: 0.0441\n",
            "Epoch 65/300\n",
            "25/25 [==============================] - 1s 22ms/step - loss: 0.0092 - val_loss: 0.0440\n",
            "Epoch 66/300\n",
            "25/25 [==============================] - 1s 22ms/step - loss: 0.0091 - val_loss: 0.0438\n",
            "Epoch 67/300\n",
            "25/25 [==============================] - 1s 24ms/step - loss: 0.0091 - val_loss: 0.0436\n",
            "Epoch 68/300\n",
            "25/25 [==============================] - 1s 26ms/step - loss: 0.0090 - val_loss: 0.0435\n",
            "Epoch 69/300\n",
            "25/25 [==============================] - 1s 27ms/step - loss: 0.0089 - val_loss: 0.0433\n",
            "Epoch 70/300\n",
            "25/25 [==============================] - 1s 24ms/step - loss: 0.0088 - val_loss: 0.0432\n",
            "Epoch 71/300\n",
            "25/25 [==============================] - 1s 26ms/step - loss: 0.0087 - val_loss: 0.0431\n",
            "Epoch 72/300\n",
            "25/25 [==============================] - 1s 25ms/step - loss: 0.0087 - val_loss: 0.0430\n",
            "Epoch 73/300\n",
            "25/25 [==============================] - 1s 27ms/step - loss: 0.0086 - val_loss: 0.0428\n",
            "Epoch 74/300\n",
            "25/25 [==============================] - 1s 26ms/step - loss: 0.0085 - val_loss: 0.0427\n",
            "Epoch 75/300\n",
            "25/25 [==============================] - 1s 22ms/step - loss: 0.0085 - val_loss: 0.0426\n",
            "Epoch 76/300\n",
            "25/25 [==============================] - 1s 23ms/step - loss: 0.0084 - val_loss: 0.0425\n",
            "Epoch 77/300\n",
            "25/25 [==============================] - 1s 26ms/step - loss: 0.0083 - val_loss: 0.0425\n",
            "Epoch 78/300\n",
            "25/25 [==============================] - 1s 24ms/step - loss: 0.0083 - val_loss: 0.0424\n",
            "Epoch 79/300\n",
            "25/25 [==============================] - 1s 24ms/step - loss: 0.0082 - val_loss: 0.0423\n",
            "Epoch 80/300\n",
            "25/25 [==============================] - 1s 23ms/step - loss: 0.0082 - val_loss: 0.0422\n",
            "Epoch 81/300\n",
            "25/25 [==============================] - 1s 23ms/step - loss: 0.0081 - val_loss: 0.0421\n",
            "Epoch 82/300\n",
            "25/25 [==============================] - 1s 24ms/step - loss: 0.0081 - val_loss: 0.0421\n",
            "Epoch 83/300\n",
            "25/25 [==============================] - 1s 24ms/step - loss: 0.0081 - val_loss: 0.0420\n",
            "Epoch 84/300\n",
            "25/25 [==============================] - 1s 24ms/step - loss: 0.0080 - val_loss: 0.0419\n",
            "Epoch 85/300\n",
            "25/25 [==============================] - 1s 24ms/step - loss: 0.0080 - val_loss: 0.0418\n",
            "Epoch 86/300\n",
            "25/25 [==============================] - 1s 22ms/step - loss: 0.0079 - val_loss: 0.0418\n",
            "Epoch 87/300\n",
            "25/25 [==============================] - 1s 22ms/step - loss: 0.0079 - val_loss: 0.0417\n",
            "Epoch 88/300\n",
            "25/25 [==============================] - 1s 23ms/step - loss: 0.0079 - val_loss: 0.0416\n",
            "Epoch 89/300\n",
            "25/25 [==============================] - 1s 24ms/step - loss: 0.0078 - val_loss: 0.0416\n",
            "Epoch 90/300\n",
            "25/25 [==============================] - 1s 25ms/step - loss: 0.0078 - val_loss: 0.0415\n",
            "Epoch 91/300\n",
            "25/25 [==============================] - 1s 22ms/step - loss: 0.0078 - val_loss: 0.0415\n",
            "Epoch 92/300\n",
            "25/25 [==============================] - 1s 21ms/step - loss: 0.0078 - val_loss: 0.0414\n",
            "Epoch 93/300\n",
            "25/25 [==============================] - 1s 22ms/step - loss: 0.0077 - val_loss: 0.0413\n",
            "Epoch 94/300\n",
            "25/25 [==============================] - 1s 25ms/step - loss: 0.0077 - val_loss: 0.0413\n",
            "Epoch 95/300\n",
            "25/25 [==============================] - 1s 25ms/step - loss: 0.0077 - val_loss: 0.0412\n",
            "Epoch 96/300\n",
            "25/25 [==============================] - 1s 25ms/step - loss: 0.0077 - val_loss: 0.0411\n",
            "Epoch 97/300\n",
            "25/25 [==============================] - 1s 24ms/step - loss: 0.0076 - val_loss: 0.0411\n",
            "Epoch 98/300\n",
            "25/25 [==============================] - 1s 25ms/step - loss: 0.0076 - val_loss: 0.0410\n",
            "Epoch 99/300\n",
            "25/25 [==============================] - 1s 24ms/step - loss: 0.0076 - val_loss: 0.0410\n",
            "Epoch 100/300\n",
            "25/25 [==============================] - 1s 25ms/step - loss: 0.0076 - val_loss: 0.0409\n",
            "Epoch 101/300\n",
            "25/25 [==============================] - 1s 25ms/step - loss: 0.0075 - val_loss: 0.0409\n",
            "Epoch 102/300\n",
            "25/25 [==============================] - 1s 27ms/step - loss: 0.0075 - val_loss: 0.0408\n",
            "Epoch 103/300\n",
            "25/25 [==============================] - 1s 27ms/step - loss: 0.0075 - val_loss: 0.0407\n",
            "Epoch 104/300\n",
            "25/25 [==============================] - 1s 22ms/step - loss: 0.0075 - val_loss: 0.0407\n",
            "Epoch 105/300\n",
            "25/25 [==============================] - 1s 22ms/step - loss: 0.0075 - val_loss: 0.0406\n",
            "Epoch 106/300\n",
            "25/25 [==============================] - 1s 22ms/step - loss: 0.0075 - val_loss: 0.0406\n",
            "Epoch 107/300\n",
            "25/25 [==============================] - 1s 21ms/step - loss: 0.0074 - val_loss: 0.0405\n",
            "Epoch 108/300\n",
            "25/25 [==============================] - 1s 23ms/step - loss: 0.0074 - val_loss: 0.0404\n",
            "Epoch 109/300\n",
            "25/25 [==============================] - 1s 22ms/step - loss: 0.0074 - val_loss: 0.0404\n",
            "Epoch 110/300\n",
            "25/25 [==============================] - 1s 23ms/step - loss: 0.0074 - val_loss: 0.0403\n",
            "Epoch 111/300\n",
            "25/25 [==============================] - 1s 25ms/step - loss: 0.0074 - val_loss: 0.0403\n",
            "Epoch 112/300\n",
            "25/25 [==============================] - 1s 25ms/step - loss: 0.0074 - val_loss: 0.0402\n",
            "Epoch 113/300\n",
            "25/25 [==============================] - 1s 25ms/step - loss: 0.0074 - val_loss: 0.0402\n",
            "Epoch 114/300\n",
            "25/25 [==============================] - 1s 25ms/step - loss: 0.0073 - val_loss: 0.0401\n",
            "Epoch 115/300\n",
            "25/25 [==============================] - 1s 27ms/step - loss: 0.0073 - val_loss: 0.0401\n",
            "Epoch 116/300\n",
            "25/25 [==============================] - 1s 25ms/step - loss: 0.0073 - val_loss: 0.0400\n",
            "Epoch 117/300\n",
            "25/25 [==============================] - 1s 24ms/step - loss: 0.0073 - val_loss: 0.0400\n",
            "Epoch 118/300\n",
            "25/25 [==============================] - 1s 25ms/step - loss: 0.0073 - val_loss: 0.0399\n",
            "Epoch 119/300\n",
            "25/25 [==============================] - 1s 24ms/step - loss: 0.0073 - val_loss: 0.0399\n",
            "Epoch 120/300\n",
            "25/25 [==============================] - 1s 21ms/step - loss: 0.0073 - val_loss: 0.0398\n",
            "Epoch 121/300\n",
            "25/25 [==============================] - 1s 22ms/step - loss: 0.0073 - val_loss: 0.0398\n",
            "Epoch 122/300\n",
            "25/25 [==============================] - 1s 22ms/step - loss: 0.0073 - val_loss: 0.0397\n",
            "Epoch 123/300\n",
            "25/25 [==============================] - 1s 26ms/step - loss: 0.0073 - val_loss: 0.0397\n",
            "Epoch 124/300\n",
            "25/25 [==============================] - 1s 26ms/step - loss: 0.0072 - val_loss: 0.0396\n",
            "Epoch 125/300\n",
            "25/25 [==============================] - 1s 26ms/step - loss: 0.0072 - val_loss: 0.0396\n",
            "Epoch 126/300\n",
            "25/25 [==============================] - 1s 24ms/step - loss: 0.0072 - val_loss: 0.0395\n",
            "Epoch 127/300\n",
            "25/25 [==============================] - 1s 22ms/step - loss: 0.0072 - val_loss: 0.0395\n",
            "Epoch 128/300\n",
            "25/25 [==============================] - 1s 23ms/step - loss: 0.0072 - val_loss: 0.0394\n",
            "Epoch 129/300\n",
            "25/25 [==============================] - 1s 23ms/step - loss: 0.0072 - val_loss: 0.0394\n",
            "Epoch 130/300\n",
            "25/25 [==============================] - 1s 26ms/step - loss: 0.0072 - val_loss: 0.0393\n",
            "Epoch 131/300\n",
            "25/25 [==============================] - 1s 23ms/step - loss: 0.0072 - val_loss: 0.0393\n",
            "Epoch 132/300\n",
            "25/25 [==============================] - 1s 22ms/step - loss: 0.0072 - val_loss: 0.0392\n",
            "Epoch 133/300\n",
            "25/25 [==============================] - 1s 25ms/step - loss: 0.0072 - val_loss: 0.0392\n",
            "Epoch 134/300\n",
            "25/25 [==============================] - 1s 26ms/step - loss: 0.0072 - val_loss: 0.0392\n",
            "Epoch 135/300\n",
            "25/25 [==============================] - 1s 24ms/step - loss: 0.0072 - val_loss: 0.0391\n",
            "Epoch 136/300\n",
            "25/25 [==============================] - 1s 25ms/step - loss: 0.0072 - val_loss: 0.0391\n",
            "Epoch 137/300\n",
            "25/25 [==============================] - 1s 26ms/step - loss: 0.0071 - val_loss: 0.0390\n",
            "Epoch 138/300\n",
            "25/25 [==============================] - 1s 26ms/step - loss: 0.0071 - val_loss: 0.0390\n",
            "Epoch 139/300\n",
            "25/25 [==============================] - 1s 27ms/step - loss: 0.0071 - val_loss: 0.0390\n",
            "Epoch 140/300\n",
            "25/25 [==============================] - 1s 25ms/step - loss: 0.0071 - val_loss: 0.0389\n",
            "Epoch 141/300\n",
            "25/25 [==============================] - 1s 25ms/step - loss: 0.0071 - val_loss: 0.0389\n",
            "Epoch 142/300\n",
            "25/25 [==============================] - 1s 27ms/step - loss: 0.0071 - val_loss: 0.0388\n",
            "Epoch 143/300\n",
            "25/25 [==============================] - 1s 25ms/step - loss: 0.0071 - val_loss: 0.0388\n",
            "Epoch 144/300\n",
            "25/25 [==============================] - 1s 25ms/step - loss: 0.0071 - val_loss: 0.0388\n",
            "Epoch 145/300\n",
            "25/25 [==============================] - 1s 24ms/step - loss: 0.0071 - val_loss: 0.0387\n",
            "Epoch 146/300\n",
            "25/25 [==============================] - 1s 23ms/step - loss: 0.0071 - val_loss: 0.0387\n",
            "Epoch 147/300\n",
            "25/25 [==============================] - 1s 24ms/step - loss: 0.0071 - val_loss: 0.0387\n",
            "Epoch 148/300\n",
            "25/25 [==============================] - 1s 22ms/step - loss: 0.0071 - val_loss: 0.0386\n",
            "Epoch 149/300\n",
            "25/25 [==============================] - 1s 24ms/step - loss: 0.0071 - val_loss: 0.0386\n",
            "Epoch 150/300\n",
            "25/25 [==============================] - 1s 27ms/step - loss: 0.0071 - val_loss: 0.0386\n",
            "Epoch 151/300\n",
            "25/25 [==============================] - 1s 22ms/step - loss: 0.0071 - val_loss: 0.0386\n",
            "Epoch 152/300\n",
            "25/25 [==============================] - 1s 22ms/step - loss: 0.0071 - val_loss: 0.0385\n",
            "Epoch 153/300\n",
            "25/25 [==============================] - 1s 23ms/step - loss: 0.0071 - val_loss: 0.0385\n",
            "Epoch 154/300\n",
            "25/25 [==============================] - 1s 23ms/step - loss: 0.0071 - val_loss: 0.0385\n",
            "Epoch 155/300\n",
            "25/25 [==============================] - 1s 22ms/step - loss: 0.0071 - val_loss: 0.0384\n",
            "Epoch 156/300\n",
            "25/25 [==============================] - 1s 24ms/step - loss: 0.0071 - val_loss: 0.0384\n",
            "Epoch 157/300\n",
            "25/25 [==============================] - 1s 25ms/step - loss: 0.0071 - val_loss: 0.0384\n",
            "Epoch 158/300\n",
            "25/25 [==============================] - 1s 24ms/step - loss: 0.0070 - val_loss: 0.0384\n",
            "Epoch 159/300\n",
            "25/25 [==============================] - 1s 25ms/step - loss: 0.0070 - val_loss: 0.0383\n",
            "Epoch 160/300\n",
            "25/25 [==============================] - 1s 24ms/step - loss: 0.0070 - val_loss: 0.0383\n",
            "Epoch 161/300\n",
            "25/25 [==============================] - 1s 24ms/step - loss: 0.0070 - val_loss: 0.0383\n",
            "Epoch 162/300\n",
            "25/25 [==============================] - 1s 25ms/step - loss: 0.0070 - val_loss: 0.0383\n",
            "Epoch 163/300\n",
            "25/25 [==============================] - 1s 25ms/step - loss: 0.0070 - val_loss: 0.0383\n",
            "Epoch 164/300\n",
            "25/25 [==============================] - 1s 24ms/step - loss: 0.0070 - val_loss: 0.0382\n",
            "Epoch 165/300\n",
            "25/25 [==============================] - 1s 24ms/step - loss: 0.0070 - val_loss: 0.0382\n",
            "Epoch 166/300\n",
            "25/25 [==============================] - 1s 25ms/step - loss: 0.0070 - val_loss: 0.0382\n",
            "Epoch 167/300\n",
            "25/25 [==============================] - 1s 24ms/step - loss: 0.0070 - val_loss: 0.0382\n",
            "Epoch 168/300\n",
            "25/25 [==============================] - 1s 27ms/step - loss: 0.0070 - val_loss: 0.0382\n",
            "Epoch 169/300\n",
            "25/25 [==============================] - 1s 23ms/step - loss: 0.0070 - val_loss: 0.0381\n",
            "Epoch 170/300\n",
            "25/25 [==============================] - 1s 23ms/step - loss: 0.0070 - val_loss: 0.0381\n",
            "Epoch 171/300\n",
            "25/25 [==============================] - 1s 22ms/step - loss: 0.0070 - val_loss: 0.0381\n",
            "Epoch 172/300\n",
            "25/25 [==============================] - 1s 22ms/step - loss: 0.0070 - val_loss: 0.0381\n",
            "Epoch 173/300\n",
            "25/25 [==============================] - 1s 21ms/step - loss: 0.0070 - val_loss: 0.0381\n",
            "Epoch 174/300\n",
            "25/25 [==============================] - 1s 22ms/step - loss: 0.0070 - val_loss: 0.0381\n",
            "Epoch 175/300\n",
            "25/25 [==============================] - 1s 25ms/step - loss: 0.0070 - val_loss: 0.0380\n",
            "Epoch 176/300\n",
            "25/25 [==============================] - 1s 24ms/step - loss: 0.0070 - val_loss: 0.0380\n",
            "Epoch 177/300\n",
            "25/25 [==============================] - 1s 22ms/step - loss: 0.0070 - val_loss: 0.0380\n",
            "Epoch 178/300\n",
            "25/25 [==============================] - 1s 23ms/step - loss: 0.0070 - val_loss: 0.0380\n",
            "Epoch 179/300\n",
            "25/25 [==============================] - 1s 25ms/step - loss: 0.0070 - val_loss: 0.0380\n",
            "Epoch 180/300\n",
            "25/25 [==============================] - 1s 23ms/step - loss: 0.0070 - val_loss: 0.0380\n",
            "Epoch 181/300\n",
            "25/25 [==============================] - 1s 21ms/step - loss: 0.0070 - val_loss: 0.0380\n",
            "Epoch 182/300\n",
            "25/25 [==============================] - 1s 22ms/step - loss: 0.0070 - val_loss: 0.0379\n",
            "Epoch 183/300\n",
            "25/25 [==============================] - 1s 22ms/step - loss: 0.0070 - val_loss: 0.0379\n",
            "Epoch 184/300\n",
            "25/25 [==============================] - 1s 22ms/step - loss: 0.0070 - val_loss: 0.0379\n",
            "Epoch 185/300\n",
            "25/25 [==============================] - 1s 23ms/step - loss: 0.0070 - val_loss: 0.0379\n",
            "Epoch 186/300\n",
            "25/25 [==============================] - 1s 25ms/step - loss: 0.0070 - val_loss: 0.0379\n",
            "Epoch 187/300\n",
            "25/25 [==============================] - 1s 24ms/step - loss: 0.0070 - val_loss: 0.0379\n",
            "Epoch 188/300\n",
            "25/25 [==============================] - 1s 25ms/step - loss: 0.0070 - val_loss: 0.0379\n",
            "Epoch 189/300\n",
            "25/25 [==============================] - 1s 25ms/step - loss: 0.0070 - val_loss: 0.0379\n",
            "Epoch 190/300\n",
            "25/25 [==============================] - 1s 25ms/step - loss: 0.0070 - val_loss: 0.0379\n",
            "Epoch 191/300\n",
            "25/25 [==============================] - 1s 22ms/step - loss: 0.0070 - val_loss: 0.0379\n",
            "Epoch 192/300\n",
            "25/25 [==============================] - 1s 25ms/step - loss: 0.0070 - val_loss: 0.0379\n",
            "Epoch 193/300\n",
            "25/25 [==============================] - 1s 24ms/step - loss: 0.0070 - val_loss: 0.0378\n",
            "Epoch 194/300\n",
            "25/25 [==============================] - 1s 25ms/step - loss: 0.0070 - val_loss: 0.0378\n",
            "Epoch 195/300\n",
            "25/25 [==============================] - 1s 24ms/step - loss: 0.0070 - val_loss: 0.0378\n",
            "Epoch 196/300\n",
            "25/25 [==============================] - 1s 22ms/step - loss: 0.0069 - val_loss: 0.0378\n",
            "Epoch 197/300\n",
            "25/25 [==============================] - 1s 24ms/step - loss: 0.0069 - val_loss: 0.0378\n",
            "Epoch 198/300\n",
            "25/25 [==============================] - 1s 25ms/step - loss: 0.0069 - val_loss: 0.0378\n",
            "Epoch 199/300\n",
            "25/25 [==============================] - 1s 26ms/step - loss: 0.0069 - val_loss: 0.0378\n",
            "Epoch 200/300\n",
            "25/25 [==============================] - 1s 25ms/step - loss: 0.0069 - val_loss: 0.0378\n",
            "Epoch 201/300\n",
            "25/25 [==============================] - 1s 22ms/step - loss: 0.0069 - val_loss: 0.0378\n",
            "Epoch 202/300\n",
            "25/25 [==============================] - 1s 24ms/step - loss: 0.0069 - val_loss: 0.0378\n",
            "Epoch 203/300\n",
            "25/25 [==============================] - 1s 24ms/step - loss: 0.0069 - val_loss: 0.0378\n",
            "Epoch 204/300\n",
            "25/25 [==============================] - 1s 24ms/step - loss: 0.0069 - val_loss: 0.0378\n",
            "Epoch 205/300\n",
            "25/25 [==============================] - 1s 26ms/step - loss: 0.0069 - val_loss: 0.0378\n",
            "Epoch 206/300\n",
            "25/25 [==============================] - 1s 25ms/step - loss: 0.0069 - val_loss: 0.0378\n",
            "Epoch 207/300\n",
            "25/25 [==============================] - 1s 24ms/step - loss: 0.0069 - val_loss: 0.0378\n",
            "Epoch 208/300\n",
            "25/25 [==============================] - 1s 22ms/step - loss: 0.0069 - val_loss: 0.0378\n",
            "Epoch 209/300\n",
            "25/25 [==============================] - 1s 22ms/step - loss: 0.0069 - val_loss: 0.0378\n",
            "Epoch 210/300\n",
            "25/25 [==============================] - 1s 22ms/step - loss: 0.0069 - val_loss: 0.0378\n",
            "Epoch 211/300\n",
            "25/25 [==============================] - 1s 22ms/step - loss: 0.0069 - val_loss: 0.0378\n",
            "Epoch 212/300\n",
            "25/25 [==============================] - 1s 23ms/step - loss: 0.0069 - val_loss: 0.0378\n",
            "Epoch 213/300\n",
            "25/25 [==============================] - 1s 23ms/step - loss: 0.0069 - val_loss: 0.0377\n",
            "Epoch 214/300\n",
            "25/25 [==============================] - 1s 23ms/step - loss: 0.0069 - val_loss: 0.0377\n",
            "Epoch 215/300\n",
            "25/25 [==============================] - 1s 22ms/step - loss: 0.0069 - val_loss: 0.0377\n",
            "Epoch 216/300\n",
            "25/25 [==============================] - 1s 23ms/step - loss: 0.0069 - val_loss: 0.0377\n",
            "Epoch 217/300\n",
            "25/25 [==============================] - 1s 22ms/step - loss: 0.0069 - val_loss: 0.0377\n",
            "Epoch 218/300\n",
            "25/25 [==============================] - 1s 23ms/step - loss: 0.0069 - val_loss: 0.0377\n",
            "Epoch 219/300\n",
            "25/25 [==============================] - 1s 23ms/step - loss: 0.0069 - val_loss: 0.0377\n",
            "Epoch 220/300\n",
            "25/25 [==============================] - 1s 24ms/step - loss: 0.0069 - val_loss: 0.0377\n",
            "Epoch 221/300\n",
            "25/25 [==============================] - 1s 26ms/step - loss: 0.0069 - val_loss: 0.0377\n",
            "Epoch 222/300\n",
            "25/25 [==============================] - 1s 25ms/step - loss: 0.0069 - val_loss: 0.0377\n",
            "Epoch 223/300\n",
            "25/25 [==============================] - 1s 25ms/step - loss: 0.0069 - val_loss: 0.0377\n",
            "Epoch 224/300\n",
            "25/25 [==============================] - 1s 24ms/step - loss: 0.0069 - val_loss: 0.0377\n",
            "Epoch 225/300\n",
            "25/25 [==============================] - 1s 22ms/step - loss: 0.0069 - val_loss: 0.0377\n",
            "Epoch 226/300\n",
            "25/25 [==============================] - 1s 22ms/step - loss: 0.0069 - val_loss: 0.0377\n",
            "Epoch 227/300\n",
            "25/25 [==============================] - 1s 22ms/step - loss: 0.0069 - val_loss: 0.0377\n",
            "Epoch 228/300\n",
            "25/25 [==============================] - 1s 24ms/step - loss: 0.0069 - val_loss: 0.0377\n",
            "Epoch 229/300\n",
            "25/25 [==============================] - 1s 25ms/step - loss: 0.0069 - val_loss: 0.0377\n",
            "Epoch 230/300\n",
            "25/25 [==============================] - 1s 23ms/step - loss: 0.0069 - val_loss: 0.0377\n",
            "Epoch 231/300\n",
            "25/25 [==============================] - 1s 23ms/step - loss: 0.0069 - val_loss: 0.0377\n",
            "Epoch 232/300\n",
            "25/25 [==============================] - 1s 25ms/step - loss: 0.0069 - val_loss: 0.0377\n",
            "Epoch 233/300\n",
            "25/25 [==============================] - 1s 26ms/step - loss: 0.0069 - val_loss: 0.0377\n",
            "Epoch 234/300\n",
            "25/25 [==============================] - 1s 26ms/step - loss: 0.0069 - val_loss: 0.0377\n",
            "Epoch 235/300\n",
            "25/25 [==============================] - 1s 25ms/step - loss: 0.0069 - val_loss: 0.0377\n",
            "Epoch 236/300\n",
            "25/25 [==============================] - 1s 25ms/step - loss: 0.0069 - val_loss: 0.0377\n",
            "Epoch 237/300\n",
            "25/25 [==============================] - 1s 25ms/step - loss: 0.0069 - val_loss: 0.0377\n",
            "Epoch 238/300\n",
            "25/25 [==============================] - 1s 24ms/step - loss: 0.0069 - val_loss: 0.0377\n",
            "Epoch 239/300\n",
            "25/25 [==============================] - 1s 23ms/step - loss: 0.0069 - val_loss: 0.0377\n",
            "Epoch 240/300\n",
            "25/25 [==============================] - 1s 22ms/step - loss: 0.0069 - val_loss: 0.0377\n",
            "Epoch 241/300\n",
            "25/25 [==============================] - 1s 23ms/step - loss: 0.0069 - val_loss: 0.0377\n",
            "Epoch 242/300\n",
            "25/25 [==============================] - 1s 22ms/step - loss: 0.0069 - val_loss: 0.0377\n",
            "Epoch 243/300\n",
            "25/25 [==============================] - 1s 24ms/step - loss: 0.0069 - val_loss: 0.0378\n",
            "Epoch 244/300\n",
            "25/25 [==============================] - 1s 27ms/step - loss: 0.0069 - val_loss: 0.0378\n",
            "Epoch 245/300\n",
            "25/25 [==============================] - 1s 24ms/step - loss: 0.0069 - val_loss: 0.0378\n",
            "Epoch 246/300\n",
            "25/25 [==============================] - 1s 23ms/step - loss: 0.0069 - val_loss: 0.0378\n",
            "Epoch 247/300\n",
            "25/25 [==============================] - 1s 27ms/step - loss: 0.0069 - val_loss: 0.0378\n",
            "Epoch 248/300\n",
            "25/25 [==============================] - 1s 26ms/step - loss: 0.0069 - val_loss: 0.0378\n",
            "Epoch 249/300\n",
            "25/25 [==============================] - 1s 26ms/step - loss: 0.0069 - val_loss: 0.0378\n",
            "Epoch 250/300\n",
            "25/25 [==============================] - 1s 26ms/step - loss: 0.0069 - val_loss: 0.0378\n",
            "Epoch 251/300\n",
            "25/25 [==============================] - 1s 26ms/step - loss: 0.0069 - val_loss: 0.0378\n",
            "Epoch 252/300\n",
            "25/25 [==============================] - 1s 26ms/step - loss: 0.0069 - val_loss: 0.0378\n",
            "Epoch 253/300\n",
            "25/25 [==============================] - 1s 26ms/step - loss: 0.0069 - val_loss: 0.0378\n",
            "Epoch 254/300\n",
            "25/25 [==============================] - 1s 27ms/step - loss: 0.0069 - val_loss: 0.0378\n",
            "Epoch 255/300\n",
            "25/25 [==============================] - 1s 25ms/step - loss: 0.0069 - val_loss: 0.0378\n",
            "Epoch 256/300\n",
            "25/25 [==============================] - 1s 25ms/step - loss: 0.0069 - val_loss: 0.0378\n",
            "Epoch 257/300\n",
            "25/25 [==============================] - 1s 26ms/step - loss: 0.0069 - val_loss: 0.0378\n",
            "Epoch 258/300\n",
            "25/25 [==============================] - 1s 28ms/step - loss: 0.0069 - val_loss: 0.0378\n",
            "Epoch 259/300\n",
            "25/25 [==============================] - 1s 25ms/step - loss: 0.0069 - val_loss: 0.0378\n",
            "Epoch 260/300\n",
            "25/25 [==============================] - 1s 23ms/step - loss: 0.0069 - val_loss: 0.0378\n",
            "Epoch 261/300\n",
            "25/25 [==============================] - 1s 25ms/step - loss: 0.0069 - val_loss: 0.0378\n",
            "Epoch 262/300\n",
            "25/25 [==============================] - 1s 26ms/step - loss: 0.0069 - val_loss: 0.0378\n",
            "Epoch 263/300\n",
            "25/25 [==============================] - 1s 22ms/step - loss: 0.0069 - val_loss: 0.0378\n",
            "Epoch 264/300\n",
            "25/25 [==============================] - 1s 23ms/step - loss: 0.0069 - val_loss: 0.0378\n",
            "Epoch 265/300\n",
            "25/25 [==============================] - 1s 27ms/step - loss: 0.0069 - val_loss: 0.0378\n",
            "Epoch 266/300\n",
            "25/25 [==============================] - 1s 25ms/step - loss: 0.0069 - val_loss: 0.0378\n",
            "Epoch 267/300\n",
            "25/25 [==============================] - 1s 26ms/step - loss: 0.0069 - val_loss: 0.0378\n",
            "Epoch 268/300\n",
            "25/25 [==============================] - 1s 27ms/step - loss: 0.0069 - val_loss: 0.0378\n",
            "Epoch 269/300\n",
            "25/25 [==============================] - 1s 26ms/step - loss: 0.0069 - val_loss: 0.0378\n",
            "Epoch 270/300\n",
            "25/25 [==============================] - 1s 25ms/step - loss: 0.0069 - val_loss: 0.0378\n",
            "Epoch 271/300\n",
            "25/25 [==============================] - 1s 26ms/step - loss: 0.0069 - val_loss: 0.0378\n",
            "Epoch 272/300\n",
            "25/25 [==============================] - 1s 26ms/step - loss: 0.0069 - val_loss: 0.0378\n",
            "Epoch 273/300\n",
            "25/25 [==============================] - 1s 25ms/step - loss: 0.0069 - val_loss: 0.0378\n",
            "Epoch 274/300\n",
            "25/25 [==============================] - 1s 26ms/step - loss: 0.0069 - val_loss: 0.0378\n",
            "Epoch 275/300\n",
            "25/25 [==============================] - 1s 26ms/step - loss: 0.0069 - val_loss: 0.0378\n",
            "Epoch 276/300\n",
            "25/25 [==============================] - 1s 25ms/step - loss: 0.0069 - val_loss: 0.0378\n",
            "Epoch 277/300\n",
            "25/25 [==============================] - 1s 25ms/step - loss: 0.0069 - val_loss: 0.0378\n",
            "Epoch 278/300\n",
            "25/25 [==============================] - 1s 26ms/step - loss: 0.0069 - val_loss: 0.0378\n",
            "Epoch 279/300\n",
            "25/25 [==============================] - 1s 27ms/step - loss: 0.0069 - val_loss: 0.0378\n",
            "Epoch 280/300\n",
            "25/25 [==============================] - 1s 24ms/step - loss: 0.0069 - val_loss: 0.0379\n",
            "Epoch 281/300\n",
            "25/25 [==============================] - 1s 24ms/step - loss: 0.0069 - val_loss: 0.0379\n",
            "Epoch 282/300\n",
            "25/25 [==============================] - 1s 22ms/step - loss: 0.0069 - val_loss: 0.0379\n",
            "Epoch 283/300\n",
            "25/25 [==============================] - 1s 23ms/step - loss: 0.0069 - val_loss: 0.0379\n",
            "Epoch 284/300\n",
            "25/25 [==============================] - 1s 22ms/step - loss: 0.0069 - val_loss: 0.0379\n",
            "Epoch 285/300\n",
            "25/25 [==============================] - 1s 25ms/step - loss: 0.0069 - val_loss: 0.0379\n",
            "Epoch 286/300\n",
            "25/25 [==============================] - 1s 25ms/step - loss: 0.0069 - val_loss: 0.0379\n",
            "Epoch 287/300\n",
            "25/25 [==============================] - 1s 26ms/step - loss: 0.0069 - val_loss: 0.0379\n",
            "Epoch 288/300\n",
            "25/25 [==============================] - 1s 26ms/step - loss: 0.0069 - val_loss: 0.0379\n",
            "Epoch 289/300\n",
            "25/25 [==============================] - 1s 26ms/step - loss: 0.0069 - val_loss: 0.0379\n",
            "Epoch 290/300\n",
            "25/25 [==============================] - 1s 23ms/step - loss: 0.0069 - val_loss: 0.0379\n",
            "Epoch 291/300\n",
            "25/25 [==============================] - 1s 23ms/step - loss: 0.0069 - val_loss: 0.0379\n",
            "Epoch 292/300\n",
            "25/25 [==============================] - 1s 26ms/step - loss: 0.0069 - val_loss: 0.0379\n",
            "Epoch 293/300\n",
            "25/25 [==============================] - 1s 26ms/step - loss: 0.0069 - val_loss: 0.0379\n",
            "Epoch 294/300\n",
            "25/25 [==============================] - 1s 26ms/step - loss: 0.0069 - val_loss: 0.0379\n",
            "Epoch 295/300\n",
            "25/25 [==============================] - 1s 23ms/step - loss: 0.0069 - val_loss: 0.0379\n",
            "Epoch 296/300\n",
            "25/25 [==============================] - 1s 23ms/step - loss: 0.0069 - val_loss: 0.0379\n",
            "Epoch 297/300\n",
            "25/25 [==============================] - 1s 22ms/step - loss: 0.0069 - val_loss: 0.0379\n",
            "Epoch 298/300\n",
            "25/25 [==============================] - 1s 24ms/step - loss: 0.0069 - val_loss: 0.0379\n",
            "Epoch 299/300\n",
            "25/25 [==============================] - 1s 23ms/step - loss: 0.0069 - val_loss: 0.0379\n",
            "Epoch 300/300\n",
            "25/25 [==============================] - 1s 25ms/step - loss: 0.0069 - val_loss: 0.0379\n"
          ]
        }
      ]
    },
    {
      "cell_type": "code",
      "metadata": {
        "id": "X1m87bMnQJUJ",
        "colab": {
          "base_uri": "https://localhost:8080/",
          "height": 282
        },
        "outputId": "b8665054-7eba-4fda-f3e7-fe01f5671fd1"
      },
      "source": [
        "plt.plot(history.history['loss'], label='Training loss')\n",
        "plt.plot(history.history['val_loss'], label='Validation loss')\n",
        "plt.legend()"
      ],
      "execution_count": null,
      "outputs": [
        {
          "output_type": "execute_result",
          "data": {
            "text/plain": [
              "<matplotlib.legend.Legend at 0x7f0aa99a0890>"
            ]
          },
          "metadata": {},
          "execution_count": 47
        },
        {
          "output_type": "display_data",
          "data": {
            "image/png": "[encoded data removed]",
            "text/plain": [
              "<Figure size 432x288 with 1 Axes>"
            ]
          },
          "metadata": {
            "needs_background": "light"
          }
        }
      ]
    },
    {
      "cell_type": "markdown",
      "metadata": {
        "id": "0N1sZ_sHQJUJ"
      },
      "source": [
        "#### Making Predictions: "
      ]
    },
    {
      "cell_type": "code",
      "metadata": {
        "id": "YOtwKCfAQJUK"
      },
      "source": [
        "y_pred=model.predict(X_test)"
      ],
      "execution_count": null,
      "outputs": []
    },
    {
      "cell_type": "code",
      "metadata": {
        "id": "jkCzihKjQJUK",
        "colab": {
          "base_uri": "https://localhost:8080/",
          "height": 278
        },
        "outputId": "c420a8a5-72b7-4d42-dcac-98cbdbaf068e"
      },
      "source": [
        "plt.plot(np.arange(0, len(y_train)), y_train, 'g', label=\"history\")\n",
        "plt.plot(np.arange(len(y_train), len(y_train) + len(y_test)), y_test, marker='.', label=\"true\")\n",
        "plt.plot(np.arange(len(y_train), len(y_train) + len(y_test)), y_pred, 'r', label=\"prediction\")\n",
        "plt.ylabel('DOGE Close')\n",
        "plt.xlabel('Time Step')\n",
        "plt.legend()\n",
        "plt.show();"
      ],
      "execution_count": null,
      "outputs": [
        {
          "output_type": "display_data",
          "data": {
            "image/png": "[encoded data removed]",
            "text/plain": [
              "<Figure size 432x288 with 1 Axes>"
            ]
          },
          "metadata": {
            "needs_background": "light"
          }
        }
      ]
    },
    {
      "cell_type": "code",
      "metadata": {
        "id": "rql3T6dXQJUK",
        "colab": {
          "base_uri": "https://localhost:8080/",
          "height": 278
        },
        "outputId": "d6a37426-eb36-4d84-c289-22b25fbcf3cf"
      },
      "source": [
        "plt.plot(y_test, marker='.', label=\"true\")\n",
        "plt.plot(y_pred, 'r', label=\"prediction\")\n",
        "plt.ylabel('DOGE Close')\n",
        "plt.xlabel('Time Step')\n",
        "plt.legend()\n",
        "plt.show();"
      ],
      "execution_count": null,
      "outputs": [
        {
          "output_type": "display_data",
          "data": {
            "image/png": "[encoded data removed]",
            "text/plain": [
              "<Figure size 432x288 with 1 Axes>"
            ]
          },
          "metadata": {
            "needs_background": "light"
          }
        }
      ]
    },
    {
      "cell_type": "code",
      "metadata": {
        "id": "LQNOZwLbQJUK",
        "colab": {
          "base_uri": "https://localhost:8080/"
        },
        "outputId": "9f50add8-1c6a-4093-e6e2-6b5af377abfd"
      },
      "source": [
        "import sklearn.metrics as sm\n",
        "print(\"Mean absolute error =\", \n",
        "      round(sm.mean_absolute_error(y_test, y_pred), 5)) \n",
        "print(\"Mean squared error =\", \n",
        "      round(sm.mean_squared_error(y_test, y_pred), 5)) \n",
        "print(\"Root mean squared error:\",\n",
        "      round(sm.mean_squared_error(y_test,y_pred)**0.5,5))\n",
        "print(\"Median absolute error =\", \n",
        "      round(sm.median_absolute_error(y_test, y_pred), 5)) \n",
        "print(\"Explain variance score =\", \n",
        "      round(sm.explained_variance_score(y_test, y_pred), 5)) \n",
        "print(\"R2 score =\", \n",
        "      round(sm.r2_score(y_test, y_pred), 5))"
      ],
      "execution_count": null,
      "outputs": [
        {
          "output_type": "stream",
          "name": "stdout",
          "text": [
            "Mean absolute error = 0.08892\n",
            "Mean squared error = 0.01491\n",
            "Root mean squared error: 0.12209\n",
            "Median absolute error = 0.05693\n",
            "Explain variance score = -0.29372\n",
            "R2 score = -0.34508\n"
          ]
        }
      ]
    },
    {
      "cell_type": "code",
      "metadata": {
        "id": "ecDh5K0pQ6S9"
      },
      "source": [],
      "execution_count": null,
      "outputs": []
    },
    {
      "cell_type": "markdown",
      "metadata": {
        "id": "hsRUkd44SO8i"
      },
      "source": [
        "## Modeling 2\n",
        "\n",
        "Sequential LSTM  Keras Model: different time_steps"
      ]
    },
    {
      "cell_type": "code",
      "metadata": {
        "id": "tby6yB5ESezV"
      },
      "source": [
        "time_steps = 32\n",
        "X_train,y_train=create_dataset(train,train.dog_close,time_steps)\n",
        "X_test,y_test=create_dataset(test,test.dog_close,time_steps)"
      ],
      "execution_count": null,
      "outputs": []
    },
    {
      "cell_type": "code",
      "metadata": {
        "id": "_3nkYrskSO8i",
        "colab": {
          "base_uri": "https://localhost:8080/"
        },
        "outputId": "8933dcf0-1abc-43c0-d6b9-828856b85f29"
      },
      "source": [
        "print('Input shape is:',X_train.shape[1],X_train.shape[2])\n",
        "model = keras.Sequential()\n",
        "model.add(keras.layers.LSTM(\n",
        "    units = 128,\n",
        "    input_shape=(X_train.shape[1],X_train.shape[2])\n",
        "))\n",
        "model.add(keras.layers.Dense(units=1))\n",
        "model.compile(\n",
        "    loss = 'mean_squared_error',\n",
        "    optimizer = keras.optimizers.Adam(0.001)\n",
        ")"
      ],
      "execution_count": null,
      "outputs": [
        {
          "output_type": "stream",
          "name": "stdout",
          "text": [
            "Input shape is: 32 16\n"
          ]
        }
      ]
    },
    {
      "cell_type": "markdown",
      "metadata": {
        "id": "1o3PmlLXSO8i"
      },
      "source": [
        "#### Training: "
      ]
    },
    {
      "cell_type": "code",
      "metadata": {
        "id": "8mCKu7cCSO8i"
      },
      "source": [
        "history = model.fit(\n",
        "    X_train,y_train,\n",
        "    epochs=300,\n",
        "    batch_size=16,\n",
        "    validation_split = 0.1,\n",
        "    verbose=0,\n",
        "    shuffle=False\n",
        ")"
      ],
      "execution_count": null,
      "outputs": []
    },
    {
      "cell_type": "code",
      "metadata": {
        "id": "Mqen0LTFSO8i",
        "colab": {
          "base_uri": "https://localhost:8080/",
          "height": 283
        },
        "outputId": "6e8b9c9e-dc94-46dd-cea9-7e56aad9107f"
      },
      "source": [
        "plt.plot(history.history['loss'], label='Training loss')\n",
        "plt.plot(history.history['val_loss'], label='Validation loss')\n",
        "plt.legend()"
      ],
      "execution_count": null,
      "outputs": [
        {
          "output_type": "execute_result",
          "data": {
            "text/plain": [
              "<matplotlib.legend.Legend at 0x7f0aa7f74710>"
            ]
          },
          "metadata": {},
          "execution_count": 55
        },
        {
          "output_type": "display_data",
          "data": {
            "image/png": "[encoded data removed]",
            "text/plain": [
              "<Figure size 432x288 with 1 Axes>"
            ]
          },
          "metadata": {
            "needs_background": "light"
          }
        }
      ]
    },
    {
      "cell_type": "markdown",
      "metadata": {
        "id": "6QkHZo9jSO8j"
      },
      "source": [
        "#### Making Predictions: "
      ]
    },
    {
      "cell_type": "code",
      "metadata": {
        "id": "fNNOID54SO8j"
      },
      "source": [
        "y_pred=model.predict(X_test)"
      ],
      "execution_count": null,
      "outputs": []
    },
    {
      "cell_type": "code",
      "metadata": {
        "id": "mJ63-23sSO8j",
        "colab": {
          "base_uri": "https://localhost:8080/",
          "height": 278
        },
        "outputId": "fb3c8cb8-e397-4566-a555-1244e76c6d8f"
      },
      "source": [
        "plt.plot(np.arange(0, len(y_train)), y_train, 'g', label=\"history\")\n",
        "plt.plot(np.arange(len(y_train), len(y_train) + len(y_test)), y_test, marker='.', label=\"true\")\n",
        "plt.plot(np.arange(len(y_train), len(y_train) + len(y_test)), y_pred, 'r', label=\"prediction\")\n",
        "plt.ylabel('DOGE Close')\n",
        "plt.xlabel('Time Step')\n",
        "plt.legend()\n",
        "plt.show();"
      ],
      "execution_count": null,
      "outputs": [
        {
          "output_type": "display_data",
          "data": {
            "image/png": "[encoded data removed]",
            "text/plain": [
              "<Figure size 432x288 with 1 Axes>"
            ]
          },
          "metadata": {
            "needs_background": "light"
          }
        }
      ]
    },
    {
      "cell_type": "code",
      "metadata": {
        "id": "RJiIcTMUSO8j",
        "colab": {
          "base_uri": "https://localhost:8080/",
          "height": 278
        },
        "outputId": "afea946d-2680-4341-ac1a-7100f1c23145"
      },
      "source": [
        "plt.plot(y_test, marker='.', label=\"true\")\n",
        "plt.plot(y_pred, 'r', label=\"prediction\")\n",
        "plt.ylabel('DOGE Close')\n",
        "plt.xlabel('Time Step')\n",
        "plt.legend()\n",
        "plt.show();"
      ],
      "execution_count": null,
      "outputs": [
        {
          "output_type": "display_data",
          "data": {
            "image/png": "[encoded data removed]",
            "text/plain": [
              "<Figure size 432x288 with 1 Axes>"
            ]
          },
          "metadata": {
            "needs_background": "light"
          }
        }
      ]
    },
    {
      "cell_type": "code",
      "metadata": {
        "id": "QpXHopzySO8j",
        "colab": {
          "base_uri": "https://localhost:8080/"
        },
        "outputId": "00a428db-2a80-4099-ace3-5e6f350dfeb4"
      },
      "source": [
        "import sklearn.metrics as sm\n",
        "print(\"Mean absolute error =\", \n",
        "      round(sm.mean_absolute_error(y_test, y_pred), 5)) \n",
        "print(\"Mean squared error =\", \n",
        "      round(sm.mean_squared_error(y_test, y_pred), 5)) \n",
        "print(\"Root mean squared error:\",\n",
        "      round(sm.mean_squared_error(y_test,y_pred)**0.5,5))\n",
        "print(\"Median absolute error =\", \n",
        "      round(sm.median_absolute_error(y_test, y_pred), 5)) \n",
        "print(\"Explain variance score =\", \n",
        "      round(sm.explained_variance_score(y_test, y_pred), 5)) \n",
        "print(\"R2 score =\", \n",
        "      round(sm.r2_score(y_test, y_pred), 5))"
      ],
      "execution_count": null,
      "outputs": [
        {
          "output_type": "stream",
          "name": "stdout",
          "text": [
            "Mean absolute error = 0.13459\n",
            "Mean squared error = 0.02731\n",
            "Root mean squared error: 0.16525\n",
            "Median absolute error = 0.11336\n",
            "Explain variance score = -0.88644\n",
            "R2 score = -0.8935\n"
          ]
        }
      ]
    },
    {
      "cell_type": "markdown",
      "metadata": {
        "id": "FN3Ec_yicAba"
      },
      "source": [
        "## Modeling 3\n",
        "\n",
        "Sequential LSTM  Keras Model: different time_steps"
      ]
    },
    {
      "cell_type": "code",
      "metadata": {
        "id": "sib-sZgLcAba"
      },
      "source": [
        "time_steps = 1\n",
        "X_train,y_train=create_dataset(train,train.dog_close,time_steps)\n",
        "X_test,y_test=create_dataset(test,test.dog_close,time_steps)"
      ],
      "execution_count": null,
      "outputs": []
    },
    {
      "cell_type": "code",
      "metadata": {
        "id": "9qJENlXncAba",
        "colab": {
          "base_uri": "https://localhost:8080/"
        },
        "outputId": "16b95bcd-7d71-4ef7-ecdd-8d8539d92ad2"
      },
      "source": [
        "print('Input shape is:',X_train.shape[1],X_train.shape[2])\n",
        "model = keras.Sequential()\n",
        "model.add(keras.layers.LSTM(\n",
        "    units = 128,\n",
        "    input_shape=(X_train.shape[1],X_train.shape[2])\n",
        "))\n",
        "model.add(keras.layers.Dense(units=1))\n",
        "model.compile(\n",
        "    loss = 'mean_squared_error',\n",
        "    optimizer = keras.optimizers.Adam(0.001)\n",
        ")"
      ],
      "execution_count": null,
      "outputs": [
        {
          "output_type": "stream",
          "name": "stdout",
          "text": [
            "Input shape is: 1 16\n"
          ]
        }
      ]
    },
    {
      "cell_type": "markdown",
      "metadata": {
        "id": "zaUDLmxvcAbb"
      },
      "source": [
        "#### Training: "
      ]
    },
    {
      "cell_type": "code",
      "metadata": {
        "id": "xIucuA62cAbb"
      },
      "source": [
        "history = model.fit(\n",
        "    X_train,y_train,\n",
        "    epochs=300,\n",
        "    batch_size=16,\n",
        "    validation_split = 0.1,\n",
        "    verbose=0,\n",
        "    shuffle=False\n",
        ")"
      ],
      "execution_count": null,
      "outputs": []
    },
    {
      "cell_type": "code",
      "metadata": {
        "id": "HtTYzoa_cAbb",
        "colab": {
          "base_uri": "https://localhost:8080/",
          "height": 282
        },
        "outputId": "6459cd4b-e30d-47b2-867f-05151e465d8d"
      },
      "source": [
        "plt.plot(history.history['loss'], label='Training loss')\n",
        "plt.plot(history.history['val_loss'], label='Validation loss')\n",
        "plt.legend()"
      ],
      "execution_count": null,
      "outputs": [
        {
          "output_type": "execute_result",
          "data": {
            "text/plain": [
              "<matplotlib.legend.Legend at 0x7f0aa8133b50>"
            ]
          },
          "metadata": {},
          "execution_count": 63
        },
        {
          "output_type": "display_data",
          "data": {
            "image/png": "[encoded data removed]",
            "text/plain": [
              "<Figure size 432x288 with 1 Axes>"
            ]
          },
          "metadata": {
            "needs_background": "light"
          }
        }
      ]
    },
    {
      "cell_type": "markdown",
      "metadata": {
        "id": "DPwOdn4_cAbb"
      },
      "source": [
        "#### Making Predictions: "
      ]
    },
    {
      "cell_type": "code",
      "metadata": {
        "id": "iYfgW7XscAbc",
        "colab": {
          "base_uri": "https://localhost:8080/"
        },
        "outputId": "be0e5477-3144-47b1-a921-300aa44bf322"
      },
      "source": [
        "y_pred=model.predict(X_test)"
      ],
      "execution_count": null,
      "outputs": [
        {
          "output_type": "stream",
          "name": "stdout",
          "text": [
            "WARNING:tensorflow:5 out of the last 7 calls to <function Model.make_predict_function.<locals>.predict_function at 0x7f0aa7f8ecb0> triggered tf.function retracing. Tracing is expensive and the excessive number of tracings could be due to (1) creating @tf.function repeatedly in a loop, (2) passing tensors with different shapes, (3) passing Python objects instead of tensors. For (1), please define your @tf.function outside of the loop. For (2), @tf.function has experimental_relax_shapes=True option that relaxes argument shapes that can avoid unnecessary retracing. For (3), please refer to https://www.tensorflow.org/guide/function#controlling_retracing and https://www.tensorflow.org/api_docs/python/tf/function for  more details.\n"
          ]
        }
      ]
    },
    {
      "cell_type": "code",
      "metadata": {
        "id": "Q0YgD0XHcAbc",
        "colab": {
          "base_uri": "https://localhost:8080/",
          "height": 278
        },
        "outputId": "344ff9f5-a427-41d8-9404-16f1f24128f4"
      },
      "source": [
        "plt.plot(np.arange(0, len(y_train)), y_train, 'g', label=\"history\")\n",
        "plt.plot(np.arange(len(y_train), len(y_train) + len(y_test)), y_test, marker='.', label=\"true\")\n",
        "plt.plot(np.arange(len(y_train), len(y_train) + len(y_test)), y_pred, 'r', label=\"prediction\")\n",
        "plt.ylabel('DOGE Close')\n",
        "plt.xlabel('Time Step')\n",
        "plt.legend()\n",
        "plt.show();"
      ],
      "execution_count": null,
      "outputs": [
        {
          "output_type": "display_data",
          "data": {
            "image/png": "[encoded data removed]",
            "text/plain": [
              "<Figure size 432x288 with 1 Axes>"
            ]
          },
          "metadata": {
            "needs_background": "light"
          }
        }
      ]
    },
    {
      "cell_type": "code",
      "metadata": {
        "id": "TI7i1QxVcAbc",
        "colab": {
          "base_uri": "https://localhost:8080/",
          "height": 278
        },
        "outputId": "596ff764-d1c5-4e7b-fc3b-ed7fda2514fe"
      },
      "source": [
        "plt.plot(y_test, marker='.', label=\"true\")\n",
        "plt.plot(y_pred, 'r', label=\"prediction\")\n",
        "plt.ylabel('DOGE Close')\n",
        "plt.xlabel('Time Step')\n",
        "plt.legend()\n",
        "plt.show();"
      ],
      "execution_count": null,
      "outputs": [
        {
          "output_type": "display_data",
          "data": {
            "image/png": "[encoded data removed]",
            "text/plain": [
              "<Figure size 432x288 with 1 Axes>"
            ]
          },
          "metadata": {
            "needs_background": "light"
          }
        }
      ]
    },
    {
      "cell_type": "code",
      "metadata": {
        "id": "Iruq5Sz4cAbc",
        "colab": {
          "base_uri": "https://localhost:8080/"
        },
        "outputId": "5d32a482-17d1-4f70-8780-5ef718a85467"
      },
      "source": [
        "import sklearn.metrics as sm\n",
        "print(\"Mean absolute error =\", \n",
        "      round(sm.mean_absolute_error(y_test, y_pred), 5)) \n",
        "print(\"Mean squared error =\", \n",
        "      round(sm.mean_squared_error(y_test, y_pred), 5)) \n",
        "print(\"Median absolute error =\", \n",
        "      round(sm.median_absolute_error(y_test, y_pred), 5)) \n",
        "print(\"Explain variance score =\", \n",
        "      round(sm.explained_variance_score(y_test, y_pred), 5)) \n",
        "print(\"R2 score =\", \n",
        "      round(sm.r2_score(y_test, y_pred), 5))"
      ],
      "execution_count": null,
      "outputs": [
        {
          "output_type": "stream",
          "name": "stdout",
          "text": [
            "Mean absolute error = 0.13942\n",
            "Mean squared error = 0.03414\n",
            "Median absolute error = 0.10518\n",
            "Explain variance score = -1.16165\n",
            "R2 score = -1.20849\n"
          ]
        }
      ]
    },
    {
      "cell_type": "code",
      "metadata": {
        "id": "UQQ5cMwrcAbc"
      },
      "source": [],
      "execution_count": null,
      "outputs": []
    },
    {
      "cell_type": "markdown",
      "metadata": {
        "id": "0Hjw9fASr03n"
      },
      "source": [
        "## Modeling 4\n",
        "\n",
        "Sequential LSTM  Keras Model:\n",
        "MinMaxScaler"
      ]
    },
    {
      "cell_type": "code",
      "metadata": {
        "colab": {
          "base_uri": "https://localhost:8080/"
        },
        "id": "nNwSE4K8u3jT",
        "outputId": "8bcb9d59-0f47-492c-aac4-f78d23237f23"
      },
      "source": [
        "# defining tran and test: \n",
        "train_size = int(len(df1)*0.9)\n",
        "test_size = len(df1) - train_size \n",
        "\n",
        "train,test=df1.iloc[0:train_size],df1.iloc[train_size:len(df1)]\n",
        "print(len(train),len(test))"
      ],
      "execution_count": null,
      "outputs": [
        {
          "output_type": "stream",
          "name": "stdout",
          "text": [
            "464 52\n"
          ]
        }
      ]
    },
    {
      "cell_type": "code",
      "metadata": {
        "colab": {
          "base_uri": "https://localhost:8080/"
        },
        "id": "x_2qgMJVssGC",
        "outputId": "d6692ff2-3249-490b-964d-88689068404b"
      },
      "source": [
        "# Nomralization: \n",
        "# fit_transform() for training, transform() for test to avoid data leakage \n",
        "\n",
        "y_train,y_test = df1.dog_close.iloc[0:train_size],df1.dog_close.iloc[train_size:len(df1)]\n",
        "\n",
        "y_train,y_test = y_train.values.reshape(-1, 1),y_test.values.reshape(-1, 1)\n",
        "\n",
        "\n",
        "from sklearn.preprocessing import MinMaxScaler\n",
        "\n",
        "x_scaler = MinMaxScaler(feature_range=(-1,1))\n",
        "y_scaler = MinMaxScaler(feature_range=(-1,1))\n",
        "\n",
        "train = x_scaler.fit_transform(train)\n",
        "y_train = y_scaler.fit_transform(y_train)\n",
        "\n",
        "test =  x_scaler.transform(test)\n",
        "y_test = y_scaler.transform(y_test)\n",
        "\n",
        "print('x:',train.shape,test.shape)\n",
        "print('y:', y_train.shape,y_test.shape)"
      ],
      "execution_count": null,
      "outputs": [
        {
          "output_type": "stream",
          "name": "stdout",
          "text": [
            "x: (464, 16) (52, 16)\n",
            "y: (464, 1) (52, 1)\n"
          ]
        }
      ]
    },
    {
      "cell_type": "code",
      "metadata": {
        "id": "BaeAI__EyzN5"
      },
      "source": [
        "def split_sequences(x,y,n_steps):\n",
        "  X,Y = list(),list()\n",
        "  for i in range(len(x)):\n",
        "    end_ix = i+n_steps\n",
        "    if end_ix >= len(x): \n",
        "      break\n",
        "    else: \n",
        "        #seq_x, seq_y = x[i:end_ix, :-1,:], y[i+n_steps]\n",
        "        seq_x, seq_y = x[i : end_ix], y[i+n_steps]\n",
        "        X.append(seq_x)\n",
        "        Y.append(seq_y)\n",
        "  return array(X),array(Y)"
      ],
      "execution_count": null,
      "outputs": []
    },
    {
      "cell_type": "code",
      "metadata": {
        "id": "Y4WVUIbIzGrF"
      },
      "source": [
        "n_steps = 10\n",
        "X_train,y_train=split_sequences(train,y_train,n_steps)\n",
        "X_test,y_test=split_sequences(test,y_test,n_steps)"
      ],
      "execution_count": null,
      "outputs": []
    },
    {
      "cell_type": "code",
      "metadata": {
        "colab": {
          "base_uri": "https://localhost:8080/"
        },
        "id": "5v5Xwbn9r03y",
        "outputId": "eec13105-3454-4d36-bcb8-2e1d38f63e4a"
      },
      "source": [
        "print('Input shape is:',X_train.shape[1],X_train.shape[2])\n",
        "\n",
        "model = keras.Sequential()\n",
        "model.add(keras.layers.LSTM(\n",
        "    units = 128,\n",
        "    input_shape=(X_train.shape[1],X_train.shape[2]),\n",
        "    return_sequences=True\n",
        "))\n",
        "model.add(keras.layers.LSTM(\n",
        "    units = 64,\n",
        "    return_sequences=True\n",
        "))\n",
        "model.add(keras.layers.LSTM(\n",
        "    units = 32\n",
        "))\n",
        "model.add(keras.layers.Dense(units=1))\n",
        "\n",
        "model.compile(\n",
        "    loss = 'mean_squared_error',\n",
        "    optimizer = keras.optimizers.Adam(0.001)\n",
        ")"
      ],
      "execution_count": null,
      "outputs": [
        {
          "output_type": "stream",
          "name": "stdout",
          "text": [
            "Input shape is: 10 16\n"
          ]
        }
      ]
    },
    {
      "cell_type": "code",
      "metadata": {
        "colab": {
          "base_uri": "https://localhost:8080/"
        },
        "id": "6MujC4WoOoY1",
        "outputId": "1ea86e88-18b2-4aaa-a0f1-816b409738da"
      },
      "source": [
        "model.summary()"
      ],
      "execution_count": null,
      "outputs": [
        {
          "output_type": "stream",
          "name": "stdout",
          "text": [
            "Model: \"sequential_5\"\n",
            "_________________________________________________________________\n",
            " Layer (type)                Output Shape              Param #   \n",
            "=================================================================\n",
            " lstm_5 (LSTM)               (None, 10, 128)           74240     \n",
            "                                                                 \n",
            " lstm_6 (LSTM)               (None, 10, 64)            49408     \n",
            "                                                                 \n",
            " lstm_7 (LSTM)               (None, 32)                12416     \n",
            "                                                                 \n",
            " dense_5 (Dense)             (None, 1)                 33        \n",
            "                                                                 \n",
            "=================================================================\n",
            "Total params: 136,097\n",
            "Trainable params: 136,097\n",
            "Non-trainable params: 0\n",
            "_________________________________________________________________\n"
          ]
        }
      ]
    },
    {
      "cell_type": "markdown",
      "metadata": {
        "id": "N5R05HPRr03y"
      },
      "source": [
        "#### Training: "
      ]
    },
    {
      "cell_type": "code",
      "metadata": {
        "id": "UsJIHGAsr03z"
      },
      "source": [
        "history = model.fit(\n",
        "    X_train,y_train,\n",
        "    epochs=50,\n",
        "    batch_size=16,\n",
        "    validation_split = 0.1,\n",
        "    verbose=0,\n",
        "    shuffle=False\n",
        ")"
      ],
      "execution_count": null,
      "outputs": []
    },
    {
      "cell_type": "code",
      "metadata": {
        "colab": {
          "base_uri": "https://localhost:8080/",
          "height": 282
        },
        "id": "A2Acksghr03z",
        "outputId": "f9152bd4-2b6a-48f0-99ea-67ab9f27deb7"
      },
      "source": [
        "plt.plot(history.history['loss'], label='Training loss')\n",
        "plt.plot(history.history['val_loss'], label='Validation loss')\n",
        "plt.legend()"
      ],
      "execution_count": null,
      "outputs": [
        {
          "output_type": "execute_result",
          "data": {
            "text/plain": [
              "<matplotlib.legend.Legend at 0x7f0aa4d3cb10>"
            ]
          },
          "metadata": {},
          "execution_count": 75
        },
        {
          "output_type": "display_data",
          "data": {
            "image/png": "[encoded data removed]",
            "text/plain": [
              "<Figure size 432x288 with 1 Axes>"
            ]
          },
          "metadata": {
            "needs_background": "light"
          }
        }
      ]
    },
    {
      "cell_type": "markdown",
      "metadata": {
        "id": "Ut4k2Bjnr03z"
      },
      "source": [
        "#### Making Predictions: "
      ]
    },
    {
      "cell_type": "code",
      "metadata": {
        "id": "T_vTAm_jr03z",
        "colab": {
          "base_uri": "https://localhost:8080/"
        },
        "outputId": "0f505430-0e2b-41c3-f148-8535a3a39c11"
      },
      "source": [
        "y_pred=model.predict(X_test)\n",
        "y_pred_train = model.predict(X_train)"
      ],
      "execution_count": null,
      "outputs": [
        {
          "output_type": "stream",
          "name": "stdout",
          "text": [
            "WARNING:tensorflow:6 out of the last 9 calls to <function Model.make_predict_function.<locals>.predict_function at 0x7f0aa9357680> triggered tf.function retracing. Tracing is expensive and the excessive number of tracings could be due to (1) creating @tf.function repeatedly in a loop, (2) passing tensors with different shapes, (3) passing Python objects instead of tensors. For (1), please define your @tf.function outside of the loop. For (2), @tf.function has experimental_relax_shapes=True option that relaxes argument shapes that can avoid unnecessary retracing. For (3), please refer to https://www.tensorflow.org/guide/function#controlling_retracing and https://www.tensorflow.org/api_docs/python/tf/function for  more details.\n"
          ]
        }
      ]
    },
    {
      "cell_type": "code",
      "metadata": {
        "id": "muPKHNhC3oZV"
      },
      "source": [
        "y_pred_test_rev = y_scaler.inverse_transform(y_pred)\n",
        "y_pred_train_rev = y_scaler.inverse_transform(y_pred_train)\n",
        "y_train_rev = y_scaler.inverse_transform(y_train)\n",
        "y_test_rev = y_scaler.inverse_transform(y_test)"
      ],
      "execution_count": null,
      "outputs": []
    },
    {
      "cell_type": "code",
      "metadata": {
        "colab": {
          "base_uri": "https://localhost:8080/"
        },
        "id": "-Zl2Xxmy5VUS",
        "outputId": "b6be01f2-506e-41bc-bd06-e46fd4516c8e"
      },
      "source": [
        "import sklearn.metrics as sm\n",
        "print(\"Mean absolute error =\", \n",
        "      round(sm.mean_absolute_error(y_test_rev, y_pred_test_rev), 5)) \n",
        "print(\"Mean squared error =\", \n",
        "      round(sm.mean_squared_error(y_test_rev, y_pred_test_rev), 5)) \n",
        "print(\"Median absolute error =\", \n",
        "      round(sm.median_absolute_error(y_test_rev, y_pred_test_rev), 5)) \n",
        "print(\"Explain variance score =\", \n",
        "      round(sm.explained_variance_score(y_test_rev, y_pred_test_rev), 5)) \n",
        "print(\"R2 score =\", \n",
        "      round(sm.r2_score(y_test_rev, y_pred_test_rev), 5))"
      ],
      "execution_count": null,
      "outputs": [
        {
          "output_type": "stream",
          "name": "stdout",
          "text": [
            "Mean absolute error = 0.09056\n",
            "Mean squared error = 0.01621\n",
            "Median absolute error = 0.07282\n",
            "Explain variance score = -0.03884\n",
            "R2 score = -0.18412\n"
          ]
        }
      ]
    },
    {
      "cell_type": "code",
      "metadata": {
        "colab": {
          "base_uri": "https://localhost:8080/"
        },
        "id": "vwJzz8OT4VRQ",
        "outputId": "d5e81e62-149f-44ed-bf8e-c679decf9c29"
      },
      "source": [
        "trainScore = sm.mean_squared_error(y_train_rev, y_pred_train_rev) ** .5\n",
        "print('Train Score: %.2f RMSE' % (trainScore))\n",
        "testScore = sm.mean_squared_error(y_test_rev, y_pred_test_rev) ** .5\n",
        "print('Test Score: %.2f RMSE' % (testScore))"
      ],
      "execution_count": null,
      "outputs": [
        {
          "output_type": "stream",
          "name": "stdout",
          "text": [
            "Train Score: 0.11 RMSE\n",
            "Test Score: 0.13 RMSE\n"
          ]
        }
      ]
    },
    {
      "cell_type": "code",
      "metadata": {
        "colab": {
          "base_uri": "https://localhost:8080/",
          "height": 278
        },
        "id": "GPKXjjrQr03z",
        "outputId": "6c62141c-84d9-4896-c62c-d0042725233e"
      },
      "source": [
        "plt.plot(np.arange(0, len(y_train_rev)), y_train_rev, 'g', label=\"history\")\n",
        "plt.plot(np.arange(0, len(y_pred_train_rev)), y_pred_train_rev, 'orange', label=\"Pred. Training\")\n",
        "plt.plot(np.arange(len(y_train_rev), len(y_train_rev) + len(y_test_rev)), y_test_rev, marker='.', label=\"true\")\n",
        "plt.plot(np.arange(len(y_train_rev), len(y_train_rev) + len(y_test_rev)), y_pred_test_rev, 'r', label=\"prediction\")\n",
        "plt.ylabel('DOGE Close')\n",
        "plt.xlabel('Time Step')\n",
        "plt.legend()\n",
        "plt.show();"
      ],
      "execution_count": null,
      "outputs": [
        {
          "output_type": "display_data",
          "data": {
            "image/png": "[encoded data removed]",
            "text/plain": [
              "<Figure size 432x288 with 1 Axes>"
            ]
          },
          "metadata": {
            "needs_background": "light"
          }
        }
      ]
    },
    {
      "cell_type": "code",
      "metadata": {
        "colab": {
          "base_uri": "https://localhost:8080/",
          "height": 278
        },
        "id": "C4oLoL9rr030",
        "outputId": "7c420f9f-0b60-4c16-ad68-c661cf643d26"
      },
      "source": [
        "plt.plot(y_test_rev, marker='.', label=\"true\")\n",
        "plt.plot(y_pred_test_rev, 'r', label=\"prediction\")\n",
        "plt.ylabel('DOGE Close')\n",
        "plt.xlabel('Time Step')\n",
        "plt.legend()\n",
        "plt.show();"
      ],
      "execution_count": null,
      "outputs": [
        {
          "output_type": "display_data",
          "data": {
            "image/png": "[encoded data removed]",
            "text/plain": [
              "<Figure size 432x288 with 1 Axes>"
            ]
          },
          "metadata": {
            "needs_background": "light"
          }
        }
      ]
    },
    {
      "cell_type": "code",
      "metadata": {
        "id": "abvLyBoyLmLB"
      },
      "source": [],
      "execution_count": null,
      "outputs": []
    },
    {
      "cell_type": "markdown",
      "metadata": {
        "id": "kK2WVTBfRDmc"
      },
      "source": [
        "## Modeling 5\n",
        "\n",
        "Sequential LSTM  Keras Model:\n",
        "StandardScaler"
      ]
    },
    {
      "cell_type": "code",
      "metadata": {
        "colab": {
          "base_uri": "https://localhost:8080/"
        },
        "id": "OX3Lj2IyRDmm",
        "outputId": "d6bb0921-edc1-4026-8afb-459d0cadbefe"
      },
      "source": [
        "# defining tran and test: \n",
        "train_size = int(len(df1)*0.9)\n",
        "test_size = len(df1) - train_size \n",
        "\n",
        "train,test=df1.iloc[0:train_size],df1.iloc[train_size:len(df1)]\n",
        "print(len(train),len(test))"
      ],
      "execution_count": null,
      "outputs": [
        {
          "output_type": "stream",
          "name": "stdout",
          "text": [
            "464 52\n"
          ]
        }
      ]
    },
    {
      "cell_type": "code",
      "metadata": {
        "colab": {
          "base_uri": "https://localhost:8080/"
        },
        "id": "PbLOufELRDmm",
        "outputId": "00b09bda-ebcd-4ce4-92b0-6c604c2901ec"
      },
      "source": [
        "# Nomralization: \n",
        "# fit_transform() for training, transform() for test to avoid data leakage \n",
        "\n",
        "y_train,y_test = df1.dog_close.iloc[0:train_size],df1.dog_close.iloc[train_size:len(df1)]\n",
        "\n",
        "y_train,y_test = y_train.values.reshape(-1, 1),y_test.values.reshape(-1, 1)\n",
        "\n",
        "\n",
        "from sklearn.preprocessing import StandardScaler\n",
        "\n",
        "x_scaler = StandardScaler()\n",
        "y_scaler = StandardScaler()\n",
        "\n",
        "train = x_scaler.fit_transform(train)\n",
        "y_train = y_scaler.fit_transform(y_train)\n",
        "\n",
        "test =  x_scaler.transform(test)\n",
        "y_test = y_scaler.transform(y_test)\n",
        "\n",
        "print('x:',train.shape,test.shape)\n",
        "print('y:', y_train.shape,y_test.shape)"
      ],
      "execution_count": null,
      "outputs": [
        {
          "output_type": "stream",
          "name": "stdout",
          "text": [
            "x: (464, 16) (52, 16)\n",
            "y: (464, 1) (52, 1)\n"
          ]
        }
      ]
    },
    {
      "cell_type": "code",
      "metadata": {
        "id": "FVVOejZ8RDmn"
      },
      "source": [
        "def split_sequences(x,y,n_steps):\n",
        "  X,Y = list(),list()\n",
        "  for i in range(len(x)):\n",
        "    end_ix = i+n_steps\n",
        "    if end_ix >= len(x): \n",
        "      break\n",
        "    else: \n",
        "        #seq_x, seq_y = x[i:end_ix, :-1,:], y[i+n_steps]\n",
        "        seq_x, seq_y = x[i : end_ix], y[i+n_steps]\n",
        "        X.append(seq_x)\n",
        "        Y.append(seq_y)\n",
        "  return array(X),array(Y)"
      ],
      "execution_count": null,
      "outputs": []
    },
    {
      "cell_type": "code",
      "metadata": {
        "id": "PxGKlQMoRDmn"
      },
      "source": [
        "n_steps = 10\n",
        "X_train,y_train=split_sequences(train,y_train,n_steps)\n",
        "X_test,y_test=split_sequences(test,y_test,n_steps)"
      ],
      "execution_count": null,
      "outputs": []
    },
    {
      "cell_type": "code",
      "metadata": {
        "colab": {
          "base_uri": "https://localhost:8080/"
        },
        "id": "XCIsjGcsRDmn",
        "outputId": "b8e267d6-f38f-45c1-cdf1-0e2970002000"
      },
      "source": [
        "print('Input shape is:',X_train.shape[1],X_train.shape[2])\n",
        "\n",
        "model = keras.Sequential()\n",
        "model.add(keras.layers.LSTM(\n",
        "    units = 128,\n",
        "    input_shape=(X_train.shape[1],X_train.shape[2]),\n",
        "    return_sequences=True\n",
        "))\n",
        "model.add(keras.layers.LSTM(\n",
        "    units = 128,\n",
        "    return_sequences=True\n",
        "))\n",
        "model.add(keras.layers.LSTM(\n",
        "    units = 64\n",
        "))\n",
        "model.add(keras.layers.Dense(units=1))\n",
        "\n",
        "model.compile(\n",
        "    loss = 'mean_squared_error',\n",
        "    optimizer = keras.optimizers.Adam(0.001)\n",
        ")"
      ],
      "execution_count": null,
      "outputs": [
        {
          "output_type": "stream",
          "name": "stdout",
          "text": [
            "Input shape is: 10 16\n"
          ]
        }
      ]
    },
    {
      "cell_type": "code",
      "metadata": {
        "colab": {
          "base_uri": "https://localhost:8080/"
        },
        "id": "P7wZQVSmRDmn",
        "outputId": "00cab4e5-5b35-4639-ce31-5ac9775a4f6d"
      },
      "source": [
        "model.summary()"
      ],
      "execution_count": null,
      "outputs": [
        {
          "output_type": "stream",
          "name": "stdout",
          "text": [
            "Model: \"sequential_6\"\n",
            "_________________________________________________________________\n",
            " Layer (type)                Output Shape              Param #   \n",
            "=================================================================\n",
            " lstm_8 (LSTM)               (None, 10, 128)           74240     \n",
            "                                                                 \n",
            " lstm_9 (LSTM)               (None, 10, 128)           131584    \n",
            "                                                                 \n",
            " lstm_10 (LSTM)              (None, 64)                49408     \n",
            "                                                                 \n",
            " dense_6 (Dense)             (None, 1)                 65        \n",
            "                                                                 \n",
            "=================================================================\n",
            "Total params: 255,297\n",
            "Trainable params: 255,297\n",
            "Non-trainable params: 0\n",
            "_________________________________________________________________\n"
          ]
        }
      ]
    },
    {
      "cell_type": "markdown",
      "metadata": {
        "id": "Fxug_NU5RDmo"
      },
      "source": [
        "#### Training: "
      ]
    },
    {
      "cell_type": "code",
      "metadata": {
        "id": "t7N2iypDRDmo"
      },
      "source": [
        "history = model.fit(\n",
        "    X_train,y_train,\n",
        "    epochs=200,\n",
        "    batch_size=16,\n",
        "    validation_split = 0.1,\n",
        "    verbose=0,\n",
        "    shuffle=False\n",
        ")"
      ],
      "execution_count": null,
      "outputs": []
    },
    {
      "cell_type": "code",
      "metadata": {
        "colab": {
          "base_uri": "https://localhost:8080/",
          "height": 282
        },
        "id": "ZgrXbIU8RDmo",
        "outputId": "db1ba9c7-9430-47f6-f374-24d93fb75c05"
      },
      "source": [
        "plt.plot(history.history['loss'], label='Training loss')\n",
        "plt.plot(history.history['val_loss'], label='Validation loss')\n",
        "plt.legend()"
      ],
      "execution_count": null,
      "outputs": [
        {
          "output_type": "execute_result",
          "data": {
            "text/plain": [
              "<matplotlib.legend.Legend at 0x7f0aa1850b90>"
            ]
          },
          "metadata": {},
          "execution_count": 89
        },
        {
          "output_type": "display_data",
          "data": {
            "image/png": "[encoded data removed]",
            "text/plain": [
              "<Figure size 432x288 with 1 Axes>"
            ]
          },
          "metadata": {
            "needs_background": "light"
          }
        }
      ]
    },
    {
      "cell_type": "markdown",
      "metadata": {
        "id": "r82wuX6oRDmo"
      },
      "source": [
        "#### Making Predictions: "
      ]
    },
    {
      "cell_type": "code",
      "metadata": {
        "id": "Z9Up9f0dRDmo"
      },
      "source": [
        "y_pred=model.predict(X_test)\n",
        "y_pred_train = model.predict(X_train)"
      ],
      "execution_count": null,
      "outputs": []
    },
    {
      "cell_type": "code",
      "metadata": {
        "id": "dlijcXJvRDmo"
      },
      "source": [
        "y_pred_test_rev = y_scaler.inverse_transform(y_pred)\n",
        "y_pred_train_rev = y_scaler.inverse_transform(y_pred_train)\n",
        "y_train_rev = y_scaler.inverse_transform(y_train)\n",
        "y_test_rev = y_scaler.inverse_transform(y_test)"
      ],
      "execution_count": null,
      "outputs": []
    },
    {
      "cell_type": "code",
      "metadata": {
        "colab": {
          "base_uri": "https://localhost:8080/"
        },
        "id": "6p77zdZGRDmo",
        "outputId": "3883d9c1-0589-4584-8296-e0fa5cfd9b0c"
      },
      "source": [
        "import sklearn.metrics as sm\n",
        "print(\"Mean absolute error =\", \n",
        "      round(sm.mean_absolute_error(y_test_rev, y_pred_test_rev), 5)) \n",
        "print(\"Mean squared error =\", \n",
        "      round(sm.mean_squared_error(y_test_rev, y_pred_test_rev), 5)) \n",
        "print(\"Median absolute error =\", \n",
        "      round(sm.median_absolute_error(y_test_rev, y_pred_test_rev), 5)) \n",
        "print(\"Explain variance score =\", \n",
        "      round(sm.explained_variance_score(y_test_rev, y_pred_test_rev), 5)) \n",
        "print(\"R2 score =\", \n",
        "      round(sm.r2_score(y_test_rev, y_pred_test_rev), 5))"
      ],
      "execution_count": null,
      "outputs": [
        {
          "output_type": "stream",
          "name": "stdout",
          "text": [
            "Mean absolute error = 0.09613\n",
            "Mean squared error = 0.01935\n",
            "Median absolute error = 0.05974\n",
            "Explain variance score = -0.39402\n",
            "R2 score = -0.41315\n"
          ]
        }
      ]
    },
    {
      "cell_type": "code",
      "metadata": {
        "colab": {
          "base_uri": "https://localhost:8080/"
        },
        "id": "5IAJRGUbRDmp",
        "outputId": "0abbe937-e347-4e1d-ed72-cb40c3a8e7e1"
      },
      "source": [
        "trainScore = sm.mean_squared_error(y_train_rev, y_pred_train_rev) ** .5\n",
        "print('Train Score: %.2f RMSE' % (trainScore))\n",
        "testScore = sm.mean_squared_error(y_test_rev, y_pred_test_rev) ** .5\n",
        "print('Test Score: %.2f RMSE' % (testScore))"
      ],
      "execution_count": null,
      "outputs": [
        {
          "output_type": "stream",
          "name": "stdout",
          "text": [
            "Train Score: 0.06 RMSE\n",
            "Test Score: 0.14 RMSE\n"
          ]
        }
      ]
    },
    {
      "cell_type": "code",
      "metadata": {
        "colab": {
          "base_uri": "https://localhost:8080/",
          "height": 278
        },
        "id": "OlX476oURDmp",
        "outputId": "fd158ee3-8d37-41a3-c0c6-c4b58c534f42"
      },
      "source": [
        "plt.plot(np.arange(0, len(y_train_rev)), y_train_rev, 'g', label=\"history\")\n",
        "plt.plot(np.arange(0, len(y_pred_train_rev)), y_pred_train_rev, 'orange', label=\"Pred. Training\")\n",
        "plt.plot(np.arange(len(y_train_rev), len(y_train_rev) + len(y_test_rev)), y_test_rev, marker='.', label=\"true\")\n",
        "plt.plot(np.arange(len(y_train_rev), len(y_train_rev) + len(y_test_rev)), y_pred_test_rev, 'r', label=\"prediction\")\n",
        "plt.ylabel('DOGE Close')\n",
        "plt.xlabel('Time Step')\n",
        "plt.legend()\n",
        "plt.show();"
      ],
      "execution_count": null,
      "outputs": [
        {
          "output_type": "display_data",
          "data": {
            "image/png": "[encoded data removed]",
            "text/plain": [
              "<Figure size 432x288 with 1 Axes>"
            ]
          },
          "metadata": {
            "needs_background": "light"
          }
        }
      ]
    },
    {
      "cell_type": "code",
      "metadata": {
        "colab": {
          "base_uri": "https://localhost:8080/",
          "height": 278
        },
        "id": "gJ4ijK9tRDmr",
        "outputId": "3263b7a5-46d6-4193-c368-dac58be1803e"
      },
      "source": [
        "plt.plot(y_test_rev, marker='.', label=\"true\")\n",
        "plt.plot(y_pred_test_rev, 'r', label=\"prediction\")\n",
        "plt.ylabel('DOGE Close')\n",
        "plt.xlabel('Time Step')\n",
        "plt.legend()\n",
        "plt.show();"
      ],
      "execution_count": null,
      "outputs": [
        {
          "output_type": "display_data",
          "data": {
            "image/png": "[encoded data removed]",
            "text/plain": [
              "<Figure size 432x288 with 1 Axes>"
            ]
          },
          "metadata": {
            "needs_background": "light"
          }
        }
      ]
    },
    {
      "cell_type": "code",
      "metadata": {
        "id": "u-Bv8B5lRDmr"
      },
      "source": [
        "r = y_test_rev.cumsum()"
      ],
      "execution_count": null,
      "outputs": []
    },
    {
      "cell_type": "code",
      "metadata": {
        "id": "nycDFAeyUhqF"
      },
      "source": [
        "t = y_pred_test_rev.cumsum()"
      ],
      "execution_count": null,
      "outputs": []
    },
    {
      "cell_type": "code",
      "metadata": {
        "colab": {
          "base_uri": "https://localhost:8080/",
          "height": 278
        },
        "id": "3r1AhPCvUlY6",
        "outputId": "b8ded5e6-0dc6-424b-da7d-ea85c9c95ec8"
      },
      "source": [
        "plt.plot(r, marker='.', label=\"true\")\n",
        "plt.plot(t, 'r', label=\"prediction\")\n",
        "plt.ylabel('DOGE Close')\n",
        "plt.xlabel('Time Step')\n",
        "plt.legend()\n",
        "plt.show();"
      ],
      "execution_count": null,
      "outputs": [
        {
          "output_type": "display_data",
          "data": {
            "image/png": "[encoded data removed]",
            "text/plain": [
              "<Figure size 432x288 with 1 Axes>"
            ]
          },
          "metadata": {
            "needs_background": "light"
          }
        }
      ]
    },
    {
      "cell_type": "code",
      "metadata": {
        "id": "hsxxzl0cUvsy"
      },
      "source": [],
      "execution_count": null,
      "outputs": []
    }
  ]
}